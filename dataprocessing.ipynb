{
 "metadata": {
  "language_info": {
   "codemirror_mode": {
    "name": "ipython",
    "version": 3
   },
   "file_extension": ".py",
   "mimetype": "text/x-python",
   "name": "python",
   "nbconvert_exporter": "python",
   "pygments_lexer": "ipython3",
   "version": "3.8.8"
  },
  "orig_nbformat": 2,
  "kernelspec": {
   "name": "python388jvsc74a57bd0f7be44ff6d022abcdd56ca5d84b9c7c57bcc1116775f704a69faf25b23490917",
   "display_name": "Python 3.8.8 64-bit ('ai': conda)"
  }
 },
 "nbformat": 4,
 "nbformat_minor": 2,
 "cells": [
  {
   "cell_type": "code",
   "execution_count": 1,
   "metadata": {},
   "outputs": [],
   "source": [
    "import numpy as np \n",
    "import pandas as pd\n",
    "import matplotlib.pyplot as plt\n",
    "import seaborn as sns"
   ]
  },
  {
   "cell_type": "code",
   "execution_count": 2,
   "metadata": {},
   "outputs": [],
   "source": [
    "train = pd.read_csv('../SLD/sign_mnist_train.csv')\n",
    "test= pd.read_csv('../SLD/sign_mnist_test.csv')"
   ]
  },
  {
   "cell_type": "code",
   "execution_count": 3,
   "metadata": {},
   "outputs": [
    {
     "output_type": "execute_result",
     "data": {
      "text/plain": [
       "   label  pixel1  pixel2  pixel3  pixel4  pixel5  pixel6  pixel7  pixel8  \\\n",
       "0      3     107     118     127     134     139     143     146     150   \n",
       "1      6     155     157     156     156     156     157     156     158   \n",
       "2      2     187     188     188     187     187     186     187     188   \n",
       "3      2     211     211     212     212     211     210     211     210   \n",
       "4     13     164     167     170     172     176     179     180     184   \n",
       "\n",
       "   pixel9  ...  pixel775  pixel776  pixel777  pixel778  pixel779  pixel780  \\\n",
       "0     153  ...       207       207       207       207       206       206   \n",
       "1     158  ...        69       149       128        87        94       163   \n",
       "2     187  ...       202       201       200       199       198       199   \n",
       "3     210  ...       235       234       233       231       230       226   \n",
       "4     185  ...        92       105       105       108       133       163   \n",
       "\n",
       "   pixel781  pixel782  pixel783  pixel784  \n",
       "0       206       204       203       202  \n",
       "1       175       103       135       149  \n",
       "2       198       195       194       195  \n",
       "3       225       222       229       163  \n",
       "4       157       163       164       179  \n",
       "\n",
       "[5 rows x 785 columns]"
      ],
      "text/html": "<div>\n<style scoped>\n    .dataframe tbody tr th:only-of-type {\n        vertical-align: middle;\n    }\n\n    .dataframe tbody tr th {\n        vertical-align: top;\n    }\n\n    .dataframe thead th {\n        text-align: right;\n    }\n</style>\n<table border=\"1\" class=\"dataframe\">\n  <thead>\n    <tr style=\"text-align: right;\">\n      <th></th>\n      <th>label</th>\n      <th>pixel1</th>\n      <th>pixel2</th>\n      <th>pixel3</th>\n      <th>pixel4</th>\n      <th>pixel5</th>\n      <th>pixel6</th>\n      <th>pixel7</th>\n      <th>pixel8</th>\n      <th>pixel9</th>\n      <th>...</th>\n      <th>pixel775</th>\n      <th>pixel776</th>\n      <th>pixel777</th>\n      <th>pixel778</th>\n      <th>pixel779</th>\n      <th>pixel780</th>\n      <th>pixel781</th>\n      <th>pixel782</th>\n      <th>pixel783</th>\n      <th>pixel784</th>\n    </tr>\n  </thead>\n  <tbody>\n    <tr>\n      <th>0</th>\n      <td>3</td>\n      <td>107</td>\n      <td>118</td>\n      <td>127</td>\n      <td>134</td>\n      <td>139</td>\n      <td>143</td>\n      <td>146</td>\n      <td>150</td>\n      <td>153</td>\n      <td>...</td>\n      <td>207</td>\n      <td>207</td>\n      <td>207</td>\n      <td>207</td>\n      <td>206</td>\n      <td>206</td>\n      <td>206</td>\n      <td>204</td>\n      <td>203</td>\n      <td>202</td>\n    </tr>\n    <tr>\n      <th>1</th>\n      <td>6</td>\n      <td>155</td>\n      <td>157</td>\n      <td>156</td>\n      <td>156</td>\n      <td>156</td>\n      <td>157</td>\n      <td>156</td>\n      <td>158</td>\n      <td>158</td>\n      <td>...</td>\n      <td>69</td>\n      <td>149</td>\n      <td>128</td>\n      <td>87</td>\n      <td>94</td>\n      <td>163</td>\n      <td>175</td>\n      <td>103</td>\n      <td>135</td>\n      <td>149</td>\n    </tr>\n    <tr>\n      <th>2</th>\n      <td>2</td>\n      <td>187</td>\n      <td>188</td>\n      <td>188</td>\n      <td>187</td>\n      <td>187</td>\n      <td>186</td>\n      <td>187</td>\n      <td>188</td>\n      <td>187</td>\n      <td>...</td>\n      <td>202</td>\n      <td>201</td>\n      <td>200</td>\n      <td>199</td>\n      <td>198</td>\n      <td>199</td>\n      <td>198</td>\n      <td>195</td>\n      <td>194</td>\n      <td>195</td>\n    </tr>\n    <tr>\n      <th>3</th>\n      <td>2</td>\n      <td>211</td>\n      <td>211</td>\n      <td>212</td>\n      <td>212</td>\n      <td>211</td>\n      <td>210</td>\n      <td>211</td>\n      <td>210</td>\n      <td>210</td>\n      <td>...</td>\n      <td>235</td>\n      <td>234</td>\n      <td>233</td>\n      <td>231</td>\n      <td>230</td>\n      <td>226</td>\n      <td>225</td>\n      <td>222</td>\n      <td>229</td>\n      <td>163</td>\n    </tr>\n    <tr>\n      <th>4</th>\n      <td>13</td>\n      <td>164</td>\n      <td>167</td>\n      <td>170</td>\n      <td>172</td>\n      <td>176</td>\n      <td>179</td>\n      <td>180</td>\n      <td>184</td>\n      <td>185</td>\n      <td>...</td>\n      <td>92</td>\n      <td>105</td>\n      <td>105</td>\n      <td>108</td>\n      <td>133</td>\n      <td>163</td>\n      <td>157</td>\n      <td>163</td>\n      <td>164</td>\n      <td>179</td>\n    </tr>\n  </tbody>\n</table>\n<p>5 rows × 785 columns</p>\n</div>"
     },
     "metadata": {},
     "execution_count": 3
    }
   ],
   "source": [
    "train.head()"
   ]
  },
  {
   "cell_type": "code",
   "execution_count": 4,
   "metadata": {},
   "outputs": [],
   "source": [
    "labels = train['label'].values"
   ]
  },
  {
   "cell_type": "code",
   "execution_count": 5,
   "metadata": {},
   "outputs": [
    {
     "output_type": "execute_result",
     "data": {
      "text/plain": [
       "array([ 0,  1,  2,  3,  4,  5,  6,  7,  8, 10, 11, 12, 13, 14, 15, 16, 17,\n",
       "       18, 19, 20, 21, 22, 23, 24], dtype=int64)"
      ]
     },
     "metadata": {},
     "execution_count": 5
    }
   ],
   "source": [
    "unique_values = np.array(labels)\n",
    "np.unique(unique_values)"
   ]
  },
  {
   "cell_type": "code",
   "execution_count": 6,
   "metadata": {},
   "outputs": [
    {
     "output_type": "execute_result",
     "data": {
      "text/plain": [
       "<AxesSubplot:ylabel='count'>"
      ]
     },
     "metadata": {},
     "execution_count": 6
    },
    {
     "output_type": "display_data",
     "data": {
      "text/plain": "<Figure size 1080x1080 with 1 Axes>",
      "image/svg+xml": "<?xml version=\"1.0\" encoding=\"utf-8\" standalone=\"no\"?>\r\n<!DOCTYPE svg PUBLIC \"-//W3C//DTD SVG 1.1//EN\"\r\n  \"http://www.w3.org/Graphics/SVG/1.1/DTD/svg11.dtd\">\r\n<!-- Created with matplotlib (https://matplotlib.org/) -->\r\n<svg height=\"846.478125pt\" version=\"1.1\" viewBox=\"0 0 897.528125 846.478125\" width=\"897.528125pt\" xmlns=\"http://www.w3.org/2000/svg\" xmlns:xlink=\"http://www.w3.org/1999/xlink\">\r\n <metadata>\r\n  <rdf:RDF xmlns:cc=\"http://creativecommons.org/ns#\" xmlns:dc=\"http://purl.org/dc/elements/1.1/\" xmlns:rdf=\"http://www.w3.org/1999/02/22-rdf-syntax-ns#\">\r\n   <cc:Work>\r\n    <dc:type rdf:resource=\"http://purl.org/dc/dcmitype/StillImage\"/>\r\n    <dc:date>2021-05-18T19:29:55.436172</dc:date>\r\n    <dc:format>image/svg+xml</dc:format>\r\n    <dc:creator>\r\n     <cc:Agent>\r\n      <dc:title>Matplotlib v3.3.4, https://matplotlib.org/</dc:title>\r\n     </cc:Agent>\r\n    </dc:creator>\r\n   </cc:Work>\r\n  </rdf:RDF>\r\n </metadata>\r\n <defs>\r\n  <style type=\"text/css\">*{stroke-linecap:butt;stroke-linejoin:round;}</style>\r\n </defs>\r\n <g id=\"figure_1\">\r\n  <g id=\"patch_1\">\r\n   <path d=\"M 0 846.478125 \r\nL 897.528125 846.478125 \r\nL 897.528125 -0 \r\nL 0 -0 \r\nz\r\n\" style=\"fill:none;\"/>\r\n  </g>\r\n  <g id=\"axes_1\">\r\n   <g id=\"patch_2\">\r\n    <path d=\"M 53.328125 822.6 \r\nL 890.328125 822.6 \r\nL 890.328125 7.2 \r\nL 53.328125 7.2 \r\nz\r\n\" style=\"fill:#ffffff;\"/>\r\n   </g>\r\n   <g id=\"patch_3\">\r\n    <path clip-path=\"url(#p2ab007e1f2)\" d=\"M 56.815625 822.6 \r\nL 84.715625 822.6 \r\nL 84.715625 146.850828 \r\nL 56.815625 146.850828 \r\nz\r\n\" style=\"fill:#ea96a3;\"/>\r\n   </g>\r\n   <g id=\"patch_4\">\r\n    <path clip-path=\"url(#p2ab007e1f2)\" d=\"M 91.690625 822.6 \r\nL 119.590625 822.6 \r\nL 119.590625 216.466196 \r\nL 91.690625 216.466196 \r\nz\r\n\" style=\"fill:#e8968a;\"/>\r\n   </g>\r\n   <g id=\"patch_5\">\r\n    <path clip-path=\"url(#p2ab007e1f2)\" d=\"M 126.565625 822.6 \r\nL 154.465625 822.6 \r\nL 154.465625 136.048443 \r\nL 126.565625 136.048443 \r\nz\r\n\" style=\"fill:#e19153;\"/>\r\n   </g>\r\n   <g id=\"patch_6\">\r\n    <path clip-path=\"url(#p2ab007e1f2)\" d=\"M 161.440625 822.6 \r\nL 189.340625 822.6 \r\nL 189.340625 104.841554 \r\nL 161.440625 104.841554 \r\nz\r\n\" style=\"fill:#ca984c;\"/>\r\n   </g>\r\n   <g id=\"patch_7\">\r\n    <path clip-path=\"url(#p2ab007e1f2)\" d=\"M 196.315625 822.6 \r\nL 224.215625 822.6 \r\nL 224.215625 248.273217 \r\nL 196.315625 248.273217 \r\nz\r\n\" style=\"fill:#b89c49;\"/>\r\n   </g>\r\n   <g id=\"patch_8\">\r\n    <path clip-path=\"url(#p2ab007e1f2)\" d=\"M 231.190625 822.6 \r\nL 259.090625 822.6 \r\nL 259.090625 100.040495 \r\nL 231.190625 100.040495 \r\nz\r\n\" style=\"fill:#a89e47;\"/>\r\n   </g>\r\n   <g id=\"patch_9\">\r\n    <path clip-path=\"url(#p2ab007e1f2)\" d=\"M 266.065625 822.6 \r\nL 293.965625 822.6 \r\nL 293.965625 168.455597 \r\nL 266.065625 168.455597 \r\nz\r\n\" style=\"fill:#98a246;\"/>\r\n   </g>\r\n   <g id=\"patch_10\">\r\n    <path clip-path=\"url(#p2ab007e1f2)\" d=\"M 300.940625 822.6 \r\nL 328.840625 822.6 \r\nL 328.840625 214.665798 \r\nL 300.940625 214.665798 \r\nz\r\n\" style=\"fill:#84a846;\"/>\r\n   </g>\r\n   <g id=\"patch_11\">\r\n    <path clip-path=\"url(#p2ab007e1f2)\" d=\"M 335.815625 822.6 \r\nL 363.715625 822.6 \r\nL 363.715625 125.246059 \r\nL 335.815625 125.246059 \r\nz\r\n\" style=\"fill:#60ae47;\"/>\r\n   </g>\r\n   <g id=\"patch_12\">\r\n    <path clip-path=\"url(#p2ab007e1f2)\" d=\"M 370.690625 822.6 \r\nL 398.590625 822.6 \r\nL 398.590625 154.052418 \r\nL 370.690625 154.052418 \r\nz\r\n\" style=\"fill:#49af72;\"/>\r\n   </g>\r\n   <g id=\"patch_13\">\r\n    <path clip-path=\"url(#p2ab007e1f2)\" d=\"M 405.565625 822.6 \r\nL 433.465625 822.6 \r\nL 433.465625 77.835593 \r\nL 405.565625 77.835593 \r\nz\r\n\" style=\"fill:#4aae8a;\"/>\r\n   </g>\r\n   <g id=\"patch_14\">\r\n    <path clip-path=\"url(#p2ab007e1f2)\" d=\"M 440.440625 822.6 \r\nL 468.340625 822.6 \r\nL 468.340625 189.460234 \r\nL 440.440625 189.460234 \r\nz\r\n\" style=\"fill:#4aac99;\"/>\r\n   </g>\r\n   <g id=\"patch_15\">\r\n    <path clip-path=\"url(#p2ab007e1f2)\" d=\"M 475.315625 822.6 \r\nL 503.215625 822.6 \r\nL 503.215625 131.847516 \r\nL 475.315625 131.847516 \r\nz\r\n\" style=\"fill:#4baba4;\"/>\r\n   </g>\r\n   <g id=\"patch_16\">\r\n    <path clip-path=\"url(#p2ab007e1f2)\" d=\"M 510.190625 822.6 \r\nL 538.090625 822.6 \r\nL 538.090625 104.841554 \r\nL 510.190625 104.841554 \r\nz\r\n\" style=\"fill:#4cabaf;\"/>\r\n   </g>\r\n   <g id=\"patch_17\">\r\n    <path clip-path=\"url(#p2ab007e1f2)\" d=\"M 545.065625 822.6 \r\nL 572.965625 822.6 \r\nL 572.965625 169.655862 \r\nL 545.065625 169.655862 \r\nz\r\n\" style=\"fill:#4fabbc;\"/>\r\n   </g>\r\n   <g id=\"patch_18\">\r\n    <path clip-path=\"url(#p2ab007e1f2)\" d=\"M 579.940625 822.6 \r\nL 607.840625 822.6 \r\nL 607.840625 55.030559 \r\nL 579.940625 55.030559 \r\nz\r\n\" style=\"fill:#53accd;\"/>\r\n   </g>\r\n   <g id=\"patch_19\">\r\n    <path clip-path=\"url(#p2ab007e1f2)\" d=\"M 614.815625 822.6 \r\nL 642.715625 822.6 \r\nL 642.715625 46.028571 \r\nL 614.815625 46.028571 \r\nz\r\n\" style=\"fill:#6daee2;\"/>\r\n   </g>\r\n   <g id=\"patch_20\">\r\n    <path clip-path=\"url(#p2ab007e1f2)\" d=\"M 649.690625 822.6 \r\nL 677.590625 822.6 \r\nL 677.590625 103.041157 \r\nL 649.690625 103.041157 \r\nz\r\n\" style=\"fill:#9bade9;\"/>\r\n   </g>\r\n   <g id=\"patch_21\">\r\n    <path clip-path=\"url(#p2ab007e1f2)\" d=\"M 684.565625 822.6 \r\nL 712.465625 822.6 \r\nL 712.465625 110.842879 \r\nL 684.565625 110.842879 \r\nz\r\n\" style=\"fill:#b6a8eb;\"/>\r\n   </g>\r\n   <g id=\"patch_22\">\r\n    <path clip-path=\"url(#p2ab007e1f2)\" d=\"M 719.440625 822.6 \r\nL 747.340625 822.6 \r\nL 747.340625 125.846191 \r\nL 719.440625 125.846191 \r\nz\r\n\" style=\"fill:#ca9ee9;\"/>\r\n   </g>\r\n   <g id=\"patch_23\">\r\n    <path clip-path=\"url(#p2ab007e1f2)\" d=\"M 754.315625 822.6 \r\nL 782.215625 822.6 \r\nL 782.215625 173.256657 \r\nL 754.315625 173.256657 \r\nz\r\n\" style=\"fill:#df8fe7;\"/>\r\n   </g>\r\n   <g id=\"patch_24\">\r\n    <path clip-path=\"url(#p2ab007e1f2)\" d=\"M 789.190625 822.6 \r\nL 817.090625 822.6 \r\nL 817.090625 87.437713 \r\nL 789.190625 87.437713 \r\nz\r\n\" style=\"fill:#e78cd7;\"/>\r\n   </g>\r\n   <g id=\"patch_25\">\r\n    <path clip-path=\"url(#p2ab007e1f2)\" d=\"M 824.065625 822.6 \r\nL 851.965625 822.6 \r\nL 851.965625 124.045794 \r\nL 824.065625 124.045794 \r\nz\r\n\" style=\"fill:#e890c6;\"/>\r\n   </g>\r\n   <g id=\"patch_26\">\r\n    <path clip-path=\"url(#p2ab007e1f2)\" d=\"M 858.940625 822.6 \r\nL 886.840625 822.6 \r\nL 886.840625 151.651888 \r\nL 858.940625 151.651888 \r\nz\r\n\" style=\"fill:#e993b6;\"/>\r\n   </g>\r\n   <g id=\"matplotlib.axis_1\">\r\n    <g id=\"xtick_1\">\r\n     <g id=\"line2d_1\">\r\n      <defs>\r\n       <path d=\"M 0 0 \r\nL 0 3.5 \r\n\" id=\"m67cd1e0e97\" style=\"stroke:#000000;stroke-width:0.8;\"/>\r\n      </defs>\r\n      <g>\r\n       <use style=\"stroke:#000000;stroke-width:0.8;\" x=\"70.765625\" xlink:href=\"#m67cd1e0e97\" y=\"822.6\"/>\r\n      </g>\r\n     </g>\r\n     <g id=\"text_1\">\r\n      <!-- 0 -->\r\n      <g transform=\"translate(67.584375 837.198437)scale(0.1 -0.1)\">\r\n       <defs>\r\n        <path d=\"M 31.78125 66.40625 \r\nQ 24.171875 66.40625 20.328125 58.90625 \r\nQ 16.5 51.421875 16.5 36.375 \r\nQ 16.5 21.390625 20.328125 13.890625 \r\nQ 24.171875 6.390625 31.78125 6.390625 \r\nQ 39.453125 6.390625 43.28125 13.890625 \r\nQ 47.125 21.390625 47.125 36.375 \r\nQ 47.125 51.421875 43.28125 58.90625 \r\nQ 39.453125 66.40625 31.78125 66.40625 \r\nz\r\nM 31.78125 74.21875 \r\nQ 44.046875 74.21875 50.515625 64.515625 \r\nQ 56.984375 54.828125 56.984375 36.375 \r\nQ 56.984375 17.96875 50.515625 8.265625 \r\nQ 44.046875 -1.421875 31.78125 -1.421875 \r\nQ 19.53125 -1.421875 13.0625 8.265625 \r\nQ 6.59375 17.96875 6.59375 36.375 \r\nQ 6.59375 54.828125 13.0625 64.515625 \r\nQ 19.53125 74.21875 31.78125 74.21875 \r\nz\r\n\" id=\"DejaVuSans-48\"/>\r\n       </defs>\r\n       <use xlink:href=\"#DejaVuSans-48\"/>\r\n      </g>\r\n     </g>\r\n    </g>\r\n    <g id=\"xtick_2\">\r\n     <g id=\"line2d_2\">\r\n      <g>\r\n       <use style=\"stroke:#000000;stroke-width:0.8;\" x=\"105.640625\" xlink:href=\"#m67cd1e0e97\" y=\"822.6\"/>\r\n      </g>\r\n     </g>\r\n     <g id=\"text_2\">\r\n      <!-- 1 -->\r\n      <g transform=\"translate(102.459375 837.198437)scale(0.1 -0.1)\">\r\n       <defs>\r\n        <path d=\"M 12.40625 8.296875 \r\nL 28.515625 8.296875 \r\nL 28.515625 63.921875 \r\nL 10.984375 60.40625 \r\nL 10.984375 69.390625 \r\nL 28.421875 72.90625 \r\nL 38.28125 72.90625 \r\nL 38.28125 8.296875 \r\nL 54.390625 8.296875 \r\nL 54.390625 0 \r\nL 12.40625 0 \r\nz\r\n\" id=\"DejaVuSans-49\"/>\r\n       </defs>\r\n       <use xlink:href=\"#DejaVuSans-49\"/>\r\n      </g>\r\n     </g>\r\n    </g>\r\n    <g id=\"xtick_3\">\r\n     <g id=\"line2d_3\">\r\n      <g>\r\n       <use style=\"stroke:#000000;stroke-width:0.8;\" x=\"140.515625\" xlink:href=\"#m67cd1e0e97\" y=\"822.6\"/>\r\n      </g>\r\n     </g>\r\n     <g id=\"text_3\">\r\n      <!-- 2 -->\r\n      <g transform=\"translate(137.334375 837.198437)scale(0.1 -0.1)\">\r\n       <defs>\r\n        <path d=\"M 19.1875 8.296875 \r\nL 53.609375 8.296875 \r\nL 53.609375 0 \r\nL 7.328125 0 \r\nL 7.328125 8.296875 \r\nQ 12.9375 14.109375 22.625 23.890625 \r\nQ 32.328125 33.6875 34.8125 36.53125 \r\nQ 39.546875 41.84375 41.421875 45.53125 \r\nQ 43.3125 49.21875 43.3125 52.78125 \r\nQ 43.3125 58.59375 39.234375 62.25 \r\nQ 35.15625 65.921875 28.609375 65.921875 \r\nQ 23.96875 65.921875 18.8125 64.3125 \r\nQ 13.671875 62.703125 7.8125 59.421875 \r\nL 7.8125 69.390625 \r\nQ 13.765625 71.78125 18.9375 73 \r\nQ 24.125 74.21875 28.421875 74.21875 \r\nQ 39.75 74.21875 46.484375 68.546875 \r\nQ 53.21875 62.890625 53.21875 53.421875 \r\nQ 53.21875 48.921875 51.53125 44.890625 \r\nQ 49.859375 40.875 45.40625 35.40625 \r\nQ 44.1875 33.984375 37.640625 27.21875 \r\nQ 31.109375 20.453125 19.1875 8.296875 \r\nz\r\n\" id=\"DejaVuSans-50\"/>\r\n       </defs>\r\n       <use xlink:href=\"#DejaVuSans-50\"/>\r\n      </g>\r\n     </g>\r\n    </g>\r\n    <g id=\"xtick_4\">\r\n     <g id=\"line2d_4\">\r\n      <g>\r\n       <use style=\"stroke:#000000;stroke-width:0.8;\" x=\"175.390625\" xlink:href=\"#m67cd1e0e97\" y=\"822.6\"/>\r\n      </g>\r\n     </g>\r\n     <g id=\"text_4\">\r\n      <!-- 3 -->\r\n      <g transform=\"translate(172.209375 837.198437)scale(0.1 -0.1)\">\r\n       <defs>\r\n        <path d=\"M 40.578125 39.3125 \r\nQ 47.65625 37.796875 51.625 33 \r\nQ 55.609375 28.21875 55.609375 21.1875 \r\nQ 55.609375 10.40625 48.1875 4.484375 \r\nQ 40.765625 -1.421875 27.09375 -1.421875 \r\nQ 22.515625 -1.421875 17.65625 -0.515625 \r\nQ 12.796875 0.390625 7.625 2.203125 \r\nL 7.625 11.71875 \r\nQ 11.71875 9.328125 16.59375 8.109375 \r\nQ 21.484375 6.890625 26.8125 6.890625 \r\nQ 36.078125 6.890625 40.9375 10.546875 \r\nQ 45.796875 14.203125 45.796875 21.1875 \r\nQ 45.796875 27.640625 41.28125 31.265625 \r\nQ 36.765625 34.90625 28.71875 34.90625 \r\nL 20.21875 34.90625 \r\nL 20.21875 43.015625 \r\nL 29.109375 43.015625 \r\nQ 36.375 43.015625 40.234375 45.921875 \r\nQ 44.09375 48.828125 44.09375 54.296875 \r\nQ 44.09375 59.90625 40.109375 62.90625 \r\nQ 36.140625 65.921875 28.71875 65.921875 \r\nQ 24.65625 65.921875 20.015625 65.03125 \r\nQ 15.375 64.15625 9.8125 62.3125 \r\nL 9.8125 71.09375 \r\nQ 15.4375 72.65625 20.34375 73.4375 \r\nQ 25.25 74.21875 29.59375 74.21875 \r\nQ 40.828125 74.21875 47.359375 69.109375 \r\nQ 53.90625 64.015625 53.90625 55.328125 \r\nQ 53.90625 49.265625 50.4375 45.09375 \r\nQ 46.96875 40.921875 40.578125 39.3125 \r\nz\r\n\" id=\"DejaVuSans-51\"/>\r\n       </defs>\r\n       <use xlink:href=\"#DejaVuSans-51\"/>\r\n      </g>\r\n     </g>\r\n    </g>\r\n    <g id=\"xtick_5\">\r\n     <g id=\"line2d_5\">\r\n      <g>\r\n       <use style=\"stroke:#000000;stroke-width:0.8;\" x=\"210.265625\" xlink:href=\"#m67cd1e0e97\" y=\"822.6\"/>\r\n      </g>\r\n     </g>\r\n     <g id=\"text_5\">\r\n      <!-- 4 -->\r\n      <g transform=\"translate(207.084375 837.198437)scale(0.1 -0.1)\">\r\n       <defs>\r\n        <path d=\"M 37.796875 64.3125 \r\nL 12.890625 25.390625 \r\nL 37.796875 25.390625 \r\nz\r\nM 35.203125 72.90625 \r\nL 47.609375 72.90625 \r\nL 47.609375 25.390625 \r\nL 58.015625 25.390625 \r\nL 58.015625 17.1875 \r\nL 47.609375 17.1875 \r\nL 47.609375 0 \r\nL 37.796875 0 \r\nL 37.796875 17.1875 \r\nL 4.890625 17.1875 \r\nL 4.890625 26.703125 \r\nz\r\n\" id=\"DejaVuSans-52\"/>\r\n       </defs>\r\n       <use xlink:href=\"#DejaVuSans-52\"/>\r\n      </g>\r\n     </g>\r\n    </g>\r\n    <g id=\"xtick_6\">\r\n     <g id=\"line2d_6\">\r\n      <g>\r\n       <use style=\"stroke:#000000;stroke-width:0.8;\" x=\"245.140625\" xlink:href=\"#m67cd1e0e97\" y=\"822.6\"/>\r\n      </g>\r\n     </g>\r\n     <g id=\"text_6\">\r\n      <!-- 5 -->\r\n      <g transform=\"translate(241.959375 837.198437)scale(0.1 -0.1)\">\r\n       <defs>\r\n        <path d=\"M 10.796875 72.90625 \r\nL 49.515625 72.90625 \r\nL 49.515625 64.59375 \r\nL 19.828125 64.59375 \r\nL 19.828125 46.734375 \r\nQ 21.96875 47.46875 24.109375 47.828125 \r\nQ 26.265625 48.1875 28.421875 48.1875 \r\nQ 40.625 48.1875 47.75 41.5 \r\nQ 54.890625 34.8125 54.890625 23.390625 \r\nQ 54.890625 11.625 47.5625 5.09375 \r\nQ 40.234375 -1.421875 26.90625 -1.421875 \r\nQ 22.3125 -1.421875 17.546875 -0.640625 \r\nQ 12.796875 0.140625 7.71875 1.703125 \r\nL 7.71875 11.625 \r\nQ 12.109375 9.234375 16.796875 8.0625 \r\nQ 21.484375 6.890625 26.703125 6.890625 \r\nQ 35.15625 6.890625 40.078125 11.328125 \r\nQ 45.015625 15.765625 45.015625 23.390625 \r\nQ 45.015625 31 40.078125 35.4375 \r\nQ 35.15625 39.890625 26.703125 39.890625 \r\nQ 22.75 39.890625 18.8125 39.015625 \r\nQ 14.890625 38.140625 10.796875 36.28125 \r\nz\r\n\" id=\"DejaVuSans-53\"/>\r\n       </defs>\r\n       <use xlink:href=\"#DejaVuSans-53\"/>\r\n      </g>\r\n     </g>\r\n    </g>\r\n    <g id=\"xtick_7\">\r\n     <g id=\"line2d_7\">\r\n      <g>\r\n       <use style=\"stroke:#000000;stroke-width:0.8;\" x=\"280.015625\" xlink:href=\"#m67cd1e0e97\" y=\"822.6\"/>\r\n      </g>\r\n     </g>\r\n     <g id=\"text_7\">\r\n      <!-- 6 -->\r\n      <g transform=\"translate(276.834375 837.198437)scale(0.1 -0.1)\">\r\n       <defs>\r\n        <path d=\"M 33.015625 40.375 \r\nQ 26.375 40.375 22.484375 35.828125 \r\nQ 18.609375 31.296875 18.609375 23.390625 \r\nQ 18.609375 15.53125 22.484375 10.953125 \r\nQ 26.375 6.390625 33.015625 6.390625 \r\nQ 39.65625 6.390625 43.53125 10.953125 \r\nQ 47.40625 15.53125 47.40625 23.390625 \r\nQ 47.40625 31.296875 43.53125 35.828125 \r\nQ 39.65625 40.375 33.015625 40.375 \r\nz\r\nM 52.59375 71.296875 \r\nL 52.59375 62.3125 \r\nQ 48.875 64.0625 45.09375 64.984375 \r\nQ 41.3125 65.921875 37.59375 65.921875 \r\nQ 27.828125 65.921875 22.671875 59.328125 \r\nQ 17.53125 52.734375 16.796875 39.40625 \r\nQ 19.671875 43.65625 24.015625 45.921875 \r\nQ 28.375 48.1875 33.59375 48.1875 \r\nQ 44.578125 48.1875 50.953125 41.515625 \r\nQ 57.328125 34.859375 57.328125 23.390625 \r\nQ 57.328125 12.15625 50.6875 5.359375 \r\nQ 44.046875 -1.421875 33.015625 -1.421875 \r\nQ 20.359375 -1.421875 13.671875 8.265625 \r\nQ 6.984375 17.96875 6.984375 36.375 \r\nQ 6.984375 53.65625 15.1875 63.9375 \r\nQ 23.390625 74.21875 37.203125 74.21875 \r\nQ 40.921875 74.21875 44.703125 73.484375 \r\nQ 48.484375 72.75 52.59375 71.296875 \r\nz\r\n\" id=\"DejaVuSans-54\"/>\r\n       </defs>\r\n       <use xlink:href=\"#DejaVuSans-54\"/>\r\n      </g>\r\n     </g>\r\n    </g>\r\n    <g id=\"xtick_8\">\r\n     <g id=\"line2d_8\">\r\n      <g>\r\n       <use style=\"stroke:#000000;stroke-width:0.8;\" x=\"314.890625\" xlink:href=\"#m67cd1e0e97\" y=\"822.6\"/>\r\n      </g>\r\n     </g>\r\n     <g id=\"text_8\">\r\n      <!-- 7 -->\r\n      <g transform=\"translate(311.709375 837.198437)scale(0.1 -0.1)\">\r\n       <defs>\r\n        <path d=\"M 8.203125 72.90625 \r\nL 55.078125 72.90625 \r\nL 55.078125 68.703125 \r\nL 28.609375 0 \r\nL 18.3125 0 \r\nL 43.21875 64.59375 \r\nL 8.203125 64.59375 \r\nz\r\n\" id=\"DejaVuSans-55\"/>\r\n       </defs>\r\n       <use xlink:href=\"#DejaVuSans-55\"/>\r\n      </g>\r\n     </g>\r\n    </g>\r\n    <g id=\"xtick_9\">\r\n     <g id=\"line2d_9\">\r\n      <g>\r\n       <use style=\"stroke:#000000;stroke-width:0.8;\" x=\"349.765625\" xlink:href=\"#m67cd1e0e97\" y=\"822.6\"/>\r\n      </g>\r\n     </g>\r\n     <g id=\"text_9\">\r\n      <!-- 8 -->\r\n      <g transform=\"translate(346.584375 837.198437)scale(0.1 -0.1)\">\r\n       <defs>\r\n        <path d=\"M 31.78125 34.625 \r\nQ 24.75 34.625 20.71875 30.859375 \r\nQ 16.703125 27.09375 16.703125 20.515625 \r\nQ 16.703125 13.921875 20.71875 10.15625 \r\nQ 24.75 6.390625 31.78125 6.390625 \r\nQ 38.8125 6.390625 42.859375 10.171875 \r\nQ 46.921875 13.96875 46.921875 20.515625 \r\nQ 46.921875 27.09375 42.890625 30.859375 \r\nQ 38.875 34.625 31.78125 34.625 \r\nz\r\nM 21.921875 38.8125 \r\nQ 15.578125 40.375 12.03125 44.71875 \r\nQ 8.5 49.078125 8.5 55.328125 \r\nQ 8.5 64.0625 14.71875 69.140625 \r\nQ 20.953125 74.21875 31.78125 74.21875 \r\nQ 42.671875 74.21875 48.875 69.140625 \r\nQ 55.078125 64.0625 55.078125 55.328125 \r\nQ 55.078125 49.078125 51.53125 44.71875 \r\nQ 48 40.375 41.703125 38.8125 \r\nQ 48.828125 37.15625 52.796875 32.3125 \r\nQ 56.78125 27.484375 56.78125 20.515625 \r\nQ 56.78125 9.90625 50.3125 4.234375 \r\nQ 43.84375 -1.421875 31.78125 -1.421875 \r\nQ 19.734375 -1.421875 13.25 4.234375 \r\nQ 6.78125 9.90625 6.78125 20.515625 \r\nQ 6.78125 27.484375 10.78125 32.3125 \r\nQ 14.796875 37.15625 21.921875 38.8125 \r\nz\r\nM 18.3125 54.390625 \r\nQ 18.3125 48.734375 21.84375 45.5625 \r\nQ 25.390625 42.390625 31.78125 42.390625 \r\nQ 38.140625 42.390625 41.71875 45.5625 \r\nQ 45.3125 48.734375 45.3125 54.390625 \r\nQ 45.3125 60.0625 41.71875 63.234375 \r\nQ 38.140625 66.40625 31.78125 66.40625 \r\nQ 25.390625 66.40625 21.84375 63.234375 \r\nQ 18.3125 60.0625 18.3125 54.390625 \r\nz\r\n\" id=\"DejaVuSans-56\"/>\r\n       </defs>\r\n       <use xlink:href=\"#DejaVuSans-56\"/>\r\n      </g>\r\n     </g>\r\n    </g>\r\n    <g id=\"xtick_10\">\r\n     <g id=\"line2d_10\">\r\n      <g>\r\n       <use style=\"stroke:#000000;stroke-width:0.8;\" x=\"384.640625\" xlink:href=\"#m67cd1e0e97\" y=\"822.6\"/>\r\n      </g>\r\n     </g>\r\n     <g id=\"text_10\">\r\n      <!-- 10 -->\r\n      <g transform=\"translate(378.278125 837.198437)scale(0.1 -0.1)\">\r\n       <use xlink:href=\"#DejaVuSans-49\"/>\r\n       <use x=\"63.623047\" xlink:href=\"#DejaVuSans-48\"/>\r\n      </g>\r\n     </g>\r\n    </g>\r\n    <g id=\"xtick_11\">\r\n     <g id=\"line2d_11\">\r\n      <g>\r\n       <use style=\"stroke:#000000;stroke-width:0.8;\" x=\"419.515625\" xlink:href=\"#m67cd1e0e97\" y=\"822.6\"/>\r\n      </g>\r\n     </g>\r\n     <g id=\"text_11\">\r\n      <!-- 11 -->\r\n      <g transform=\"translate(413.153125 837.198437)scale(0.1 -0.1)\">\r\n       <use xlink:href=\"#DejaVuSans-49\"/>\r\n       <use x=\"63.623047\" xlink:href=\"#DejaVuSans-49\"/>\r\n      </g>\r\n     </g>\r\n    </g>\r\n    <g id=\"xtick_12\">\r\n     <g id=\"line2d_12\">\r\n      <g>\r\n       <use style=\"stroke:#000000;stroke-width:0.8;\" x=\"454.390625\" xlink:href=\"#m67cd1e0e97\" y=\"822.6\"/>\r\n      </g>\r\n     </g>\r\n     <g id=\"text_12\">\r\n      <!-- 12 -->\r\n      <g transform=\"translate(448.028125 837.198437)scale(0.1 -0.1)\">\r\n       <use xlink:href=\"#DejaVuSans-49\"/>\r\n       <use x=\"63.623047\" xlink:href=\"#DejaVuSans-50\"/>\r\n      </g>\r\n     </g>\r\n    </g>\r\n    <g id=\"xtick_13\">\r\n     <g id=\"line2d_13\">\r\n      <g>\r\n       <use style=\"stroke:#000000;stroke-width:0.8;\" x=\"489.265625\" xlink:href=\"#m67cd1e0e97\" y=\"822.6\"/>\r\n      </g>\r\n     </g>\r\n     <g id=\"text_13\">\r\n      <!-- 13 -->\r\n      <g transform=\"translate(482.903125 837.198437)scale(0.1 -0.1)\">\r\n       <use xlink:href=\"#DejaVuSans-49\"/>\r\n       <use x=\"63.623047\" xlink:href=\"#DejaVuSans-51\"/>\r\n      </g>\r\n     </g>\r\n    </g>\r\n    <g id=\"xtick_14\">\r\n     <g id=\"line2d_14\">\r\n      <g>\r\n       <use style=\"stroke:#000000;stroke-width:0.8;\" x=\"524.140625\" xlink:href=\"#m67cd1e0e97\" y=\"822.6\"/>\r\n      </g>\r\n     </g>\r\n     <g id=\"text_14\">\r\n      <!-- 14 -->\r\n      <g transform=\"translate(517.778125 837.198437)scale(0.1 -0.1)\">\r\n       <use xlink:href=\"#DejaVuSans-49\"/>\r\n       <use x=\"63.623047\" xlink:href=\"#DejaVuSans-52\"/>\r\n      </g>\r\n     </g>\r\n    </g>\r\n    <g id=\"xtick_15\">\r\n     <g id=\"line2d_15\">\r\n      <g>\r\n       <use style=\"stroke:#000000;stroke-width:0.8;\" x=\"559.015625\" xlink:href=\"#m67cd1e0e97\" y=\"822.6\"/>\r\n      </g>\r\n     </g>\r\n     <g id=\"text_15\">\r\n      <!-- 15 -->\r\n      <g transform=\"translate(552.653125 837.198437)scale(0.1 -0.1)\">\r\n       <use xlink:href=\"#DejaVuSans-49\"/>\r\n       <use x=\"63.623047\" xlink:href=\"#DejaVuSans-53\"/>\r\n      </g>\r\n     </g>\r\n    </g>\r\n    <g id=\"xtick_16\">\r\n     <g id=\"line2d_16\">\r\n      <g>\r\n       <use style=\"stroke:#000000;stroke-width:0.8;\" x=\"593.890625\" xlink:href=\"#m67cd1e0e97\" y=\"822.6\"/>\r\n      </g>\r\n     </g>\r\n     <g id=\"text_16\">\r\n      <!-- 16 -->\r\n      <g transform=\"translate(587.528125 837.198437)scale(0.1 -0.1)\">\r\n       <use xlink:href=\"#DejaVuSans-49\"/>\r\n       <use x=\"63.623047\" xlink:href=\"#DejaVuSans-54\"/>\r\n      </g>\r\n     </g>\r\n    </g>\r\n    <g id=\"xtick_17\">\r\n     <g id=\"line2d_17\">\r\n      <g>\r\n       <use style=\"stroke:#000000;stroke-width:0.8;\" x=\"628.765625\" xlink:href=\"#m67cd1e0e97\" y=\"822.6\"/>\r\n      </g>\r\n     </g>\r\n     <g id=\"text_17\">\r\n      <!-- 17 -->\r\n      <g transform=\"translate(622.403125 837.198437)scale(0.1 -0.1)\">\r\n       <use xlink:href=\"#DejaVuSans-49\"/>\r\n       <use x=\"63.623047\" xlink:href=\"#DejaVuSans-55\"/>\r\n      </g>\r\n     </g>\r\n    </g>\r\n    <g id=\"xtick_18\">\r\n     <g id=\"line2d_18\">\r\n      <g>\r\n       <use style=\"stroke:#000000;stroke-width:0.8;\" x=\"663.640625\" xlink:href=\"#m67cd1e0e97\" y=\"822.6\"/>\r\n      </g>\r\n     </g>\r\n     <g id=\"text_18\">\r\n      <!-- 18 -->\r\n      <g transform=\"translate(657.278125 837.198437)scale(0.1 -0.1)\">\r\n       <use xlink:href=\"#DejaVuSans-49\"/>\r\n       <use x=\"63.623047\" xlink:href=\"#DejaVuSans-56\"/>\r\n      </g>\r\n     </g>\r\n    </g>\r\n    <g id=\"xtick_19\">\r\n     <g id=\"line2d_19\">\r\n      <g>\r\n       <use style=\"stroke:#000000;stroke-width:0.8;\" x=\"698.515625\" xlink:href=\"#m67cd1e0e97\" y=\"822.6\"/>\r\n      </g>\r\n     </g>\r\n     <g id=\"text_19\">\r\n      <!-- 19 -->\r\n      <g transform=\"translate(692.153125 837.198437)scale(0.1 -0.1)\">\r\n       <defs>\r\n        <path d=\"M 10.984375 1.515625 \r\nL 10.984375 10.5 \r\nQ 14.703125 8.734375 18.5 7.8125 \r\nQ 22.3125 6.890625 25.984375 6.890625 \r\nQ 35.75 6.890625 40.890625 13.453125 \r\nQ 46.046875 20.015625 46.78125 33.40625 \r\nQ 43.953125 29.203125 39.59375 26.953125 \r\nQ 35.25 24.703125 29.984375 24.703125 \r\nQ 19.046875 24.703125 12.671875 31.3125 \r\nQ 6.296875 37.9375 6.296875 49.421875 \r\nQ 6.296875 60.640625 12.9375 67.421875 \r\nQ 19.578125 74.21875 30.609375 74.21875 \r\nQ 43.265625 74.21875 49.921875 64.515625 \r\nQ 56.59375 54.828125 56.59375 36.375 \r\nQ 56.59375 19.140625 48.40625 8.859375 \r\nQ 40.234375 -1.421875 26.421875 -1.421875 \r\nQ 22.703125 -1.421875 18.890625 -0.6875 \r\nQ 15.09375 0.046875 10.984375 1.515625 \r\nz\r\nM 30.609375 32.421875 \r\nQ 37.25 32.421875 41.125 36.953125 \r\nQ 45.015625 41.5 45.015625 49.421875 \r\nQ 45.015625 57.28125 41.125 61.84375 \r\nQ 37.25 66.40625 30.609375 66.40625 \r\nQ 23.96875 66.40625 20.09375 61.84375 \r\nQ 16.21875 57.28125 16.21875 49.421875 \r\nQ 16.21875 41.5 20.09375 36.953125 \r\nQ 23.96875 32.421875 30.609375 32.421875 \r\nz\r\n\" id=\"DejaVuSans-57\"/>\r\n       </defs>\r\n       <use xlink:href=\"#DejaVuSans-49\"/>\r\n       <use x=\"63.623047\" xlink:href=\"#DejaVuSans-57\"/>\r\n      </g>\r\n     </g>\r\n    </g>\r\n    <g id=\"xtick_20\">\r\n     <g id=\"line2d_20\">\r\n      <g>\r\n       <use style=\"stroke:#000000;stroke-width:0.8;\" x=\"733.390625\" xlink:href=\"#m67cd1e0e97\" y=\"822.6\"/>\r\n      </g>\r\n     </g>\r\n     <g id=\"text_20\">\r\n      <!-- 20 -->\r\n      <g transform=\"translate(727.028125 837.198437)scale(0.1 -0.1)\">\r\n       <use xlink:href=\"#DejaVuSans-50\"/>\r\n       <use x=\"63.623047\" xlink:href=\"#DejaVuSans-48\"/>\r\n      </g>\r\n     </g>\r\n    </g>\r\n    <g id=\"xtick_21\">\r\n     <g id=\"line2d_21\">\r\n      <g>\r\n       <use style=\"stroke:#000000;stroke-width:0.8;\" x=\"768.265625\" xlink:href=\"#m67cd1e0e97\" y=\"822.6\"/>\r\n      </g>\r\n     </g>\r\n     <g id=\"text_21\">\r\n      <!-- 21 -->\r\n      <g transform=\"translate(761.903125 837.198437)scale(0.1 -0.1)\">\r\n       <use xlink:href=\"#DejaVuSans-50\"/>\r\n       <use x=\"63.623047\" xlink:href=\"#DejaVuSans-49\"/>\r\n      </g>\r\n     </g>\r\n    </g>\r\n    <g id=\"xtick_22\">\r\n     <g id=\"line2d_22\">\r\n      <g>\r\n       <use style=\"stroke:#000000;stroke-width:0.8;\" x=\"803.140625\" xlink:href=\"#m67cd1e0e97\" y=\"822.6\"/>\r\n      </g>\r\n     </g>\r\n     <g id=\"text_22\">\r\n      <!-- 22 -->\r\n      <g transform=\"translate(796.778125 837.198437)scale(0.1 -0.1)\">\r\n       <use xlink:href=\"#DejaVuSans-50\"/>\r\n       <use x=\"63.623047\" xlink:href=\"#DejaVuSans-50\"/>\r\n      </g>\r\n     </g>\r\n    </g>\r\n    <g id=\"xtick_23\">\r\n     <g id=\"line2d_23\">\r\n      <g>\r\n       <use style=\"stroke:#000000;stroke-width:0.8;\" x=\"838.015625\" xlink:href=\"#m67cd1e0e97\" y=\"822.6\"/>\r\n      </g>\r\n     </g>\r\n     <g id=\"text_23\">\r\n      <!-- 23 -->\r\n      <g transform=\"translate(831.653125 837.198437)scale(0.1 -0.1)\">\r\n       <use xlink:href=\"#DejaVuSans-50\"/>\r\n       <use x=\"63.623047\" xlink:href=\"#DejaVuSans-51\"/>\r\n      </g>\r\n     </g>\r\n    </g>\r\n    <g id=\"xtick_24\">\r\n     <g id=\"line2d_24\">\r\n      <g>\r\n       <use style=\"stroke:#000000;stroke-width:0.8;\" x=\"872.890625\" xlink:href=\"#m67cd1e0e97\" y=\"822.6\"/>\r\n      </g>\r\n     </g>\r\n     <g id=\"text_24\">\r\n      <!-- 24 -->\r\n      <g transform=\"translate(866.528125 837.198437)scale(0.1 -0.1)\">\r\n       <use xlink:href=\"#DejaVuSans-50\"/>\r\n       <use x=\"63.623047\" xlink:href=\"#DejaVuSans-52\"/>\r\n      </g>\r\n     </g>\r\n    </g>\r\n   </g>\r\n   <g id=\"matplotlib.axis_2\">\r\n    <g id=\"ytick_1\">\r\n     <g id=\"line2d_25\">\r\n      <defs>\r\n       <path d=\"M 0 0 \r\nL -3.5 0 \r\n\" id=\"mc8c4585b8c\" style=\"stroke:#000000;stroke-width:0.8;\"/>\r\n      </defs>\r\n      <g>\r\n       <use style=\"stroke:#000000;stroke-width:0.8;\" x=\"53.328125\" xlink:href=\"#mc8c4585b8c\" y=\"822.6\"/>\r\n      </g>\r\n     </g>\r\n     <g id=\"text_25\">\r\n      <!-- 0 -->\r\n      <g transform=\"translate(39.965625 826.399219)scale(0.1 -0.1)\">\r\n       <use xlink:href=\"#DejaVuSans-48\"/>\r\n      </g>\r\n     </g>\r\n    </g>\r\n    <g id=\"ytick_2\">\r\n     <g id=\"line2d_26\">\r\n      <g>\r\n       <use style=\"stroke:#000000;stroke-width:0.8;\" x=\"53.328125\" xlink:href=\"#mc8c4585b8c\" y=\"702.573504\"/>\r\n      </g>\r\n     </g>\r\n     <g id=\"text_26\">\r\n      <!-- 200 -->\r\n      <g transform=\"translate(27.240625 706.372723)scale(0.1 -0.1)\">\r\n       <use xlink:href=\"#DejaVuSans-50\"/>\r\n       <use x=\"63.623047\" xlink:href=\"#DejaVuSans-48\"/>\r\n       <use x=\"127.246094\" xlink:href=\"#DejaVuSans-48\"/>\r\n      </g>\r\n     </g>\r\n    </g>\r\n    <g id=\"ytick_3\">\r\n     <g id=\"line2d_27\">\r\n      <g>\r\n       <use style=\"stroke:#000000;stroke-width:0.8;\" x=\"53.328125\" xlink:href=\"#mc8c4585b8c\" y=\"582.547008\"/>\r\n      </g>\r\n     </g>\r\n     <g id=\"text_27\">\r\n      <!-- 400 -->\r\n      <g transform=\"translate(27.240625 586.346227)scale(0.1 -0.1)\">\r\n       <use xlink:href=\"#DejaVuSans-52\"/>\r\n       <use x=\"63.623047\" xlink:href=\"#DejaVuSans-48\"/>\r\n       <use x=\"127.246094\" xlink:href=\"#DejaVuSans-48\"/>\r\n      </g>\r\n     </g>\r\n    </g>\r\n    <g id=\"ytick_4\">\r\n     <g id=\"line2d_28\">\r\n      <g>\r\n       <use style=\"stroke:#000000;stroke-width:0.8;\" x=\"53.328125\" xlink:href=\"#mc8c4585b8c\" y=\"462.520512\"/>\r\n      </g>\r\n     </g>\r\n     <g id=\"text_28\">\r\n      <!-- 600 -->\r\n      <g transform=\"translate(27.240625 466.319731)scale(0.1 -0.1)\">\r\n       <use xlink:href=\"#DejaVuSans-54\"/>\r\n       <use x=\"63.623047\" xlink:href=\"#DejaVuSans-48\"/>\r\n       <use x=\"127.246094\" xlink:href=\"#DejaVuSans-48\"/>\r\n      </g>\r\n     </g>\r\n    </g>\r\n    <g id=\"ytick_5\">\r\n     <g id=\"line2d_29\">\r\n      <g>\r\n       <use style=\"stroke:#000000;stroke-width:0.8;\" x=\"53.328125\" xlink:href=\"#mc8c4585b8c\" y=\"342.494016\"/>\r\n      </g>\r\n     </g>\r\n     <g id=\"text_29\">\r\n      <!-- 800 -->\r\n      <g transform=\"translate(27.240625 346.293235)scale(0.1 -0.1)\">\r\n       <use xlink:href=\"#DejaVuSans-56\"/>\r\n       <use x=\"63.623047\" xlink:href=\"#DejaVuSans-48\"/>\r\n       <use x=\"127.246094\" xlink:href=\"#DejaVuSans-48\"/>\r\n      </g>\r\n     </g>\r\n    </g>\r\n    <g id=\"ytick_6\">\r\n     <g id=\"line2d_30\">\r\n      <g>\r\n       <use style=\"stroke:#000000;stroke-width:0.8;\" x=\"53.328125\" xlink:href=\"#mc8c4585b8c\" y=\"222.46752\"/>\r\n      </g>\r\n     </g>\r\n     <g id=\"text_30\">\r\n      <!-- 1000 -->\r\n      <g transform=\"translate(20.878125 226.266739)scale(0.1 -0.1)\">\r\n       <use xlink:href=\"#DejaVuSans-49\"/>\r\n       <use x=\"63.623047\" xlink:href=\"#DejaVuSans-48\"/>\r\n       <use x=\"127.246094\" xlink:href=\"#DejaVuSans-48\"/>\r\n       <use x=\"190.869141\" xlink:href=\"#DejaVuSans-48\"/>\r\n      </g>\r\n     </g>\r\n    </g>\r\n    <g id=\"ytick_7\">\r\n     <g id=\"line2d_31\">\r\n      <g>\r\n       <use style=\"stroke:#000000;stroke-width:0.8;\" x=\"53.328125\" xlink:href=\"#mc8c4585b8c\" y=\"102.441025\"/>\r\n      </g>\r\n     </g>\r\n     <g id=\"text_31\">\r\n      <!-- 1200 -->\r\n      <g transform=\"translate(20.878125 106.240243)scale(0.1 -0.1)\">\r\n       <use xlink:href=\"#DejaVuSans-49\"/>\r\n       <use x=\"63.623047\" xlink:href=\"#DejaVuSans-50\"/>\r\n       <use x=\"127.246094\" xlink:href=\"#DejaVuSans-48\"/>\r\n       <use x=\"190.869141\" xlink:href=\"#DejaVuSans-48\"/>\r\n      </g>\r\n     </g>\r\n    </g>\r\n    <g id=\"text_32\">\r\n     <!-- count -->\r\n     <g transform=\"translate(14.798438 429.00625)rotate(-90)scale(0.1 -0.1)\">\r\n      <defs>\r\n       <path d=\"M 48.78125 52.59375 \r\nL 48.78125 44.1875 \r\nQ 44.96875 46.296875 41.140625 47.34375 \r\nQ 37.3125 48.390625 33.40625 48.390625 \r\nQ 24.65625 48.390625 19.8125 42.84375 \r\nQ 14.984375 37.3125 14.984375 27.296875 \r\nQ 14.984375 17.28125 19.8125 11.734375 \r\nQ 24.65625 6.203125 33.40625 6.203125 \r\nQ 37.3125 6.203125 41.140625 7.25 \r\nQ 44.96875 8.296875 48.78125 10.40625 \r\nL 48.78125 2.09375 \r\nQ 45.015625 0.34375 40.984375 -0.53125 \r\nQ 36.96875 -1.421875 32.421875 -1.421875 \r\nQ 20.0625 -1.421875 12.78125 6.34375 \r\nQ 5.515625 14.109375 5.515625 27.296875 \r\nQ 5.515625 40.671875 12.859375 48.328125 \r\nQ 20.21875 56 33.015625 56 \r\nQ 37.15625 56 41.109375 55.140625 \r\nQ 45.0625 54.296875 48.78125 52.59375 \r\nz\r\n\" id=\"DejaVuSans-99\"/>\r\n       <path d=\"M 30.609375 48.390625 \r\nQ 23.390625 48.390625 19.1875 42.75 \r\nQ 14.984375 37.109375 14.984375 27.296875 \r\nQ 14.984375 17.484375 19.15625 11.84375 \r\nQ 23.34375 6.203125 30.609375 6.203125 \r\nQ 37.796875 6.203125 41.984375 11.859375 \r\nQ 46.1875 17.53125 46.1875 27.296875 \r\nQ 46.1875 37.015625 41.984375 42.703125 \r\nQ 37.796875 48.390625 30.609375 48.390625 \r\nz\r\nM 30.609375 56 \r\nQ 42.328125 56 49.015625 48.375 \r\nQ 55.71875 40.765625 55.71875 27.296875 \r\nQ 55.71875 13.875 49.015625 6.21875 \r\nQ 42.328125 -1.421875 30.609375 -1.421875 \r\nQ 18.84375 -1.421875 12.171875 6.21875 \r\nQ 5.515625 13.875 5.515625 27.296875 \r\nQ 5.515625 40.765625 12.171875 48.375 \r\nQ 18.84375 56 30.609375 56 \r\nz\r\n\" id=\"DejaVuSans-111\"/>\r\n       <path d=\"M 8.5 21.578125 \r\nL 8.5 54.6875 \r\nL 17.484375 54.6875 \r\nL 17.484375 21.921875 \r\nQ 17.484375 14.15625 20.5 10.265625 \r\nQ 23.53125 6.390625 29.59375 6.390625 \r\nQ 36.859375 6.390625 41.078125 11.03125 \r\nQ 45.3125 15.671875 45.3125 23.6875 \r\nL 45.3125 54.6875 \r\nL 54.296875 54.6875 \r\nL 54.296875 0 \r\nL 45.3125 0 \r\nL 45.3125 8.40625 \r\nQ 42.046875 3.421875 37.71875 1 \r\nQ 33.40625 -1.421875 27.6875 -1.421875 \r\nQ 18.265625 -1.421875 13.375 4.4375 \r\nQ 8.5 10.296875 8.5 21.578125 \r\nz\r\nM 31.109375 56 \r\nz\r\n\" id=\"DejaVuSans-117\"/>\r\n       <path d=\"M 54.890625 33.015625 \r\nL 54.890625 0 \r\nL 45.90625 0 \r\nL 45.90625 32.71875 \r\nQ 45.90625 40.484375 42.875 44.328125 \r\nQ 39.84375 48.1875 33.796875 48.1875 \r\nQ 26.515625 48.1875 22.3125 43.546875 \r\nQ 18.109375 38.921875 18.109375 30.90625 \r\nL 18.109375 0 \r\nL 9.078125 0 \r\nL 9.078125 54.6875 \r\nL 18.109375 54.6875 \r\nL 18.109375 46.1875 \r\nQ 21.34375 51.125 25.703125 53.5625 \r\nQ 30.078125 56 35.796875 56 \r\nQ 45.21875 56 50.046875 50.171875 \r\nQ 54.890625 44.34375 54.890625 33.015625 \r\nz\r\n\" id=\"DejaVuSans-110\"/>\r\n       <path d=\"M 18.3125 70.21875 \r\nL 18.3125 54.6875 \r\nL 36.8125 54.6875 \r\nL 36.8125 47.703125 \r\nL 18.3125 47.703125 \r\nL 18.3125 18.015625 \r\nQ 18.3125 11.328125 20.140625 9.421875 \r\nQ 21.96875 7.515625 27.59375 7.515625 \r\nL 36.8125 7.515625 \r\nL 36.8125 0 \r\nL 27.59375 0 \r\nQ 17.1875 0 13.234375 3.875 \r\nQ 9.28125 7.765625 9.28125 18.015625 \r\nL 9.28125 47.703125 \r\nL 2.6875 47.703125 \r\nL 2.6875 54.6875 \r\nL 9.28125 54.6875 \r\nL 9.28125 70.21875 \r\nz\r\n\" id=\"DejaVuSans-116\"/>\r\n      </defs>\r\n      <use xlink:href=\"#DejaVuSans-99\"/>\r\n      <use x=\"54.980469\" xlink:href=\"#DejaVuSans-111\"/>\r\n      <use x=\"116.162109\" xlink:href=\"#DejaVuSans-117\"/>\r\n      <use x=\"179.541016\" xlink:href=\"#DejaVuSans-110\"/>\r\n      <use x=\"242.919922\" xlink:href=\"#DejaVuSans-116\"/>\r\n     </g>\r\n    </g>\r\n   </g>\r\n   <g id=\"patch_27\">\r\n    <path d=\"M 53.328125 822.6 \r\nL 53.328125 7.2 \r\n\" style=\"fill:none;stroke:#000000;stroke-linecap:square;stroke-linejoin:miter;stroke-width:0.8;\"/>\r\n   </g>\r\n   <g id=\"patch_28\">\r\n    <path d=\"M 890.328125 822.6 \r\nL 890.328125 7.2 \r\n\" style=\"fill:none;stroke:#000000;stroke-linecap:square;stroke-linejoin:miter;stroke-width:0.8;\"/>\r\n   </g>\r\n   <g id=\"patch_29\">\r\n    <path d=\"M 53.328125 822.6 \r\nL 890.328125 822.6 \r\n\" style=\"fill:none;stroke:#000000;stroke-linecap:square;stroke-linejoin:miter;stroke-width:0.8;\"/>\r\n   </g>\r\n   <g id=\"patch_30\">\r\n    <path d=\"M 53.328125 7.2 \r\nL 890.328125 7.2 \r\n\" style=\"fill:none;stroke:#000000;stroke-linecap:square;stroke-linejoin:miter;stroke-width:0.8;\"/>\r\n   </g>\r\n  </g>\r\n </g>\r\n <defs>\r\n  <clipPath id=\"p2ab007e1f2\">\r\n   <rect height=\"815.4\" width=\"837\" x=\"53.328125\" y=\"7.2\"/>\r\n  </clipPath>\r\n </defs>\r\n</svg>\r\n",
      "image/png": "[encoded data removed]"
     },
     "metadata": {
      "needs_background": "light"
     }
    }
   ],
   "source": [
    "plt.figure(figsize=(15,15))\n",
    "sns.countplot(x=labels)"
   ]
  },
  {
   "cell_type": "code",
   "execution_count": 7,
   "metadata": {},
   "outputs": [],
   "source": [
    "train.drop('label', axis=1,inplace = True)"
   ]
  },
  {
   "cell_type": "code",
   "execution_count": 8,
   "metadata": {},
   "outputs": [
    {
     "output_type": "execute_result",
     "data": {
      "text/plain": [
       "   pixel1  pixel2  pixel3  pixel4  pixel5  pixel6  pixel7  pixel8  pixel9  \\\n",
       "0     107     118     127     134     139     143     146     150     153   \n",
       "1     155     157     156     156     156     157     156     158     158   \n",
       "2     187     188     188     187     187     186     187     188     187   \n",
       "3     211     211     212     212     211     210     211     210     210   \n",
       "4     164     167     170     172     176     179     180     184     185   \n",
       "\n",
       "   pixel10  ...  pixel775  pixel776  pixel777  pixel778  pixel779  pixel780  \\\n",
       "0      156  ...       207       207       207       207       206       206   \n",
       "1      157  ...        69       149       128        87        94       163   \n",
       "2      186  ...       202       201       200       199       198       199   \n",
       "3      211  ...       235       234       233       231       230       226   \n",
       "4      186  ...        92       105       105       108       133       163   \n",
       "\n",
       "   pixel781  pixel782  pixel783  pixel784  \n",
       "0       206       204       203       202  \n",
       "1       175       103       135       149  \n",
       "2       198       195       194       195  \n",
       "3       225       222       229       163  \n",
       "4       157       163       164       179  \n",
       "\n",
       "[5 rows x 784 columns]"
      ],
      "text/html": "<div>\n<style scoped>\n    .dataframe tbody tr th:only-of-type {\n        vertical-align: middle;\n    }\n\n    .dataframe tbody tr th {\n        vertical-align: top;\n    }\n\n    .dataframe thead th {\n        text-align: right;\n    }\n</style>\n<table border=\"1\" class=\"dataframe\">\n  <thead>\n    <tr style=\"text-align: right;\">\n      <th></th>\n      <th>pixel1</th>\n      <th>pixel2</th>\n      <th>pixel3</th>\n      <th>pixel4</th>\n      <th>pixel5</th>\n      <th>pixel6</th>\n      <th>pixel7</th>\n      <th>pixel8</th>\n      <th>pixel9</th>\n      <th>pixel10</th>\n      <th>...</th>\n      <th>pixel775</th>\n      <th>pixel776</th>\n      <th>pixel777</th>\n      <th>pixel778</th>\n      <th>pixel779</th>\n      <th>pixel780</th>\n      <th>pixel781</th>\n      <th>pixel782</th>\n      <th>pixel783</th>\n      <th>pixel784</th>\n    </tr>\n  </thead>\n  <tbody>\n    <tr>\n      <th>0</th>\n      <td>107</td>\n      <td>118</td>\n      <td>127</td>\n      <td>134</td>\n      <td>139</td>\n      <td>143</td>\n      <td>146</td>\n      <td>150</td>\n      <td>153</td>\n      <td>156</td>\n      <td>...</td>\n      <td>207</td>\n      <td>207</td>\n      <td>207</td>\n      <td>207</td>\n      <td>206</td>\n      <td>206</td>\n      <td>206</td>\n      <td>204</td>\n      <td>203</td>\n      <td>202</td>\n    </tr>\n    <tr>\n      <th>1</th>\n      <td>155</td>\n      <td>157</td>\n      <td>156</td>\n      <td>156</td>\n      <td>156</td>\n      <td>157</td>\n      <td>156</td>\n      <td>158</td>\n      <td>158</td>\n      <td>157</td>\n      <td>...</td>\n      <td>69</td>\n      <td>149</td>\n      <td>128</td>\n      <td>87</td>\n      <td>94</td>\n      <td>163</td>\n      <td>175</td>\n      <td>103</td>\n      <td>135</td>\n      <td>149</td>\n    </tr>\n    <tr>\n      <th>2</th>\n      <td>187</td>\n      <td>188</td>\n      <td>188</td>\n      <td>187</td>\n      <td>187</td>\n      <td>186</td>\n      <td>187</td>\n      <td>188</td>\n      <td>187</td>\n      <td>186</td>\n      <td>...</td>\n      <td>202</td>\n      <td>201</td>\n      <td>200</td>\n      <td>199</td>\n      <td>198</td>\n      <td>199</td>\n      <td>198</td>\n      <td>195</td>\n      <td>194</td>\n      <td>195</td>\n    </tr>\n    <tr>\n      <th>3</th>\n      <td>211</td>\n      <td>211</td>\n      <td>212</td>\n      <td>212</td>\n      <td>211</td>\n      <td>210</td>\n      <td>211</td>\n      <td>210</td>\n      <td>210</td>\n      <td>211</td>\n      <td>...</td>\n      <td>235</td>\n      <td>234</td>\n      <td>233</td>\n      <td>231</td>\n      <td>230</td>\n      <td>226</td>\n      <td>225</td>\n      <td>222</td>\n      <td>229</td>\n      <td>163</td>\n    </tr>\n    <tr>\n      <th>4</th>\n      <td>164</td>\n      <td>167</td>\n      <td>170</td>\n      <td>172</td>\n      <td>176</td>\n      <td>179</td>\n      <td>180</td>\n      <td>184</td>\n      <td>185</td>\n      <td>186</td>\n      <td>...</td>\n      <td>92</td>\n      <td>105</td>\n      <td>105</td>\n      <td>108</td>\n      <td>133</td>\n      <td>163</td>\n      <td>157</td>\n      <td>163</td>\n      <td>164</td>\n      <td>179</td>\n    </tr>\n  </tbody>\n</table>\n<p>5 rows × 784 columns</p>\n</div>"
     },
     "metadata": {},
     "execution_count": 8
    }
   ],
   "source": [
    "train.head()"
   ]
  },
  {
   "cell_type": "code",
   "execution_count": 9,
   "metadata": {},
   "outputs": [
    {
     "output_type": "execute_result",
     "data": {
      "text/plain": [
       "array([[107, 118, 127, ..., 204, 203, 202],\n",
       "       [155, 157, 156, ..., 103, 135, 149],\n",
       "       [187, 188, 188, ..., 195, 194, 195],\n",
       "       ...,\n",
       "       [174, 174, 174, ..., 202, 200, 200],\n",
       "       [177, 181, 184, ...,  64,  87,  93],\n",
       "       [179, 180, 180, ..., 205, 209, 215]], dtype=int64)"
      ]
     },
     "metadata": {},
     "execution_count": 9
    }
   ],
   "source": [
    "images = train.values\n",
    "images"
   ]
  },
  {
   "cell_type": "code",
   "execution_count": 10,
   "metadata": {},
   "outputs": [],
   "source": [
    "images = np.array([np.reshape(i,(28,28))for i in images])\n",
    "#images = np.array(i.flatten() for i in images)"
   ]
  },
  {
   "cell_type": "code",
   "execution_count": 57,
   "metadata": {},
   "outputs": [],
   "source": []
  },
  {
   "cell_type": "code",
   "execution_count": 11,
   "metadata": {},
   "outputs": [],
   "source": [
    "from sklearn.preprocessing import LabelBinarizer\n",
    "lb = LabelBinarizer()\n",
    "labels=lb.fit_transform(labels)"
   ]
  },
  {
   "cell_type": "code",
   "execution_count": 12,
   "metadata": {},
   "outputs": [
    {
     "output_type": "execute_result",
     "data": {
      "text/plain": [
       "array([[0, 0, 0, ..., 0, 0, 0],\n",
       "       [0, 0, 0, ..., 0, 0, 0],\n",
       "       [0, 0, 1, ..., 0, 0, 0],\n",
       "       ...,\n",
       "       [0, 0, 0, ..., 0, 0, 0],\n",
       "       [0, 0, 0, ..., 0, 0, 0],\n",
       "       [0, 0, 0, ..., 0, 1, 0]])"
      ]
     },
     "metadata": {},
     "execution_count": 12
    }
   ],
   "source": [
    "labels"
   ]
  },
  {
   "cell_type": "code",
   "execution_count": 13,
   "metadata": {},
   "outputs": [
    {
     "output_type": "execute_result",
     "data": {
      "text/plain": [
       "<matplotlib.image.AxesImage at 0x1c0c696e970>"
      ]
     },
     "metadata": {},
     "execution_count": 13
    },
    {
     "output_type": "display_data",
     "data": {
      "text/plain": "<Figure size 432x288 with 1 Axes>",
      "image/svg+xml": "<?xml version=\"1.0\" encoding=\"utf-8\" standalone=\"no\"?>\r\n<!DOCTYPE svg PUBLIC \"-//W3C//DTD SVG 1.1//EN\"\r\n  \"http://www.w3.org/Graphics/SVG/1.1/DTD/svg11.dtd\">\r\n<!-- Created with matplotlib (https://matplotlib.org/) -->\r\n<svg height=\"248.518125pt\" version=\"1.1\" viewBox=\"0 0 251.565 248.518125\" width=\"251.565pt\" xmlns=\"http://www.w3.org/2000/svg\" xmlns:xlink=\"http://www.w3.org/1999/xlink\">\r\n <metadata>\r\n  <rdf:RDF xmlns:cc=\"http://creativecommons.org/ns#\" xmlns:dc=\"http://purl.org/dc/elements/1.1/\" xmlns:rdf=\"http://www.w3.org/1999/02/22-rdf-syntax-ns#\">\r\n   <cc:Work>\r\n    <dc:type rdf:resource=\"http://purl.org/dc/dcmitype/StillImage\"/>\r\n    <dc:date>2021-05-18T19:29:57.912291</dc:date>\r\n    <dc:format>image/svg+xml</dc:format>\r\n    <dc:creator>\r\n     <cc:Agent>\r\n      <dc:title>Matplotlib v3.3.4, https://matplotlib.org/</dc:title>\r\n     </cc:Agent>\r\n    </dc:creator>\r\n   </cc:Work>\r\n  </rdf:RDF>\r\n </metadata>\r\n <defs>\r\n  <style type=\"text/css\">*{stroke-linecap:butt;stroke-linejoin:round;}</style>\r\n </defs>\r\n <g id=\"figure_1\">\r\n  <g id=\"patch_1\">\r\n   <path d=\"M 0 248.518125 \r\nL 251.565 248.518125 \r\nL 251.565 0 \r\nL 0 0 \r\nz\r\n\" style=\"fill:none;\"/>\r\n  </g>\r\n  <g id=\"axes_1\">\r\n   <g id=\"patch_2\">\r\n    <path d=\"M 26.925 224.64 \r\nL 244.365 224.64 \r\nL 244.365 7.2 \r\nL 26.925 7.2 \r\nz\r\n\" style=\"fill:#ffffff;\"/>\r\n   </g>\r\n   <g clip-path=\"url(#p2ae615bcf4)\">\r\n    <image height=\"218\" id=\"image74eaac7720\" transform=\"scale(1 -1)translate(0 -218)\" width=\"218\" x=\"26.925\" xlink:href=\"data:image/png;base64,\r\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\" y=\"-6.64\"/>\r\n   </g>\r\n   <g id=\"matplotlib.axis_1\">\r\n    <g id=\"xtick_1\">\r\n     <g id=\"line2d_1\">\r\n      <defs>\r\n       <path d=\"M 0 0 \r\nL 0 3.5 \r\n\" id=\"md94cce8e32\" style=\"stroke:#000000;stroke-width:0.8;\"/>\r\n      </defs>\r\n      <g>\r\n       <use style=\"stroke:#000000;stroke-width:0.8;\" x=\"30.807857\" xlink:href=\"#md94cce8e32\" y=\"224.64\"/>\r\n      </g>\r\n     </g>\r\n     <g id=\"text_1\">\r\n      <!-- 0 -->\r\n      <g transform=\"translate(27.626607 239.238437)scale(0.1 -0.1)\">\r\n       <defs>\r\n        <path d=\"M 31.78125 66.40625 \r\nQ 24.171875 66.40625 20.328125 58.90625 \r\nQ 16.5 51.421875 16.5 36.375 \r\nQ 16.5 21.390625 20.328125 13.890625 \r\nQ 24.171875 6.390625 31.78125 6.390625 \r\nQ 39.453125 6.390625 43.28125 13.890625 \r\nQ 47.125 21.390625 47.125 36.375 \r\nQ 47.125 51.421875 43.28125 58.90625 \r\nQ 39.453125 66.40625 31.78125 66.40625 \r\nz\r\nM 31.78125 74.21875 \r\nQ 44.046875 74.21875 50.515625 64.515625 \r\nQ 56.984375 54.828125 56.984375 36.375 \r\nQ 56.984375 17.96875 50.515625 8.265625 \r\nQ 44.046875 -1.421875 31.78125 -1.421875 \r\nQ 19.53125 -1.421875 13.0625 8.265625 \r\nQ 6.59375 17.96875 6.59375 36.375 \r\nQ 6.59375 54.828125 13.0625 64.515625 \r\nQ 19.53125 74.21875 31.78125 74.21875 \r\nz\r\n\" id=\"DejaVuSans-48\"/>\r\n       </defs>\r\n       <use xlink:href=\"#DejaVuSans-48\"/>\r\n      </g>\r\n     </g>\r\n    </g>\r\n    <g id=\"xtick_2\">\r\n     <g id=\"line2d_2\">\r\n      <g>\r\n       <use style=\"stroke:#000000;stroke-width:0.8;\" x=\"69.636429\" xlink:href=\"#md94cce8e32\" y=\"224.64\"/>\r\n      </g>\r\n     </g>\r\n     <g id=\"text_2\">\r\n      <!-- 5 -->\r\n      <g transform=\"translate(66.455179 239.238437)scale(0.1 -0.1)\">\r\n       <defs>\r\n        <path d=\"M 10.796875 72.90625 \r\nL 49.515625 72.90625 \r\nL 49.515625 64.59375 \r\nL 19.828125 64.59375 \r\nL 19.828125 46.734375 \r\nQ 21.96875 47.46875 24.109375 47.828125 \r\nQ 26.265625 48.1875 28.421875 48.1875 \r\nQ 40.625 48.1875 47.75 41.5 \r\nQ 54.890625 34.8125 54.890625 23.390625 \r\nQ 54.890625 11.625 47.5625 5.09375 \r\nQ 40.234375 -1.421875 26.90625 -1.421875 \r\nQ 22.3125 -1.421875 17.546875 -0.640625 \r\nQ 12.796875 0.140625 7.71875 1.703125 \r\nL 7.71875 11.625 \r\nQ 12.109375 9.234375 16.796875 8.0625 \r\nQ 21.484375 6.890625 26.703125 6.890625 \r\nQ 35.15625 6.890625 40.078125 11.328125 \r\nQ 45.015625 15.765625 45.015625 23.390625 \r\nQ 45.015625 31 40.078125 35.4375 \r\nQ 35.15625 39.890625 26.703125 39.890625 \r\nQ 22.75 39.890625 18.8125 39.015625 \r\nQ 14.890625 38.140625 10.796875 36.28125 \r\nz\r\n\" id=\"DejaVuSans-53\"/>\r\n       </defs>\r\n       <use xlink:href=\"#DejaVuSans-53\"/>\r\n      </g>\r\n     </g>\r\n    </g>\r\n    <g id=\"xtick_3\">\r\n     <g id=\"line2d_3\">\r\n      <g>\r\n       <use style=\"stroke:#000000;stroke-width:0.8;\" x=\"108.465\" xlink:href=\"#md94cce8e32\" y=\"224.64\"/>\r\n      </g>\r\n     </g>\r\n     <g id=\"text_3\">\r\n      <!-- 10 -->\r\n      <g transform=\"translate(102.1025 239.238437)scale(0.1 -0.1)\">\r\n       <defs>\r\n        <path d=\"M 12.40625 8.296875 \r\nL 28.515625 8.296875 \r\nL 28.515625 63.921875 \r\nL 10.984375 60.40625 \r\nL 10.984375 69.390625 \r\nL 28.421875 72.90625 \r\nL 38.28125 72.90625 \r\nL 38.28125 8.296875 \r\nL 54.390625 8.296875 \r\nL 54.390625 0 \r\nL 12.40625 0 \r\nz\r\n\" id=\"DejaVuSans-49\"/>\r\n       </defs>\r\n       <use xlink:href=\"#DejaVuSans-49\"/>\r\n       <use x=\"63.623047\" xlink:href=\"#DejaVuSans-48\"/>\r\n      </g>\r\n     </g>\r\n    </g>\r\n    <g id=\"xtick_4\">\r\n     <g id=\"line2d_4\">\r\n      <g>\r\n       <use style=\"stroke:#000000;stroke-width:0.8;\" x=\"147.293571\" xlink:href=\"#md94cce8e32\" y=\"224.64\"/>\r\n      </g>\r\n     </g>\r\n     <g id=\"text_4\">\r\n      <!-- 15 -->\r\n      <g transform=\"translate(140.931071 239.238437)scale(0.1 -0.1)\">\r\n       <use xlink:href=\"#DejaVuSans-49\"/>\r\n       <use x=\"63.623047\" xlink:href=\"#DejaVuSans-53\"/>\r\n      </g>\r\n     </g>\r\n    </g>\r\n    <g id=\"xtick_5\">\r\n     <g id=\"line2d_5\">\r\n      <g>\r\n       <use style=\"stroke:#000000;stroke-width:0.8;\" x=\"186.122143\" xlink:href=\"#md94cce8e32\" y=\"224.64\"/>\r\n      </g>\r\n     </g>\r\n     <g id=\"text_5\">\r\n      <!-- 20 -->\r\n      <g transform=\"translate(179.759643 239.238437)scale(0.1 -0.1)\">\r\n       <defs>\r\n        <path d=\"M 19.1875 8.296875 \r\nL 53.609375 8.296875 \r\nL 53.609375 0 \r\nL 7.328125 0 \r\nL 7.328125 8.296875 \r\nQ 12.9375 14.109375 22.625 23.890625 \r\nQ 32.328125 33.6875 34.8125 36.53125 \r\nQ 39.546875 41.84375 41.421875 45.53125 \r\nQ 43.3125 49.21875 43.3125 52.78125 \r\nQ 43.3125 58.59375 39.234375 62.25 \r\nQ 35.15625 65.921875 28.609375 65.921875 \r\nQ 23.96875 65.921875 18.8125 64.3125 \r\nQ 13.671875 62.703125 7.8125 59.421875 \r\nL 7.8125 69.390625 \r\nQ 13.765625 71.78125 18.9375 73 \r\nQ 24.125 74.21875 28.421875 74.21875 \r\nQ 39.75 74.21875 46.484375 68.546875 \r\nQ 53.21875 62.890625 53.21875 53.421875 \r\nQ 53.21875 48.921875 51.53125 44.890625 \r\nQ 49.859375 40.875 45.40625 35.40625 \r\nQ 44.1875 33.984375 37.640625 27.21875 \r\nQ 31.109375 20.453125 19.1875 8.296875 \r\nz\r\n\" id=\"DejaVuSans-50\"/>\r\n       </defs>\r\n       <use xlink:href=\"#DejaVuSans-50\"/>\r\n       <use x=\"63.623047\" xlink:href=\"#DejaVuSans-48\"/>\r\n      </g>\r\n     </g>\r\n    </g>\r\n    <g id=\"xtick_6\">\r\n     <g id=\"line2d_6\">\r\n      <g>\r\n       <use style=\"stroke:#000000;stroke-width:0.8;\" x=\"224.950714\" xlink:href=\"#md94cce8e32\" y=\"224.64\"/>\r\n      </g>\r\n     </g>\r\n     <g id=\"text_6\">\r\n      <!-- 25 -->\r\n      <g transform=\"translate(218.588214 239.238437)scale(0.1 -0.1)\">\r\n       <use xlink:href=\"#DejaVuSans-50\"/>\r\n       <use x=\"63.623047\" xlink:href=\"#DejaVuSans-53\"/>\r\n      </g>\r\n     </g>\r\n    </g>\r\n   </g>\r\n   <g id=\"matplotlib.axis_2\">\r\n    <g id=\"ytick_1\">\r\n     <g id=\"line2d_7\">\r\n      <defs>\r\n       <path d=\"M 0 0 \r\nL -3.5 0 \r\n\" id=\"ma27e367e4a\" style=\"stroke:#000000;stroke-width:0.8;\"/>\r\n      </defs>\r\n      <g>\r\n       <use style=\"stroke:#000000;stroke-width:0.8;\" x=\"26.925\" xlink:href=\"#ma27e367e4a\" y=\"11.082857\"/>\r\n      </g>\r\n     </g>\r\n     <g id=\"text_7\">\r\n      <!-- 0 -->\r\n      <g transform=\"translate(13.5625 14.882076)scale(0.1 -0.1)\">\r\n       <use xlink:href=\"#DejaVuSans-48\"/>\r\n      </g>\r\n     </g>\r\n    </g>\r\n    <g id=\"ytick_2\">\r\n     <g id=\"line2d_8\">\r\n      <g>\r\n       <use style=\"stroke:#000000;stroke-width:0.8;\" x=\"26.925\" xlink:href=\"#ma27e367e4a\" y=\"49.911429\"/>\r\n      </g>\r\n     </g>\r\n     <g id=\"text_8\">\r\n      <!-- 5 -->\r\n      <g transform=\"translate(13.5625 53.710647)scale(0.1 -0.1)\">\r\n       <use xlink:href=\"#DejaVuSans-53\"/>\r\n      </g>\r\n     </g>\r\n    </g>\r\n    <g id=\"ytick_3\">\r\n     <g id=\"line2d_9\">\r\n      <g>\r\n       <use style=\"stroke:#000000;stroke-width:0.8;\" x=\"26.925\" xlink:href=\"#ma27e367e4a\" y=\"88.74\"/>\r\n      </g>\r\n     </g>\r\n     <g id=\"text_9\">\r\n      <!-- 10 -->\r\n      <g transform=\"translate(7.2 92.539219)scale(0.1 -0.1)\">\r\n       <use xlink:href=\"#DejaVuSans-49\"/>\r\n       <use x=\"63.623047\" xlink:href=\"#DejaVuSans-48\"/>\r\n      </g>\r\n     </g>\r\n    </g>\r\n    <g id=\"ytick_4\">\r\n     <g id=\"line2d_10\">\r\n      <g>\r\n       <use style=\"stroke:#000000;stroke-width:0.8;\" x=\"26.925\" xlink:href=\"#ma27e367e4a\" y=\"127.568571\"/>\r\n      </g>\r\n     </g>\r\n     <g id=\"text_10\">\r\n      <!-- 15 -->\r\n      <g transform=\"translate(7.2 131.36779)scale(0.1 -0.1)\">\r\n       <use xlink:href=\"#DejaVuSans-49\"/>\r\n       <use x=\"63.623047\" xlink:href=\"#DejaVuSans-53\"/>\r\n      </g>\r\n     </g>\r\n    </g>\r\n    <g id=\"ytick_5\">\r\n     <g id=\"line2d_11\">\r\n      <g>\r\n       <use style=\"stroke:#000000;stroke-width:0.8;\" x=\"26.925\" xlink:href=\"#ma27e367e4a\" y=\"166.397143\"/>\r\n      </g>\r\n     </g>\r\n     <g id=\"text_11\">\r\n      <!-- 20 -->\r\n      <g transform=\"translate(7.2 170.196362)scale(0.1 -0.1)\">\r\n       <use xlink:href=\"#DejaVuSans-50\"/>\r\n       <use x=\"63.623047\" xlink:href=\"#DejaVuSans-48\"/>\r\n      </g>\r\n     </g>\r\n    </g>\r\n    <g id=\"ytick_6\">\r\n     <g id=\"line2d_12\">\r\n      <g>\r\n       <use style=\"stroke:#000000;stroke-width:0.8;\" x=\"26.925\" xlink:href=\"#ma27e367e4a\" y=\"205.225714\"/>\r\n      </g>\r\n     </g>\r\n     <g id=\"text_12\">\r\n      <!-- 25 -->\r\n      <g transform=\"translate(7.2 209.024933)scale(0.1 -0.1)\">\r\n       <use xlink:href=\"#DejaVuSans-50\"/>\r\n       <use x=\"63.623047\" xlink:href=\"#DejaVuSans-53\"/>\r\n      </g>\r\n     </g>\r\n    </g>\r\n   </g>\r\n   <g id=\"patch_3\">\r\n    <path d=\"M 26.925 224.64 \r\nL 26.925 7.2 \r\n\" style=\"fill:none;stroke:#000000;stroke-linecap:square;stroke-linejoin:miter;stroke-width:0.8;\"/>\r\n   </g>\r\n   <g id=\"patch_4\">\r\n    <path d=\"M 244.365 224.64 \r\nL 244.365 7.2 \r\n\" style=\"fill:none;stroke:#000000;stroke-linecap:square;stroke-linejoin:miter;stroke-width:0.8;\"/>\r\n   </g>\r\n   <g id=\"patch_5\">\r\n    <path d=\"M 26.925 224.64 \r\nL 244.365 224.64 \r\n\" style=\"fill:none;stroke:#000000;stroke-linecap:square;stroke-linejoin:miter;stroke-width:0.8;\"/>\r\n   </g>\r\n   <g id=\"patch_6\">\r\n    <path d=\"M 26.925 7.2 \r\nL 244.365 7.2 \r\n\" style=\"fill:none;stroke:#000000;stroke-linecap:square;stroke-linejoin:miter;stroke-width:0.8;\"/>\r\n   </g>\r\n  </g>\r\n </g>\r\n <defs>\r\n  <clipPath id=\"p2ae615bcf4\">\r\n   <rect height=\"217.44\" width=\"217.44\" x=\"26.925\" y=\"7.2\"/>\r\n  </clipPath>\r\n </defs>\r\n</svg>\r\n",
      "image/png": "[encoded data removed]"
     },
     "metadata": {
      "needs_background": "light"
     }
    }
   ],
   "source": [
    "plt.imshow(images[3].reshape(28,28))"
   ]
  },
  {
   "cell_type": "code",
   "execution_count": 14,
   "metadata": {},
   "outputs": [],
   "source": [
    "from sklearn.model_selection import train_test_split"
   ]
  },
  {
   "cell_type": "code",
   "execution_count": 15,
   "metadata": {},
   "outputs": [],
   "source": [
    "x_train,x_test,y_train,y_test=train_test_split(images,labels,test_size=0.3,random_state=100)"
   ]
  },
  {
   "cell_type": "code",
   "execution_count": 16,
   "metadata": {},
   "outputs": [
    {
     "output_type": "execute_result",
     "data": {
      "text/plain": [
       "(19218, 28, 28)"
      ]
     },
     "metadata": {},
     "execution_count": 16
    }
   ],
   "source": [
    "x_train.shape"
   ]
  },
  {
   "cell_type": "code",
   "execution_count": 17,
   "metadata": {},
   "outputs": [
    {
     "output_type": "execute_result",
     "data": {
      "text/plain": [
       "(8237, 28, 28)"
      ]
     },
     "metadata": {},
     "execution_count": 17
    }
   ],
   "source": [
    "x_test.shape"
   ]
  },
  {
   "cell_type": "code",
   "execution_count": 18,
   "metadata": {},
   "outputs": [
    {
     "output_type": "execute_result",
     "data": {
      "text/plain": [
       "(19218, 24)"
      ]
     },
     "metadata": {},
     "execution_count": 18
    }
   ],
   "source": [
    "y_train.shape\n"
   ]
  },
  {
   "cell_type": "code",
   "execution_count": 19,
   "metadata": {},
   "outputs": [],
   "source": [
    "import keras\n",
    "from keras.models import Sequential\n",
    "from keras.layers import Dense, Conv2D,MaxPool2D,Flatten,Dropout\n"
   ]
  },
  {
   "cell_type": "code",
   "execution_count": 20,
   "metadata": {},
   "outputs": [],
   "source": [
    "import tensorflow"
   ]
  },
  {
   "cell_type": "code",
   "execution_count": 21,
   "metadata": {},
   "outputs": [],
   "source": [
    "batch_size = 128\n",
    "num_classes=24\n",
    "epoches = 60"
   ]
  },
  {
   "cell_type": "code",
   "execution_count": 22,
   "metadata": {},
   "outputs": [
    {
     "output_type": "execute_result",
     "data": {
      "text/plain": [
       "array([[[0.54117647, 0.55294118, 0.56470588, ..., 0.69019608,\n",
       "         0.69411765, 0.69411765],\n",
       "        [0.54509804, 0.55686275, 0.56862745, ..., 0.69803922,\n",
       "         0.69803922, 0.69803922],\n",
       "        [0.54901961, 0.56078431, 0.56862745, ..., 0.70196078,\n",
       "         0.70196078, 0.70588235],\n",
       "        ...,\n",
       "        [0.56470588, 0.57647059, 0.58823529, ..., 0.73333333,\n",
       "         0.73333333, 0.73333333],\n",
       "        [0.56470588, 0.57647059, 0.58431373, ..., 0.7254902 ,\n",
       "         0.7254902 , 0.72941176],\n",
       "        [0.56078431, 0.57254902, 0.57647059, ..., 0.71764706,\n",
       "         0.72156863, 0.72156863]],\n",
       "\n",
       "       [[0.66666667, 0.6745098 , 0.68235294, ..., 0.61568627,\n",
       "         0.61176471, 0.61176471],\n",
       "        [0.6745098 , 0.68235294, 0.68627451, ..., 0.62352941,\n",
       "         0.61568627, 0.61176471],\n",
       "        [0.6745098 , 0.68627451, 0.69411765, ..., 0.63137255,\n",
       "         0.62352941, 0.61568627],\n",
       "        ...,\n",
       "        [0.74117647, 0.75294118, 0.75686275, ..., 0.71764706,\n",
       "         0.70588235, 0.69803922],\n",
       "        [0.73333333, 0.74509804, 0.75294118, ..., 0.70980392,\n",
       "         0.70588235, 0.69803922],\n",
       "        [0.7372549 , 0.75294118, 0.76078431, ..., 0.71372549,\n",
       "         0.70588235, 0.69803922]],\n",
       "\n",
       "       [[0.72156863, 0.72941176, 0.7372549 , ..., 0.68627451,\n",
       "         0.68235294, 0.6745098 ],\n",
       "        [0.7254902 , 0.7372549 , 0.74509804, ..., 0.69019608,\n",
       "         0.68627451, 0.67843137],\n",
       "        [0.73333333, 0.74117647, 0.74509804, ..., 0.70196078,\n",
       "         0.69411765, 0.68627451],\n",
       "        ...,\n",
       "        [0.19607843, 0.18823529, 0.17647059, ..., 0.78039216,\n",
       "         0.77647059, 0.76862745],\n",
       "        [0.17254902, 0.17647059, 0.17254902, ..., 0.78039216,\n",
       "         0.77254902, 0.76470588],\n",
       "        [0.16862745, 0.16470588, 0.15686275, ..., 0.78431373,\n",
       "         0.76862745, 0.76862745]],\n",
       "\n",
       "       ...,\n",
       "\n",
       "       [[0.38823529, 0.43921569, 0.47843137, ..., 0.73333333,\n",
       "         0.73333333, 0.73333333],\n",
       "        [0.4       , 0.45098039, 0.49019608, ..., 0.74901961,\n",
       "         0.74901961, 0.74509804],\n",
       "        [0.41176471, 0.46666667, 0.50196078, ..., 0.76078431,\n",
       "         0.76078431, 0.77647059],\n",
       "        ...,\n",
       "        [0.41960784, 0.43137255, 0.44313725, ..., 0.53333333,\n",
       "         0.39215686, 0.32941176],\n",
       "        [0.39215686, 0.39215686, 0.4       , ..., 0.48235294,\n",
       "         0.37647059, 0.3254902 ],\n",
       "        [0.40392157, 0.40784314, 0.42352941, ..., 0.42352941,\n",
       "         0.34901961, 0.31764706]],\n",
       "\n",
       "       [[0.68235294, 0.68235294, 0.68627451, ..., 0.50588235,\n",
       "         0.3254902 , 0.16470588],\n",
       "        [0.69803922, 0.69803922, 0.69803922, ..., 0.36470588,\n",
       "         0.16862745, 0.10196078],\n",
       "        [0.71372549, 0.71372549, 0.71372549, ..., 0.23921569,\n",
       "         0.1372549 , 0.10588235],\n",
       "        ...,\n",
       "        [0.43529412, 0.43921569, 0.44313725, ..., 0.1372549 ,\n",
       "         0.2       , 0.3372549 ],\n",
       "        [0.43529412, 0.44313725, 0.44313725, ..., 0.12156863,\n",
       "         0.13333333, 0.16078431],\n",
       "        [0.43529412, 0.43921569, 0.44313725, ..., 0.11372549,\n",
       "         0.1254902 , 0.12156863]],\n",
       "\n",
       "       [[0.61176471, 0.62745098, 0.63921569, ..., 0.73333333,\n",
       "         0.72941176, 0.7254902 ],\n",
       "        [0.61960784, 0.63529412, 0.64705882, ..., 0.74117647,\n",
       "         0.7372549 , 0.7372549 ],\n",
       "        [0.63529412, 0.64705882, 0.65490196, ..., 0.75686275,\n",
       "         0.75294118, 0.74901961],\n",
       "        ...,\n",
       "        [0.76862745, 0.78039216, 0.81176471, ..., 0.98039216,\n",
       "         0.97254902, 0.96862745],\n",
       "        [0.76862745, 0.78039216, 0.81568627, ..., 0.98823529,\n",
       "         0.98039216, 0.97254902],\n",
       "        [0.76862745, 0.78039216, 0.82352941, ..., 0.98823529,\n",
       "         0.98823529, 0.98039216]]])"
      ]
     },
     "metadata": {},
     "execution_count": 22
    }
   ],
   "source": [
    "x_train=x_train/255\n",
    "x_train"
   ]
  },
  {
   "cell_type": "code",
   "execution_count": 23,
   "metadata": {},
   "outputs": [],
   "source": [
    "x_test=x_test/255"
   ]
  },
  {
   "cell_type": "code",
   "execution_count": 24,
   "metadata": {},
   "outputs": [],
   "source": [
    "x_train = x_train.reshape(x_train.shape[0], 28, 28, 1)"
   ]
  },
  {
   "cell_type": "code",
   "execution_count": 25,
   "metadata": {},
   "outputs": [],
   "source": [
    "x_test = x_test.reshape(x_test.shape[0], 28, 28, 1)"
   ]
  },
  {
   "cell_type": "code",
   "execution_count": 26,
   "metadata": {},
   "outputs": [
    {
     "output_type": "execute_result",
     "data": {
      "text/plain": [
       "array([[[[0.54117647],\n",
       "         [0.55294118],\n",
       "         [0.56470588],\n",
       "         ...,\n",
       "         [0.69019608],\n",
       "         [0.69411765],\n",
       "         [0.69411765]],\n",
       "\n",
       "        [[0.54509804],\n",
       "         [0.55686275],\n",
       "         [0.56862745],\n",
       "         ...,\n",
       "         [0.69803922],\n",
       "         [0.69803922],\n",
       "         [0.69803922]],\n",
       "\n",
       "        [[0.54901961],\n",
       "         [0.56078431],\n",
       "         [0.56862745],\n",
       "         ...,\n",
       "         [0.70196078],\n",
       "         [0.70196078],\n",
       "         [0.70588235]],\n",
       "\n",
       "        ...,\n",
       "\n",
       "        [[0.56470588],\n",
       "         [0.57647059],\n",
       "         [0.58823529],\n",
       "         ...,\n",
       "         [0.73333333],\n",
       "         [0.73333333],\n",
       "         [0.73333333]],\n",
       "\n",
       "        [[0.56470588],\n",
       "         [0.57647059],\n",
       "         [0.58431373],\n",
       "         ...,\n",
       "         [0.7254902 ],\n",
       "         [0.7254902 ],\n",
       "         [0.72941176]],\n",
       "\n",
       "        [[0.56078431],\n",
       "         [0.57254902],\n",
       "         [0.57647059],\n",
       "         ...,\n",
       "         [0.71764706],\n",
       "         [0.72156863],\n",
       "         [0.72156863]]],\n",
       "\n",
       "\n",
       "       [[[0.66666667],\n",
       "         [0.6745098 ],\n",
       "         [0.68235294],\n",
       "         ...,\n",
       "         [0.61568627],\n",
       "         [0.61176471],\n",
       "         [0.61176471]],\n",
       "\n",
       "        [[0.6745098 ],\n",
       "         [0.68235294],\n",
       "         [0.68627451],\n",
       "         ...,\n",
       "         [0.62352941],\n",
       "         [0.61568627],\n",
       "         [0.61176471]],\n",
       "\n",
       "        [[0.6745098 ],\n",
       "         [0.68627451],\n",
       "         [0.69411765],\n",
       "         ...,\n",
       "         [0.63137255],\n",
       "         [0.62352941],\n",
       "         [0.61568627]],\n",
       "\n",
       "        ...,\n",
       "\n",
       "        [[0.74117647],\n",
       "         [0.75294118],\n",
       "         [0.75686275],\n",
       "         ...,\n",
       "         [0.71764706],\n",
       "         [0.70588235],\n",
       "         [0.69803922]],\n",
       "\n",
       "        [[0.73333333],\n",
       "         [0.74509804],\n",
       "         [0.75294118],\n",
       "         ...,\n",
       "         [0.70980392],\n",
       "         [0.70588235],\n",
       "         [0.69803922]],\n",
       "\n",
       "        [[0.7372549 ],\n",
       "         [0.75294118],\n",
       "         [0.76078431],\n",
       "         ...,\n",
       "         [0.71372549],\n",
       "         [0.70588235],\n",
       "         [0.69803922]]],\n",
       "\n",
       "\n",
       "       [[[0.72156863],\n",
       "         [0.72941176],\n",
       "         [0.7372549 ],\n",
       "         ...,\n",
       "         [0.68627451],\n",
       "         [0.68235294],\n",
       "         [0.6745098 ]],\n",
       "\n",
       "        [[0.7254902 ],\n",
       "         [0.7372549 ],\n",
       "         [0.74509804],\n",
       "         ...,\n",
       "         [0.69019608],\n",
       "         [0.68627451],\n",
       "         [0.67843137]],\n",
       "\n",
       "        [[0.73333333],\n",
       "         [0.74117647],\n",
       "         [0.74509804],\n",
       "         ...,\n",
       "         [0.70196078],\n",
       "         [0.69411765],\n",
       "         [0.68627451]],\n",
       "\n",
       "        ...,\n",
       "\n",
       "        [[0.19607843],\n",
       "         [0.18823529],\n",
       "         [0.17647059],\n",
       "         ...,\n",
       "         [0.78039216],\n",
       "         [0.77647059],\n",
       "         [0.76862745]],\n",
       "\n",
       "        [[0.17254902],\n",
       "         [0.17647059],\n",
       "         [0.17254902],\n",
       "         ...,\n",
       "         [0.78039216],\n",
       "         [0.77254902],\n",
       "         [0.76470588]],\n",
       "\n",
       "        [[0.16862745],\n",
       "         [0.16470588],\n",
       "         [0.15686275],\n",
       "         ...,\n",
       "         [0.78431373],\n",
       "         [0.76862745],\n",
       "         [0.76862745]]],\n",
       "\n",
       "\n",
       "       ...,\n",
       "\n",
       "\n",
       "       [[[0.38823529],\n",
       "         [0.43921569],\n",
       "         [0.47843137],\n",
       "         ...,\n",
       "         [0.73333333],\n",
       "         [0.73333333],\n",
       "         [0.73333333]],\n",
       "\n",
       "        [[0.4       ],\n",
       "         [0.45098039],\n",
       "         [0.49019608],\n",
       "         ...,\n",
       "         [0.74901961],\n",
       "         [0.74901961],\n",
       "         [0.74509804]],\n",
       "\n",
       "        [[0.41176471],\n",
       "         [0.46666667],\n",
       "         [0.50196078],\n",
       "         ...,\n",
       "         [0.76078431],\n",
       "         [0.76078431],\n",
       "         [0.77647059]],\n",
       "\n",
       "        ...,\n",
       "\n",
       "        [[0.41960784],\n",
       "         [0.43137255],\n",
       "         [0.44313725],\n",
       "         ...,\n",
       "         [0.53333333],\n",
       "         [0.39215686],\n",
       "         [0.32941176]],\n",
       "\n",
       "        [[0.39215686],\n",
       "         [0.39215686],\n",
       "         [0.4       ],\n",
       "         ...,\n",
       "         [0.48235294],\n",
       "         [0.37647059],\n",
       "         [0.3254902 ]],\n",
       "\n",
       "        [[0.40392157],\n",
       "         [0.40784314],\n",
       "         [0.42352941],\n",
       "         ...,\n",
       "         [0.42352941],\n",
       "         [0.34901961],\n",
       "         [0.31764706]]],\n",
       "\n",
       "\n",
       "       [[[0.68235294],\n",
       "         [0.68235294],\n",
       "         [0.68627451],\n",
       "         ...,\n",
       "         [0.50588235],\n",
       "         [0.3254902 ],\n",
       "         [0.16470588]],\n",
       "\n",
       "        [[0.69803922],\n",
       "         [0.69803922],\n",
       "         [0.69803922],\n",
       "         ...,\n",
       "         [0.36470588],\n",
       "         [0.16862745],\n",
       "         [0.10196078]],\n",
       "\n",
       "        [[0.71372549],\n",
       "         [0.71372549],\n",
       "         [0.71372549],\n",
       "         ...,\n",
       "         [0.23921569],\n",
       "         [0.1372549 ],\n",
       "         [0.10588235]],\n",
       "\n",
       "        ...,\n",
       "\n",
       "        [[0.43529412],\n",
       "         [0.43921569],\n",
       "         [0.44313725],\n",
       "         ...,\n",
       "         [0.1372549 ],\n",
       "         [0.2       ],\n",
       "         [0.3372549 ]],\n",
       "\n",
       "        [[0.43529412],\n",
       "         [0.44313725],\n",
       "         [0.44313725],\n",
       "         ...,\n",
       "         [0.12156863],\n",
       "         [0.13333333],\n",
       "         [0.16078431]],\n",
       "\n",
       "        [[0.43529412],\n",
       "         [0.43921569],\n",
       "         [0.44313725],\n",
       "         ...,\n",
       "         [0.11372549],\n",
       "         [0.1254902 ],\n",
       "         [0.12156863]]],\n",
       "\n",
       "\n",
       "       [[[0.61176471],\n",
       "         [0.62745098],\n",
       "         [0.63921569],\n",
       "         ...,\n",
       "         [0.73333333],\n",
       "         [0.72941176],\n",
       "         [0.7254902 ]],\n",
       "\n",
       "        [[0.61960784],\n",
       "         [0.63529412],\n",
       "         [0.64705882],\n",
       "         ...,\n",
       "         [0.74117647],\n",
       "         [0.7372549 ],\n",
       "         [0.7372549 ]],\n",
       "\n",
       "        [[0.63529412],\n",
       "         [0.64705882],\n",
       "         [0.65490196],\n",
       "         ...,\n",
       "         [0.75686275],\n",
       "         [0.75294118],\n",
       "         [0.74901961]],\n",
       "\n",
       "        ...,\n",
       "\n",
       "        [[0.76862745],\n",
       "         [0.78039216],\n",
       "         [0.81176471],\n",
       "         ...,\n",
       "         [0.98039216],\n",
       "         [0.97254902],\n",
       "         [0.96862745]],\n",
       "\n",
       "        [[0.76862745],\n",
       "         [0.78039216],\n",
       "         [0.81568627],\n",
       "         ...,\n",
       "         [0.98823529],\n",
       "         [0.98039216],\n",
       "         [0.97254902]],\n",
       "\n",
       "        [[0.76862745],\n",
       "         [0.78039216],\n",
       "         [0.82352941],\n",
       "         ...,\n",
       "         [0.98823529],\n",
       "         [0.98823529],\n",
       "         [0.98039216]]]])"
      ]
     },
     "metadata": {},
     "execution_count": 26
    }
   ],
   "source": [
    "x_train"
   ]
  },
  {
   "cell_type": "code",
   "execution_count": 27,
   "metadata": {},
   "outputs": [
    {
     "output_type": "execute_result",
     "data": {
      "text/plain": [
       "<matplotlib.image.AxesImage at 0x1c0f6d25eb0>"
      ]
     },
     "metadata": {},
     "execution_count": 27
    },
    {
     "output_type": "display_data",
     "data": {
      "text/plain": "<Figure size 432x288 with 1 Axes>",
      "image/svg+xml": "<?xml version=\"1.0\" encoding=\"utf-8\" standalone=\"no\"?>\r\n<!DOCTYPE svg PUBLIC \"-//W3C//DTD SVG 1.1//EN\"\r\n  \"http://www.w3.org/Graphics/SVG/1.1/DTD/svg11.dtd\">\r\n<!-- Created with matplotlib (https://matplotlib.org/) -->\r\n<svg height=\"248.518125pt\" version=\"1.1\" viewBox=\"0 0 251.565 248.518125\" width=\"251.565pt\" xmlns=\"http://www.w3.org/2000/svg\" xmlns:xlink=\"http://www.w3.org/1999/xlink\">\r\n <metadata>\r\n  <rdf:RDF xmlns:cc=\"http://creativecommons.org/ns#\" xmlns:dc=\"http://purl.org/dc/elements/1.1/\" xmlns:rdf=\"http://www.w3.org/1999/02/22-rdf-syntax-ns#\">\r\n   <cc:Work>\r\n    <dc:type rdf:resource=\"http://purl.org/dc/dcmitype/StillImage\"/>\r\n    <dc:date>2021-05-18T19:30:05.389897</dc:date>\r\n    <dc:format>image/svg+xml</dc:format>\r\n    <dc:creator>\r\n     <cc:Agent>\r\n      <dc:title>Matplotlib v3.3.4, https://matplotlib.org/</dc:title>\r\n     </cc:Agent>\r\n    </dc:creator>\r\n   </cc:Work>\r\n  </rdf:RDF>\r\n </metadata>\r\n <defs>\r\n  <style type=\"text/css\">*{stroke-linecap:butt;stroke-linejoin:round;}</style>\r\n </defs>\r\n <g id=\"figure_1\">\r\n  <g id=\"patch_1\">\r\n   <path d=\"M 0 248.518125 \r\nL 251.565 248.518125 \r\nL 251.565 0 \r\nL 0 0 \r\nz\r\n\" style=\"fill:none;\"/>\r\n  </g>\r\n  <g id=\"axes_1\">\r\n   <g id=\"patch_2\">\r\n    <path d=\"M 26.925 224.64 \r\nL 244.365 224.64 \r\nL 244.365 7.2 \r\nL 26.925 7.2 \r\nz\r\n\" style=\"fill:#ffffff;\"/>\r\n   </g>\r\n   <g clip-path=\"url(#p2ef6a59887)\">\r\n    <image height=\"218\" id=\"imagea135482802\" transform=\"scale(1 -1)translate(0 -218)\" width=\"218\" x=\"26.925\" xlink:href=\"data:image/png;base64,\r\niVBORw0KGgoAAAANSUhEUgAAANoAAADaCAYAAADAHVzbAAAL3UlEQVR4nO3du48kVxXH8VNVt/o5PTue9fptWIOMAdkJD0FAAPwfEBAQEpMQEiAREZMgIZEhIWHhDAIkByASAoRshIVkaR/e9e7s9PR0dVcVCen9HWuu++wu+n7SM1X9mPlNSffo3Fvd/PVPRxPSpFdla5ohW6treWtbTDtZvza7lPXrs3W2tmz0vVOtP9e03sv6vNnJ+qrJv/cjUTMzW9W63lb6vR2799+Ie+vvZVbpzz2x/N+DmdlU3H9S6WtLtZWuz6r8D7TmXOyoi64G8IkQNCAAQQMCEDQgAEEDAhA0IABBAwKkqtG9LtUnMzNrU74v0tT6Wq/eOr2uEl6fzO0n1bqfNBV1795en8x7ba/XpV7/kH0yM90r8/pcHtUHM/N7YdMqXfm126qRdZ5oQACCBgQgaEAAggYEIGhAAIIGBCBoQICrNw7+R/XCktODayrdw/Mk0ZPx5s28XtZR2uq6M/Ol7q/mwcz8eTK/T+bMq1X5z+b1wTxLpzd6yJkvrw/m9bq8egmeaEAAggYEIGhAAIIGBCBoQACCBgRwl/e9LePUEr43BjNvnXEPZ0s3xRuDSd6IjjvKcvX6btRfezfqZeaSMZhS3pZwJaMqJWMqZoddni/FEw0IQNCAAAQNCEDQgAAEDQhA0IAABA0IkNJ7C/kDFye6b7Je5ftVk6U+OsmOdXmevD7a1ftsh/bPixeytb999Kq89nR+IeuvH92R9W+s/iXrx23++tKjky5H3XdtRZ9tO+rep9dn241eb1P32dT1pT06nmhAAIIGBCBoQACCBgQgaEAAggYEIGhAgDS/rX9gfltnse7bbG2/mMhr758uZf3Wdd0XWb6wztZevHYmr31+/kjWP7+8K+vn/UzW3/7Hm9na8btzee1D3dq092efk/Xfv5V/bTOzn33lt9naG6LHZlbeZ9tZvs9Wut3cIXk9Og9PNCAAQQMCEDQgAEEDAhA0IABBAwIQNCBA9dlf/FwOEKWN7m2k83zdOX3IklM3p2UzTPO1XtTMzLpjPTfVv6rf3Is3Hsr6vXfz82iv/Ekf23R5Xfcf68557zP9O7v4/oNs7cdffEde+9Xph7LeOq2wkmObnuZ9H3miAQEIGhCAoAEBCBoQgKABAQgaEICgAQGqN3/3E9mU2e1176Hr8r2N/tLpe3Q659VW19uzfN9l9pFzTteF7kV5PbztM07P52H+/os7erZpe01/581Wv/fj9/WsXX+U79O9/z392r/67i9l/WY6l/WSPprnSe6z8UQDAhA0IABBAwIQNCAAQQMCEDQgQHpupZdjN7v8dnJmZl2fXxLdH5XluNvr5dpum6+fPa9HTdr7+t5q/MfMrJ/qJfbts/na2Wt6GblydjZr1/p7nZzp/eqmf/hLtvb8K9+U137wLfHBzF/eL1nCV1vVmZnZAY994tgm4ClA0IAABA0IQNCAAAQNCEDQgAAEDQiQ7q11z6UfHl8WF9NO1tXRTHfmR/Las/1K1sda902GVvd0RvG1NVvdS/L6aN5WetsT/d4XzzyTrU0f6vmgv56/JuvfXnwg624v7AnFsU3AU4CgAQEIGhCAoAEBCBoQgKABAQgaECA9+HhZdIOqvnpfZBx0P2kzuXrv4nKr5+iaC2em64E3N3X1uaqkT20qNjhnJz36zheytd659p33vizrP7j+Z1l/KeVnxkq3mzukrTPr5uGJBgQgaEAAggYEIGhAAIIGBCBoQACCBgRIdqb7TZ6hOdx80a7X/wfO2/xgVu9cW+91z2Z2T3+uyZmu7xb5+++O9WtvT2TZ+rl+7fXLul7v89/N6t/6tdu/677rB1+7Luunza180WmjlfbZSnphpXN0PNGAAAQNCEDQgAAEDQhA0IAABA0IkCpnmdszquX95CyJOvXJUm8316b8GM1247Qt9K5qthfL82Zm+5muXz6b/2zdDb3MXC93su6NF40bfTxRdZbfjm5o9L29EZ8Pd/mt7MzMbqZ72VpX+H9/4vxSS+5/Oeq/p1mlf2c80YAABA0IQNCAAAQNCEDQgAAEDQhA0IAAyTsiaNQnAB2U1y9SpnPd19g8q3tNVju9KH17U22XeqP/v41bfS6Td+xTWnv1fG1y7ozgOCM+v/nP12X97elbsq6cbWey3o/6vTXV1Udd2kYHJdW6h8cTDQhA0IAABA0IQNCAAAQNCEDQgAAEDQiQ6s6ZbXLaTWMtsto7fYutLu8KZuXmcz3L5p2cVDu9qlb0ojxjXTYDODi/k36qv/ftab7WXdP33h3rftHmrr7B3clRtracO38Qjm6vv5jG6XWpej/o3uZzq3NZ54kGBCBoQACCBgQgaEAAggYEIGhAAIIGBHA6Mr5azGWNzh6BHu/6fZcflluPuu9RbfSgndcnSxe6vl/ka92Jc+TTiZ59aq/pftPJsX5zy0m+x7jr9fdy0en9DRcTPag3b/P1ttafe7PXr73uJrLuudjmr9+s9b2/dOO2rPNEAwIQNCAAQQMCEDQgAEEDAhA0IABBAwKk/co5KMyhzlfz9owcnCPMvPPTqjpfbxr9ufrWqU/0/6D9XJZteyruf6Jn5ZYr3SdbTPX1nvvrfJPvcqt/Kap3aWZ2ps7LM7Nhl/9e00T/wXiv7Z0L5507d7S6zNaGR/p7uX2x0q8tqwA+FQQNCEDQgAAEDQhA0IAABA0IkOxYL3mqJXRPv3POfOqcnDvbzQ3i/nt9Z6t6fe/K6Xo0zgr7+CD/2TrTIxdrsQRuZraund7Cpb6+cu6vjHOnZ+P9vYijuHYF7+uTUMv3ZmY/euOP2drbp/q4qdeW92SdJxoQgKABAQgaEICgAQEIGhCAoAEBCBoQIHl9sibphtJkmu9YecfkePpB/x/YqT6aM1JRanT+RQ3i6KRxqbt8rTPO4RlmukdYV/n35h13tZrpER61nZyZ2arN97IWSV+7TPq113u9xeDL8wey/vr0Vrb2w5c+ltcuav3eeKIBAQgaEICgAQEIGhCAoAEBCBoQgKABAYqPbVK8Ptq01f2kWdL1VNCn29zQ24c9elX3ZLzP9uIyf3TSZ5a6J3PS6mOXjpx+0lGj565asQ/gqtbXXk/nsr6qN1d+7Vml+2gTK+vLTp39DydqCLHRn7t1TijjiQYEIGhAAIIGBCBoQACCBgQgaEAAggYESKPYZ+/Q3HmzXs+UzcX80vFE94PSXPdklqder8qpi16X1+da1HomzOs3rRrdy5rIPpq+1uuzlfa6lKI+mPm9rt3VtzB1r+WJBgQgaEAAggYEIGhAAIIGBCBoQACCBgQ46Dya1ydLzeF6Lp5prWfdvLo3C6fmrjy7sWxPynbQ733S5N/bbtR/EpejnuOzA86UeX0yT0mfrBRPNCAAQQMCEDQgAEEDAhA0IABBAwKksddZG0a9pDqIMZvmCY7xdtDL2EvTYzCH5C3vl7QOSpW2HtTyv7f0/2hwWgsOb8zmkJ7gKAD/PwgaEICgAQEIGhCAoAEBCBoQgKABAYrHZHrRh6vrxziXUMjrs3m9rF2d7zd52+h529F5vSxv1KUr6IW1lR7B8cgxG2fExuP14bbO5y7ps3n35okGBCBoQACCBgQgaEAAggYEIGhAAIIGBHD7aGPvnHVTMJ60d2bhGmdLt92Qf/HO6VV573sv7m2m+2RmZpcFs1Nej64V28WZ+VvCqe3o1FZ0Zn6PzvM4Z+k8Xi9M8XpwPNGAAAQNCEDQgAAEDQhA0IAABA0IQNCAAKngFB0zMxvFvo5qz8dPw14cC7V3eiITO2w/R70378gnzyH3fSyZVXvsDnhkVCmeaEAAggYEIGhAAIIGBCBoQACCBgRI5izBq+X7Ur1YAv8kdUUtr5v5YzSp0uMgaXCW0NXLO6vM3giOd727FZ4adfFWwJ/if816Ez+zWcF2d92ov5in+GsDnh4EDQhA0IAABA0IQNCAAAQNCEDQgAB+H83ZEm4YH9/ogTr+aJ7KjgDaO30Rbzs6xd0uztmqzrveG6PxtqNTZlb2vZa89qGp7610mzyeaEAAggYEIGhAAIIGBCBoQACCBgQgaECA/wIfw+Wa+chMPgAAAABJRU5ErkJggg==\" y=\"-6.64\"/>\r\n   </g>\r\n   <g id=\"matplotlib.axis_1\">\r\n    <g id=\"xtick_1\">\r\n     <g id=\"line2d_1\">\r\n      <defs>\r\n       <path d=\"M 0 0 \r\nL 0 3.5 \r\n\" id=\"ma54958faac\" style=\"stroke:#000000;stroke-width:0.8;\"/>\r\n      </defs>\r\n      <g>\r\n       <use style=\"stroke:#000000;stroke-width:0.8;\" x=\"30.807857\" xlink:href=\"#ma54958faac\" y=\"224.64\"/>\r\n      </g>\r\n     </g>\r\n     <g id=\"text_1\">\r\n      <!-- 0 -->\r\n      <g transform=\"translate(27.626607 239.238437)scale(0.1 -0.1)\">\r\n       <defs>\r\n        <path d=\"M 31.78125 66.40625 \r\nQ 24.171875 66.40625 20.328125 58.90625 \r\nQ 16.5 51.421875 16.5 36.375 \r\nQ 16.5 21.390625 20.328125 13.890625 \r\nQ 24.171875 6.390625 31.78125 6.390625 \r\nQ 39.453125 6.390625 43.28125 13.890625 \r\nQ 47.125 21.390625 47.125 36.375 \r\nQ 47.125 51.421875 43.28125 58.90625 \r\nQ 39.453125 66.40625 31.78125 66.40625 \r\nz\r\nM 31.78125 74.21875 \r\nQ 44.046875 74.21875 50.515625 64.515625 \r\nQ 56.984375 54.828125 56.984375 36.375 \r\nQ 56.984375 17.96875 50.515625 8.265625 \r\nQ 44.046875 -1.421875 31.78125 -1.421875 \r\nQ 19.53125 -1.421875 13.0625 8.265625 \r\nQ 6.59375 17.96875 6.59375 36.375 \r\nQ 6.59375 54.828125 13.0625 64.515625 \r\nQ 19.53125 74.21875 31.78125 74.21875 \r\nz\r\n\" id=\"DejaVuSans-48\"/>\r\n       </defs>\r\n       <use xlink:href=\"#DejaVuSans-48\"/>\r\n      </g>\r\n     </g>\r\n    </g>\r\n    <g id=\"xtick_2\">\r\n     <g id=\"line2d_2\">\r\n      <g>\r\n       <use style=\"stroke:#000000;stroke-width:0.8;\" x=\"69.636429\" xlink:href=\"#ma54958faac\" y=\"224.64\"/>\r\n      </g>\r\n     </g>\r\n     <g id=\"text_2\">\r\n      <!-- 5 -->\r\n      <g transform=\"translate(66.455179 239.238437)scale(0.1 -0.1)\">\r\n       <defs>\r\n        <path d=\"M 10.796875 72.90625 \r\nL 49.515625 72.90625 \r\nL 49.515625 64.59375 \r\nL 19.828125 64.59375 \r\nL 19.828125 46.734375 \r\nQ 21.96875 47.46875 24.109375 47.828125 \r\nQ 26.265625 48.1875 28.421875 48.1875 \r\nQ 40.625 48.1875 47.75 41.5 \r\nQ 54.890625 34.8125 54.890625 23.390625 \r\nQ 54.890625 11.625 47.5625 5.09375 \r\nQ 40.234375 -1.421875 26.90625 -1.421875 \r\nQ 22.3125 -1.421875 17.546875 -0.640625 \r\nQ 12.796875 0.140625 7.71875 1.703125 \r\nL 7.71875 11.625 \r\nQ 12.109375 9.234375 16.796875 8.0625 \r\nQ 21.484375 6.890625 26.703125 6.890625 \r\nQ 35.15625 6.890625 40.078125 11.328125 \r\nQ 45.015625 15.765625 45.015625 23.390625 \r\nQ 45.015625 31 40.078125 35.4375 \r\nQ 35.15625 39.890625 26.703125 39.890625 \r\nQ 22.75 39.890625 18.8125 39.015625 \r\nQ 14.890625 38.140625 10.796875 36.28125 \r\nz\r\n\" id=\"DejaVuSans-53\"/>\r\n       </defs>\r\n       <use xlink:href=\"#DejaVuSans-53\"/>\r\n      </g>\r\n     </g>\r\n    </g>\r\n    <g id=\"xtick_3\">\r\n     <g id=\"line2d_3\">\r\n      <g>\r\n       <use style=\"stroke:#000000;stroke-width:0.8;\" x=\"108.465\" xlink:href=\"#ma54958faac\" y=\"224.64\"/>\r\n      </g>\r\n     </g>\r\n     <g id=\"text_3\">\r\n      <!-- 10 -->\r\n      <g transform=\"translate(102.1025 239.238437)scale(0.1 -0.1)\">\r\n       <defs>\r\n        <path d=\"M 12.40625 8.296875 \r\nL 28.515625 8.296875 \r\nL 28.515625 63.921875 \r\nL 10.984375 60.40625 \r\nL 10.984375 69.390625 \r\nL 28.421875 72.90625 \r\nL 38.28125 72.90625 \r\nL 38.28125 8.296875 \r\nL 54.390625 8.296875 \r\nL 54.390625 0 \r\nL 12.40625 0 \r\nz\r\n\" id=\"DejaVuSans-49\"/>\r\n       </defs>\r\n       <use xlink:href=\"#DejaVuSans-49\"/>\r\n       <use x=\"63.623047\" xlink:href=\"#DejaVuSans-48\"/>\r\n      </g>\r\n     </g>\r\n    </g>\r\n    <g id=\"xtick_4\">\r\n     <g id=\"line2d_4\">\r\n      <g>\r\n       <use style=\"stroke:#000000;stroke-width:0.8;\" x=\"147.293571\" xlink:href=\"#ma54958faac\" y=\"224.64\"/>\r\n      </g>\r\n     </g>\r\n     <g id=\"text_4\">\r\n      <!-- 15 -->\r\n      <g transform=\"translate(140.931071 239.238437)scale(0.1 -0.1)\">\r\n       <use xlink:href=\"#DejaVuSans-49\"/>\r\n       <use x=\"63.623047\" xlink:href=\"#DejaVuSans-53\"/>\r\n      </g>\r\n     </g>\r\n    </g>\r\n    <g id=\"xtick_5\">\r\n     <g id=\"line2d_5\">\r\n      <g>\r\n       <use style=\"stroke:#000000;stroke-width:0.8;\" x=\"186.122143\" xlink:href=\"#ma54958faac\" y=\"224.64\"/>\r\n      </g>\r\n     </g>\r\n     <g id=\"text_5\">\r\n      <!-- 20 -->\r\n      <g transform=\"translate(179.759643 239.238437)scale(0.1 -0.1)\">\r\n       <defs>\r\n        <path d=\"M 19.1875 8.296875 \r\nL 53.609375 8.296875 \r\nL 53.609375 0 \r\nL 7.328125 0 \r\nL 7.328125 8.296875 \r\nQ 12.9375 14.109375 22.625 23.890625 \r\nQ 32.328125 33.6875 34.8125 36.53125 \r\nQ 39.546875 41.84375 41.421875 45.53125 \r\nQ 43.3125 49.21875 43.3125 52.78125 \r\nQ 43.3125 58.59375 39.234375 62.25 \r\nQ 35.15625 65.921875 28.609375 65.921875 \r\nQ 23.96875 65.921875 18.8125 64.3125 \r\nQ 13.671875 62.703125 7.8125 59.421875 \r\nL 7.8125 69.390625 \r\nQ 13.765625 71.78125 18.9375 73 \r\nQ 24.125 74.21875 28.421875 74.21875 \r\nQ 39.75 74.21875 46.484375 68.546875 \r\nQ 53.21875 62.890625 53.21875 53.421875 \r\nQ 53.21875 48.921875 51.53125 44.890625 \r\nQ 49.859375 40.875 45.40625 35.40625 \r\nQ 44.1875 33.984375 37.640625 27.21875 \r\nQ 31.109375 20.453125 19.1875 8.296875 \r\nz\r\n\" id=\"DejaVuSans-50\"/>\r\n       </defs>\r\n       <use xlink:href=\"#DejaVuSans-50\"/>\r\n       <use x=\"63.623047\" xlink:href=\"#DejaVuSans-48\"/>\r\n      </g>\r\n     </g>\r\n    </g>\r\n    <g id=\"xtick_6\">\r\n     <g id=\"line2d_6\">\r\n      <g>\r\n       <use style=\"stroke:#000000;stroke-width:0.8;\" x=\"224.950714\" xlink:href=\"#ma54958faac\" y=\"224.64\"/>\r\n      </g>\r\n     </g>\r\n     <g id=\"text_6\">\r\n      <!-- 25 -->\r\n      <g transform=\"translate(218.588214 239.238437)scale(0.1 -0.1)\">\r\n       <use xlink:href=\"#DejaVuSans-50\"/>\r\n       <use x=\"63.623047\" xlink:href=\"#DejaVuSans-53\"/>\r\n      </g>\r\n     </g>\r\n    </g>\r\n   </g>\r\n   <g id=\"matplotlib.axis_2\">\r\n    <g id=\"ytick_1\">\r\n     <g id=\"line2d_7\">\r\n      <defs>\r\n       <path d=\"M 0 0 \r\nL -3.5 0 \r\n\" id=\"mcd586e760a\" style=\"stroke:#000000;stroke-width:0.8;\"/>\r\n      </defs>\r\n      <g>\r\n       <use style=\"stroke:#000000;stroke-width:0.8;\" x=\"26.925\" xlink:href=\"#mcd586e760a\" y=\"11.082857\"/>\r\n      </g>\r\n     </g>\r\n     <g id=\"text_7\">\r\n      <!-- 0 -->\r\n      <g transform=\"translate(13.5625 14.882076)scale(0.1 -0.1)\">\r\n       <use xlink:href=\"#DejaVuSans-48\"/>\r\n      </g>\r\n     </g>\r\n    </g>\r\n    <g id=\"ytick_2\">\r\n     <g id=\"line2d_8\">\r\n      <g>\r\n       <use style=\"stroke:#000000;stroke-width:0.8;\" x=\"26.925\" xlink:href=\"#mcd586e760a\" y=\"49.911429\"/>\r\n      </g>\r\n     </g>\r\n     <g id=\"text_8\">\r\n      <!-- 5 -->\r\n      <g transform=\"translate(13.5625 53.710647)scale(0.1 -0.1)\">\r\n       <use xlink:href=\"#DejaVuSans-53\"/>\r\n      </g>\r\n     </g>\r\n    </g>\r\n    <g id=\"ytick_3\">\r\n     <g id=\"line2d_9\">\r\n      <g>\r\n       <use style=\"stroke:#000000;stroke-width:0.8;\" x=\"26.925\" xlink:href=\"#mcd586e760a\" y=\"88.74\"/>\r\n      </g>\r\n     </g>\r\n     <g id=\"text_9\">\r\n      <!-- 10 -->\r\n      <g transform=\"translate(7.2 92.539219)scale(0.1 -0.1)\">\r\n       <use xlink:href=\"#DejaVuSans-49\"/>\r\n       <use x=\"63.623047\" xlink:href=\"#DejaVuSans-48\"/>\r\n      </g>\r\n     </g>\r\n    </g>\r\n    <g id=\"ytick_4\">\r\n     <g id=\"line2d_10\">\r\n      <g>\r\n       <use style=\"stroke:#000000;stroke-width:0.8;\" x=\"26.925\" xlink:href=\"#mcd586e760a\" y=\"127.568571\"/>\r\n      </g>\r\n     </g>\r\n     <g id=\"text_10\">\r\n      <!-- 15 -->\r\n      <g transform=\"translate(7.2 131.36779)scale(0.1 -0.1)\">\r\n       <use xlink:href=\"#DejaVuSans-49\"/>\r\n       <use x=\"63.623047\" xlink:href=\"#DejaVuSans-53\"/>\r\n      </g>\r\n     </g>\r\n    </g>\r\n    <g id=\"ytick_5\">\r\n     <g id=\"line2d_11\">\r\n      <g>\r\n       <use style=\"stroke:#000000;stroke-width:0.8;\" x=\"26.925\" xlink:href=\"#mcd586e760a\" y=\"166.397143\"/>\r\n      </g>\r\n     </g>\r\n     <g id=\"text_11\">\r\n      <!-- 20 -->\r\n      <g transform=\"translate(7.2 170.196362)scale(0.1 -0.1)\">\r\n       <use xlink:href=\"#DejaVuSans-50\"/>\r\n       <use x=\"63.623047\" xlink:href=\"#DejaVuSans-48\"/>\r\n      </g>\r\n     </g>\r\n    </g>\r\n    <g id=\"ytick_6\">\r\n     <g id=\"line2d_12\">\r\n      <g>\r\n       <use style=\"stroke:#000000;stroke-width:0.8;\" x=\"26.925\" xlink:href=\"#mcd586e760a\" y=\"205.225714\"/>\r\n      </g>\r\n     </g>\r\n     <g id=\"text_12\">\r\n      <!-- 25 -->\r\n      <g transform=\"translate(7.2 209.024933)scale(0.1 -0.1)\">\r\n       <use xlink:href=\"#DejaVuSans-50\"/>\r\n       <use x=\"63.623047\" xlink:href=\"#DejaVuSans-53\"/>\r\n      </g>\r\n     </g>\r\n    </g>\r\n   </g>\r\n   <g id=\"patch_3\">\r\n    <path d=\"M 26.925 224.64 \r\nL 26.925 7.2 \r\n\" style=\"fill:none;stroke:#000000;stroke-linecap:square;stroke-linejoin:miter;stroke-width:0.8;\"/>\r\n   </g>\r\n   <g id=\"patch_4\">\r\n    <path d=\"M 244.365 224.64 \r\nL 244.365 7.2 \r\n\" style=\"fill:none;stroke:#000000;stroke-linecap:square;stroke-linejoin:miter;stroke-width:0.8;\"/>\r\n   </g>\r\n   <g id=\"patch_5\">\r\n    <path d=\"M 26.925 224.64 \r\nL 244.365 224.64 \r\n\" style=\"fill:none;stroke:#000000;stroke-linecap:square;stroke-linejoin:miter;stroke-width:0.8;\"/>\r\n   </g>\r\n   <g id=\"patch_6\">\r\n    <path d=\"M 26.925 7.2 \r\nL 244.365 7.2 \r\n\" style=\"fill:none;stroke:#000000;stroke-linecap:square;stroke-linejoin:miter;stroke-width:0.8;\"/>\r\n   </g>\r\n  </g>\r\n </g>\r\n <defs>\r\n  <clipPath id=\"p2ef6a59887\">\r\n   <rect height=\"217.44\" width=\"217.44\" x=\"26.925\" y=\"7.2\"/>\r\n  </clipPath>\r\n </defs>\r\n</svg>\r\n",
      "image/png": "[encoded data removed]"
     },
     "metadata": {
      "needs_background": "light"
     }
    }
   ],
   "source": [
    "plt.imshow(x_train[0].reshape(28,28))"
   ]
  },
  {
   "cell_type": "code",
   "execution_count": 29,
   "metadata": {},
   "outputs": [],
   "source": [
    "model= Sequential()\n",
    "#first convolutional layer\n",
    "model.add(Conv2D(64, kernel_size=(3,3), activation='relu', input_shape=(28,28,1) ))\n",
    "model.add(MaxPool2D(pool_size=(2,2)))\n",
    "#second convolutional layer\n",
    "model.add(Conv2D(64, kernel_size=(3,3), activation='relu'))\n",
    "model.add(MaxPool2D(pool_size=(2,2)))\n",
    "#third\n",
    "model.add(Conv2D(64, kernel_size=(3,3), activation='relu'))\n",
    "model.add(MaxPool2D(pool_size=(2,2)))\n",
    "#flattening\n",
    "model.add(Flatten())\n",
    "#fully connected layer\n",
    "model.add(Dense(128, activation='relu'))\n",
    "\n",
    "model.add(Dropout(0.30))\n",
    "#output layer\n",
    "model.add(Dense(num_classes, activation='softmax'))"
   ]
  },
  {
   "cell_type": "code",
   "execution_count": 29,
   "metadata": {},
   "outputs": [],
   "source": [
    "model.compile(loss = keras.losses.categorical_crossentropy, optimizer=keras.optimizers.Adam(),metrics=['accuracy'])"
   ]
  },
  {
   "cell_type": "code",
   "execution_count": 30,
   "metadata": {},
   "outputs": [
    {
     "output_type": "stream",
     "name": "stdout",
     "text": [
      "Epoch 1/60\n",
      "151/151 [==============================] - 17s 114ms/step - loss: 2.6933 - accuracy: 0.1734 - val_loss: 1.8338 - val_accuracy: 0.4317\n",
      "Epoch 2/60\n",
      "151/151 [==============================] - 16s 107ms/step - loss: 1.3934 - accuracy: 0.5321 - val_loss: 0.8882 - val_accuracy: 0.7188\n",
      "Epoch 3/60\n",
      "151/151 [==============================] - 16s 103ms/step - loss: 0.8445 - accuracy: 0.7107 - val_loss: 0.5610 - val_accuracy: 0.8162\n",
      "Epoch 4/60\n",
      "151/151 [==============================] - 17s 112ms/step - loss: 0.5868 - accuracy: 0.7995 - val_loss: 0.3796 - val_accuracy: 0.8865\n",
      "Epoch 5/60\n",
      "151/151 [==============================] - 17s 113ms/step - loss: 0.4220 - accuracy: 0.8558 - val_loss: 0.2344 - val_accuracy: 0.9343\n",
      "Epoch 6/60\n",
      "151/151 [==============================] - 17s 113ms/step - loss: 0.3006 - accuracy: 0.9015 - val_loss: 0.1481 - val_accuracy: 0.9610\n",
      "Epoch 7/60\n",
      "151/151 [==============================] - 17s 113ms/step - loss: 0.2231 - accuracy: 0.9264 - val_loss: 0.1203 - val_accuracy: 0.9689\n",
      "Epoch 8/60\n",
      "151/151 [==============================] - 17s 113ms/step - loss: 0.1629 - accuracy: 0.9490 - val_loss: 0.0733 - val_accuracy: 0.9831\n",
      "Epoch 9/60\n",
      "151/151 [==============================] - 17s 113ms/step - loss: 0.1280 - accuracy: 0.9593 - val_loss: 0.0915 - val_accuracy: 0.9747\n",
      "Epoch 10/60\n",
      "151/151 [==============================] - 17s 114ms/step - loss: 0.1054 - accuracy: 0.9667 - val_loss: 0.0379 - val_accuracy: 0.9925\n",
      "Epoch 11/60\n",
      "151/151 [==============================] - 17s 114ms/step - loss: 0.0858 - accuracy: 0.9731 - val_loss: 0.0298 - val_accuracy: 0.9954\n",
      "Epoch 12/60\n",
      "151/151 [==============================] - 17s 114ms/step - loss: 0.0604 - accuracy: 0.9818 - val_loss: 0.0235 - val_accuracy: 0.9976\n",
      "Epoch 13/60\n",
      "151/151 [==============================] - 17s 114ms/step - loss: 0.0547 - accuracy: 0.9832 - val_loss: 0.0145 - val_accuracy: 0.9993\n",
      "Epoch 14/60\n",
      "151/151 [==============================] - 17s 114ms/step - loss: 0.0458 - accuracy: 0.9863 - val_loss: 0.0145 - val_accuracy: 0.9992\n",
      "Epoch 15/60\n",
      "151/151 [==============================] - 17s 114ms/step - loss: 0.0394 - accuracy: 0.9883 - val_loss: 0.0163 - val_accuracy: 0.9971\n",
      "Epoch 16/60\n",
      "151/151 [==============================] - 17s 115ms/step - loss: 0.0363 - accuracy: 0.9892 - val_loss: 0.0088 - val_accuracy: 0.9993\n",
      "Epoch 17/60\n",
      "151/151 [==============================] - 17s 114ms/step - loss: 0.0320 - accuracy: 0.9917 - val_loss: 0.0067 - val_accuracy: 0.9993\n",
      "Epoch 18/60\n",
      "151/151 [==============================] - 18s 119ms/step - loss: 0.0286 - accuracy: 0.9923 - val_loss: 0.0043 - val_accuracy: 0.9995\n",
      "Epoch 19/60\n",
      "151/151 [==============================] - 18s 120ms/step - loss: 0.0301 - accuracy: 0.9913 - val_loss: 0.0101 - val_accuracy: 0.9988\n",
      "Epoch 20/60\n",
      "151/151 [==============================] - 18s 116ms/step - loss: 0.0226 - accuracy: 0.9945 - val_loss: 0.0031 - val_accuracy: 0.9999\n",
      "Epoch 21/60\n",
      "151/151 [==============================] - 18s 116ms/step - loss: 0.0220 - accuracy: 0.9938 - val_loss: 0.0084 - val_accuracy: 0.9983\n",
      "Epoch 22/60\n",
      "151/151 [==============================] - 18s 122ms/step - loss: 0.0206 - accuracy: 0.9946 - val_loss: 0.0028 - val_accuracy: 1.0000\n",
      "Epoch 23/60\n",
      "151/151 [==============================] - 17s 115ms/step - loss: 0.0166 - accuracy: 0.9958 - val_loss: 0.0016 - val_accuracy: 0.9998\n",
      "Epoch 24/60\n",
      "151/151 [==============================] - 17s 114ms/step - loss: 0.0139 - accuracy: 0.9967 - val_loss: 0.0069 - val_accuracy: 0.9988\n",
      "Epoch 25/60\n",
      "151/151 [==============================] - 17s 114ms/step - loss: 0.0166 - accuracy: 0.9955 - val_loss: 0.0013 - val_accuracy: 1.0000\n",
      "Epoch 26/60\n",
      "151/151 [==============================] - 17s 114ms/step - loss: 0.0148 - accuracy: 0.9955 - val_loss: 0.0021 - val_accuracy: 0.9998\n",
      "Epoch 27/60\n",
      "151/151 [==============================] - 17s 113ms/step - loss: 0.0103 - accuracy: 0.9974 - val_loss: 0.0050 - val_accuracy: 0.9989\n",
      "Epoch 28/60\n",
      "151/151 [==============================] - 17s 113ms/step - loss: 0.0138 - accuracy: 0.9957 - val_loss: 0.0070 - val_accuracy: 0.9981\n",
      "Epoch 29/60\n",
      "151/151 [==============================] - 17s 112ms/step - loss: 0.0169 - accuracy: 0.9950 - val_loss: 0.0019 - val_accuracy: 0.9998\n",
      "Epoch 30/60\n",
      "151/151 [==============================] - 16s 105ms/step - loss: 0.0177 - accuracy: 0.9948 - val_loss: 9.0702e-04 - val_accuracy: 0.9999\n",
      "Epoch 31/60\n",
      "151/151 [==============================] - 15s 101ms/step - loss: 0.0147 - accuracy: 0.9956 - val_loss: 0.0011 - val_accuracy: 0.9998\n",
      "Epoch 32/60\n",
      "151/151 [==============================] - 15s 98ms/step - loss: 0.0137 - accuracy: 0.9958 - val_loss: 0.0012 - val_accuracy: 0.9996\n",
      "Epoch 33/60\n",
      "151/151 [==============================] - 15s 98ms/step - loss: 0.0105 - accuracy: 0.9967 - val_loss: 0.0036 - val_accuracy: 0.9999\n",
      "Epoch 34/60\n",
      "151/151 [==============================] - 16s 103ms/step - loss: 0.0113 - accuracy: 0.9969 - val_loss: 0.0015 - val_accuracy: 0.9999\n",
      "Epoch 35/60\n",
      "151/151 [==============================] - 15s 97ms/step - loss: 0.0141 - accuracy: 0.9957 - val_loss: 0.0017 - val_accuracy: 0.9998\n",
      "Epoch 36/60\n",
      "151/151 [==============================] - 15s 97ms/step - loss: 0.0082 - accuracy: 0.9978 - val_loss: 7.4753e-04 - val_accuracy: 1.0000\n",
      "Epoch 37/60\n",
      "151/151 [==============================] - 15s 98ms/step - loss: 0.0072 - accuracy: 0.9975 - val_loss: 0.0014 - val_accuracy: 0.9998\n",
      "Epoch 38/60\n",
      "151/151 [==============================] - 15s 97ms/step - loss: 0.0093 - accuracy: 0.9975 - val_loss: 3.5315e-04 - val_accuracy: 1.0000\n",
      "Epoch 39/60\n",
      "151/151 [==============================] - 15s 98ms/step - loss: 0.0082 - accuracy: 0.9973 - val_loss: 0.0064 - val_accuracy: 0.9978\n",
      "Epoch 40/60\n",
      "151/151 [==============================] - 15s 100ms/step - loss: 0.0064 - accuracy: 0.9980 - val_loss: 4.4969e-04 - val_accuracy: 0.9998\n",
      "Epoch 41/60\n",
      "151/151 [==============================] - 15s 99ms/step - loss: 0.0065 - accuracy: 0.9984 - val_loss: 7.6740e-04 - val_accuracy: 0.9996\n",
      "Epoch 42/60\n",
      "151/151 [==============================] - 15s 97ms/step - loss: 0.0177 - accuracy: 0.9940 - val_loss: 0.0052 - val_accuracy: 0.9979\n",
      "Epoch 43/60\n",
      "151/151 [==============================] - 15s 96ms/step - loss: 0.0091 - accuracy: 0.9969 - val_loss: 0.0020 - val_accuracy: 0.9994\n",
      "Epoch 44/60\n",
      "151/151 [==============================] - 15s 98ms/step - loss: 0.0121 - accuracy: 0.9961 - val_loss: 2.6536e-04 - val_accuracy: 1.0000\n",
      "Epoch 45/60\n",
      "151/151 [==============================] - 15s 102ms/step - loss: 0.0028 - accuracy: 0.9994 - val_loss: 1.1934e-04 - val_accuracy: 1.0000\n",
      "Epoch 46/60\n",
      "151/151 [==============================] - 15s 98ms/step - loss: 0.0063 - accuracy: 0.9983 - val_loss: 3.9766e-04 - val_accuracy: 0.9999\n",
      "Epoch 47/60\n",
      "151/151 [==============================] - 15s 98ms/step - loss: 0.0052 - accuracy: 0.9988 - val_loss: 0.0047 - val_accuracy: 0.9982\n",
      "Epoch 48/60\n",
      "151/151 [==============================] - 15s 99ms/step - loss: 0.0124 - accuracy: 0.9957 - val_loss: 0.0014 - val_accuracy: 0.9995\n",
      "Epoch 49/60\n",
      "151/151 [==============================] - 15s 98ms/step - loss: 0.0067 - accuracy: 0.9978 - val_loss: 4.0448e-04 - val_accuracy: 1.0000\n",
      "Epoch 50/60\n",
      "151/151 [==============================] - 15s 101ms/step - loss: 0.0043 - accuracy: 0.9990 - val_loss: 3.5737e-04 - val_accuracy: 1.0000\n",
      "Epoch 51/60\n",
      "151/151 [==============================] - 15s 99ms/step - loss: 0.0081 - accuracy: 0.9976 - val_loss: 0.0014 - val_accuracy: 0.9996\n",
      "Epoch 52/60\n",
      "151/151 [==============================] - 16s 104ms/step - loss: 0.0070 - accuracy: 0.9979 - val_loss: 1.8449e-04 - val_accuracy: 0.9999\n",
      "Epoch 53/60\n",
      "151/151 [==============================] - 17s 112ms/step - loss: 0.0060 - accuracy: 0.9983 - val_loss: 2.4712e-04 - val_accuracy: 1.0000\n",
      "Epoch 54/60\n",
      "151/151 [==============================] - 20s 131ms/step - loss: 0.0055 - accuracy: 0.9984 - val_loss: 0.0012 - val_accuracy: 0.9994\n",
      "Epoch 55/60\n",
      "151/151 [==============================] - 22s 148ms/step - loss: 0.0068 - accuracy: 0.9977 - val_loss: 4.3593e-04 - val_accuracy: 1.0000\n",
      "Epoch 56/60\n",
      "151/151 [==============================] - 21s 141ms/step - loss: 0.0036 - accuracy: 0.9989 - val_loss: 6.3029e-04 - val_accuracy: 1.0000\n",
      "Epoch 57/60\n",
      "151/151 [==============================] - 21s 139ms/step - loss: 0.0039 - accuracy: 0.9989 - val_loss: 8.4934e-05 - val_accuracy: 1.0000\n",
      "Epoch 58/60\n",
      "151/151 [==============================] - 21s 138ms/step - loss: 0.0028 - accuracy: 0.9992 - val_loss: 4.1766e-05 - val_accuracy: 1.0000\n",
      "Epoch 59/60\n",
      "151/151 [==============================] - 19s 124ms/step - loss: 0.0021 - accuracy: 0.9995 - val_loss: 3.9032e-05 - val_accuracy: 1.0000\n",
      "Epoch 60/60\n",
      "151/151 [==============================] - 19s 124ms/step - loss: 0.0037 - accuracy: 0.9988 - val_loss: 0.0323 - val_accuracy: 0.9886\n"
     ]
    }
   ],
   "source": [
    "history= model.fit(x_train, y_train, validation_data=(x_test, y_test),epochs=epoches,batch_size=batch_size)"
   ]
  },
  {
   "cell_type": "code",
   "execution_count": 32,
   "metadata": {},
   "outputs": [
    {
     "output_type": "execute_result",
     "data": {
      "text/plain": [
       "Text(0.5, 1.0, 'accuracy evaluation')"
      ]
     },
     "metadata": {},
     "execution_count": 32
    },
    {
     "output_type": "display_data",
     "data": {
      "text/plain": "<Figure size 864x648 with 2 Axes>",
      "image/svg+xml": "<?xml version=\"1.0\" encoding=\"utf-8\" standalone=\"no\"?>\r\n<!DOCTYPE svg PUBLIC \"-//W3C//DTD SVG 1.1//EN\"\r\n  \"http://www.w3.org/Graphics/SVG/1.1/DTD/svg11.dtd\">\r\n<!-- Created with matplotlib (https://matplotlib.org/) -->\r\n<svg height=\"268.578068pt\" version=\"1.1\" viewBox=\"0 0 706.903125 268.578068\" width=\"706.903125pt\" xmlns=\"http://www.w3.org/2000/svg\" xmlns:xlink=\"http://www.w3.org/1999/xlink\">\r\n <metadata>\r\n  <rdf:RDF xmlns:cc=\"http://creativecommons.org/ns#\" xmlns:dc=\"http://purl.org/dc/elements/1.1/\" xmlns:rdf=\"http://www.w3.org/1999/02/22-rdf-syntax-ns#\">\r\n   <cc:Work>\r\n    <dc:type rdf:resource=\"http://purl.org/dc/dcmitype/StillImage\"/>\r\n    <dc:date>2021-05-17T18:01:46.690719</dc:date>\r\n    <dc:format>image/svg+xml</dc:format>\r\n    <dc:creator>\r\n     <cc:Agent>\r\n      <dc:title>Matplotlib v3.3.4, https://matplotlib.org/</dc:title>\r\n     </cc:Agent>\r\n    </dc:creator>\r\n   </cc:Work>\r\n  </rdf:RDF>\r\n </metadata>\r\n <defs>\r\n  <style type=\"text/css\">*{stroke-linecap:butt;stroke-linejoin:round;}</style>\r\n </defs>\r\n <g id=\"figure_1\">\r\n  <g id=\"patch_1\">\r\n   <path d=\"M 0 268.578068 \r\nL 706.903125 268.578068 \r\nL 706.903125 0 \r\nL 0 0 \r\nz\r\n\" style=\"fill:none;\"/>\r\n  </g>\r\n  <g id=\"axes_1\">\r\n   <g id=\"patch_2\">\r\n    <path d=\"M 30.103125 244.699943 \r\nL 334.466761 244.699943 \r\nL 334.466761 22.318125 \r\nL 30.103125 22.318125 \r\nz\r\n\" style=\"fill:#ffffff;\"/>\r\n   </g>\r\n   <g id=\"matplotlib.axis_1\">\r\n    <g id=\"xtick_1\">\r\n     <g id=\"line2d_1\">\r\n      <path clip-path=\"url(#pc21ff6183b)\" d=\"M 43.937836 244.699943 \r\nL 43.937836 22.318125 \r\n\" style=\"fill:none;stroke:#b0b0b0;stroke-linecap:square;stroke-width:0.8;\"/>\r\n     </g>\r\n     <g id=\"line2d_2\">\r\n      <defs>\r\n       <path d=\"M 0 0 \r\nL 0 3.5 \r\n\" id=\"m67eb02d842\" style=\"stroke:#000000;stroke-width:0.8;\"/>\r\n      </defs>\r\n      <g>\r\n       <use style=\"stroke:#000000;stroke-width:0.8;\" x=\"43.937836\" xlink:href=\"#m67eb02d842\" y=\"244.699943\"/>\r\n      </g>\r\n     </g>\r\n     <g id=\"text_1\">\r\n      <!-- 0 -->\r\n      <g transform=\"translate(40.756586 259.298381)scale(0.1 -0.1)\">\r\n       <defs>\r\n        <path d=\"M 31.78125 66.40625 \r\nQ 24.171875 66.40625 20.328125 58.90625 \r\nQ 16.5 51.421875 16.5 36.375 \r\nQ 16.5 21.390625 20.328125 13.890625 \r\nQ 24.171875 6.390625 31.78125 6.390625 \r\nQ 39.453125 6.390625 43.28125 13.890625 \r\nQ 47.125 21.390625 47.125 36.375 \r\nQ 47.125 51.421875 43.28125 58.90625 \r\nQ 39.453125 66.40625 31.78125 66.40625 \r\nz\r\nM 31.78125 74.21875 \r\nQ 44.046875 74.21875 50.515625 64.515625 \r\nQ 56.984375 54.828125 56.984375 36.375 \r\nQ 56.984375 17.96875 50.515625 8.265625 \r\nQ 44.046875 -1.421875 31.78125 -1.421875 \r\nQ 19.53125 -1.421875 13.0625 8.265625 \r\nQ 6.59375 17.96875 6.59375 36.375 \r\nQ 6.59375 54.828125 13.0625 64.515625 \r\nQ 19.53125 74.21875 31.78125 74.21875 \r\nz\r\n\" id=\"DejaVuSans-48\"/>\r\n       </defs>\r\n       <use xlink:href=\"#DejaVuSans-48\"/>\r\n      </g>\r\n     </g>\r\n    </g>\r\n    <g id=\"xtick_2\">\r\n     <g id=\"line2d_3\">\r\n      <path clip-path=\"url(#pc21ff6183b)\" d=\"M 90.83516 244.699943 \r\nL 90.83516 22.318125 \r\n\" style=\"fill:none;stroke:#b0b0b0;stroke-linecap:square;stroke-width:0.8;\"/>\r\n     </g>\r\n     <g id=\"line2d_4\">\r\n      <g>\r\n       <use style=\"stroke:#000000;stroke-width:0.8;\" x=\"90.83516\" xlink:href=\"#m67eb02d842\" y=\"244.699943\"/>\r\n      </g>\r\n     </g>\r\n     <g id=\"text_2\">\r\n      <!-- 10 -->\r\n      <g transform=\"translate(84.47266 259.298381)scale(0.1 -0.1)\">\r\n       <defs>\r\n        <path d=\"M 12.40625 8.296875 \r\nL 28.515625 8.296875 \r\nL 28.515625 63.921875 \r\nL 10.984375 60.40625 \r\nL 10.984375 69.390625 \r\nL 28.421875 72.90625 \r\nL 38.28125 72.90625 \r\nL 38.28125 8.296875 \r\nL 54.390625 8.296875 \r\nL 54.390625 0 \r\nL 12.40625 0 \r\nz\r\n\" id=\"DejaVuSans-49\"/>\r\n       </defs>\r\n       <use xlink:href=\"#DejaVuSans-49\"/>\r\n       <use x=\"63.623047\" xlink:href=\"#DejaVuSans-48\"/>\r\n      </g>\r\n     </g>\r\n    </g>\r\n    <g id=\"xtick_3\">\r\n     <g id=\"line2d_5\">\r\n      <path clip-path=\"url(#pc21ff6183b)\" d=\"M 137.732485 244.699943 \r\nL 137.732485 22.318125 \r\n\" style=\"fill:none;stroke:#b0b0b0;stroke-linecap:square;stroke-width:0.8;\"/>\r\n     </g>\r\n     <g id=\"line2d_6\">\r\n      <g>\r\n       <use style=\"stroke:#000000;stroke-width:0.8;\" x=\"137.732485\" xlink:href=\"#m67eb02d842\" y=\"244.699943\"/>\r\n      </g>\r\n     </g>\r\n     <g id=\"text_3\">\r\n      <!-- 20 -->\r\n      <g transform=\"translate(131.369985 259.298381)scale(0.1 -0.1)\">\r\n       <defs>\r\n        <path d=\"M 19.1875 8.296875 \r\nL 53.609375 8.296875 \r\nL 53.609375 0 \r\nL 7.328125 0 \r\nL 7.328125 8.296875 \r\nQ 12.9375 14.109375 22.625 23.890625 \r\nQ 32.328125 33.6875 34.8125 36.53125 \r\nQ 39.546875 41.84375 41.421875 45.53125 \r\nQ 43.3125 49.21875 43.3125 52.78125 \r\nQ 43.3125 58.59375 39.234375 62.25 \r\nQ 35.15625 65.921875 28.609375 65.921875 \r\nQ 23.96875 65.921875 18.8125 64.3125 \r\nQ 13.671875 62.703125 7.8125 59.421875 \r\nL 7.8125 69.390625 \r\nQ 13.765625 71.78125 18.9375 73 \r\nQ 24.125 74.21875 28.421875 74.21875 \r\nQ 39.75 74.21875 46.484375 68.546875 \r\nQ 53.21875 62.890625 53.21875 53.421875 \r\nQ 53.21875 48.921875 51.53125 44.890625 \r\nQ 49.859375 40.875 45.40625 35.40625 \r\nQ 44.1875 33.984375 37.640625 27.21875 \r\nQ 31.109375 20.453125 19.1875 8.296875 \r\nz\r\n\" id=\"DejaVuSans-50\"/>\r\n       </defs>\r\n       <use xlink:href=\"#DejaVuSans-50\"/>\r\n       <use x=\"63.623047\" xlink:href=\"#DejaVuSans-48\"/>\r\n      </g>\r\n     </g>\r\n    </g>\r\n    <g id=\"xtick_4\">\r\n     <g id=\"line2d_7\">\r\n      <path clip-path=\"url(#pc21ff6183b)\" d=\"M 184.629809 244.699943 \r\nL 184.629809 22.318125 \r\n\" style=\"fill:none;stroke:#b0b0b0;stroke-linecap:square;stroke-width:0.8;\"/>\r\n     </g>\r\n     <g id=\"line2d_8\">\r\n      <g>\r\n       <use style=\"stroke:#000000;stroke-width:0.8;\" x=\"184.629809\" xlink:href=\"#m67eb02d842\" y=\"244.699943\"/>\r\n      </g>\r\n     </g>\r\n     <g id=\"text_4\">\r\n      <!-- 30 -->\r\n      <g transform=\"translate(178.267309 259.298381)scale(0.1 -0.1)\">\r\n       <defs>\r\n        <path d=\"M 40.578125 39.3125 \r\nQ 47.65625 37.796875 51.625 33 \r\nQ 55.609375 28.21875 55.609375 21.1875 \r\nQ 55.609375 10.40625 48.1875 4.484375 \r\nQ 40.765625 -1.421875 27.09375 -1.421875 \r\nQ 22.515625 -1.421875 17.65625 -0.515625 \r\nQ 12.796875 0.390625 7.625 2.203125 \r\nL 7.625 11.71875 \r\nQ 11.71875 9.328125 16.59375 8.109375 \r\nQ 21.484375 6.890625 26.8125 6.890625 \r\nQ 36.078125 6.890625 40.9375 10.546875 \r\nQ 45.796875 14.203125 45.796875 21.1875 \r\nQ 45.796875 27.640625 41.28125 31.265625 \r\nQ 36.765625 34.90625 28.71875 34.90625 \r\nL 20.21875 34.90625 \r\nL 20.21875 43.015625 \r\nL 29.109375 43.015625 \r\nQ 36.375 43.015625 40.234375 45.921875 \r\nQ 44.09375 48.828125 44.09375 54.296875 \r\nQ 44.09375 59.90625 40.109375 62.90625 \r\nQ 36.140625 65.921875 28.71875 65.921875 \r\nQ 24.65625 65.921875 20.015625 65.03125 \r\nQ 15.375 64.15625 9.8125 62.3125 \r\nL 9.8125 71.09375 \r\nQ 15.4375 72.65625 20.34375 73.4375 \r\nQ 25.25 74.21875 29.59375 74.21875 \r\nQ 40.828125 74.21875 47.359375 69.109375 \r\nQ 53.90625 64.015625 53.90625 55.328125 \r\nQ 53.90625 49.265625 50.4375 45.09375 \r\nQ 46.96875 40.921875 40.578125 39.3125 \r\nz\r\n\" id=\"DejaVuSans-51\"/>\r\n       </defs>\r\n       <use xlink:href=\"#DejaVuSans-51\"/>\r\n       <use x=\"63.623047\" xlink:href=\"#DejaVuSans-48\"/>\r\n      </g>\r\n     </g>\r\n    </g>\r\n    <g id=\"xtick_5\">\r\n     <g id=\"line2d_9\">\r\n      <path clip-path=\"url(#pc21ff6183b)\" d=\"M 231.527134 244.699943 \r\nL 231.527134 22.318125 \r\n\" style=\"fill:none;stroke:#b0b0b0;stroke-linecap:square;stroke-width:0.8;\"/>\r\n     </g>\r\n     <g id=\"line2d_10\">\r\n      <g>\r\n       <use style=\"stroke:#000000;stroke-width:0.8;\" x=\"231.527134\" xlink:href=\"#m67eb02d842\" y=\"244.699943\"/>\r\n      </g>\r\n     </g>\r\n     <g id=\"text_5\">\r\n      <!-- 40 -->\r\n      <g transform=\"translate(225.164634 259.298381)scale(0.1 -0.1)\">\r\n       <defs>\r\n        <path d=\"M 37.796875 64.3125 \r\nL 12.890625 25.390625 \r\nL 37.796875 25.390625 \r\nz\r\nM 35.203125 72.90625 \r\nL 47.609375 72.90625 \r\nL 47.609375 25.390625 \r\nL 58.015625 25.390625 \r\nL 58.015625 17.1875 \r\nL 47.609375 17.1875 \r\nL 47.609375 0 \r\nL 37.796875 0 \r\nL 37.796875 17.1875 \r\nL 4.890625 17.1875 \r\nL 4.890625 26.703125 \r\nz\r\n\" id=\"DejaVuSans-52\"/>\r\n       </defs>\r\n       <use xlink:href=\"#DejaVuSans-52\"/>\r\n       <use x=\"63.623047\" xlink:href=\"#DejaVuSans-48\"/>\r\n      </g>\r\n     </g>\r\n    </g>\r\n    <g id=\"xtick_6\">\r\n     <g id=\"line2d_11\">\r\n      <path clip-path=\"url(#pc21ff6183b)\" d=\"M 278.424459 244.699943 \r\nL 278.424459 22.318125 \r\n\" style=\"fill:none;stroke:#b0b0b0;stroke-linecap:square;stroke-width:0.8;\"/>\r\n     </g>\r\n     <g id=\"line2d_12\">\r\n      <g>\r\n       <use style=\"stroke:#000000;stroke-width:0.8;\" x=\"278.424459\" xlink:href=\"#m67eb02d842\" y=\"244.699943\"/>\r\n      </g>\r\n     </g>\r\n     <g id=\"text_6\">\r\n      <!-- 50 -->\r\n      <g transform=\"translate(272.061959 259.298381)scale(0.1 -0.1)\">\r\n       <defs>\r\n        <path d=\"M 10.796875 72.90625 \r\nL 49.515625 72.90625 \r\nL 49.515625 64.59375 \r\nL 19.828125 64.59375 \r\nL 19.828125 46.734375 \r\nQ 21.96875 47.46875 24.109375 47.828125 \r\nQ 26.265625 48.1875 28.421875 48.1875 \r\nQ 40.625 48.1875 47.75 41.5 \r\nQ 54.890625 34.8125 54.890625 23.390625 \r\nQ 54.890625 11.625 47.5625 5.09375 \r\nQ 40.234375 -1.421875 26.90625 -1.421875 \r\nQ 22.3125 -1.421875 17.546875 -0.640625 \r\nQ 12.796875 0.140625 7.71875 1.703125 \r\nL 7.71875 11.625 \r\nQ 12.109375 9.234375 16.796875 8.0625 \r\nQ 21.484375 6.890625 26.703125 6.890625 \r\nQ 35.15625 6.890625 40.078125 11.328125 \r\nQ 45.015625 15.765625 45.015625 23.390625 \r\nQ 45.015625 31 40.078125 35.4375 \r\nQ 35.15625 39.890625 26.703125 39.890625 \r\nQ 22.75 39.890625 18.8125 39.015625 \r\nQ 14.890625 38.140625 10.796875 36.28125 \r\nz\r\n\" id=\"DejaVuSans-53\"/>\r\n       </defs>\r\n       <use xlink:href=\"#DejaVuSans-53\"/>\r\n       <use x=\"63.623047\" xlink:href=\"#DejaVuSans-48\"/>\r\n      </g>\r\n     </g>\r\n    </g>\r\n    <g id=\"xtick_7\">\r\n     <g id=\"line2d_13\">\r\n      <path clip-path=\"url(#pc21ff6183b)\" d=\"M 325.321783 244.699943 \r\nL 325.321783 22.318125 \r\n\" style=\"fill:none;stroke:#b0b0b0;stroke-linecap:square;stroke-width:0.8;\"/>\r\n     </g>\r\n     <g id=\"line2d_14\">\r\n      <g>\r\n       <use style=\"stroke:#000000;stroke-width:0.8;\" x=\"325.321783\" xlink:href=\"#m67eb02d842\" y=\"244.699943\"/>\r\n      </g>\r\n     </g>\r\n     <g id=\"text_7\">\r\n      <!-- 60 -->\r\n      <g transform=\"translate(318.959283 259.298381)scale(0.1 -0.1)\">\r\n       <defs>\r\n        <path d=\"M 33.015625 40.375 \r\nQ 26.375 40.375 22.484375 35.828125 \r\nQ 18.609375 31.296875 18.609375 23.390625 \r\nQ 18.609375 15.53125 22.484375 10.953125 \r\nQ 26.375 6.390625 33.015625 6.390625 \r\nQ 39.65625 6.390625 43.53125 10.953125 \r\nQ 47.40625 15.53125 47.40625 23.390625 \r\nQ 47.40625 31.296875 43.53125 35.828125 \r\nQ 39.65625 40.375 33.015625 40.375 \r\nz\r\nM 52.59375 71.296875 \r\nL 52.59375 62.3125 \r\nQ 48.875 64.0625 45.09375 64.984375 \r\nQ 41.3125 65.921875 37.59375 65.921875 \r\nQ 27.828125 65.921875 22.671875 59.328125 \r\nQ 17.53125 52.734375 16.796875 39.40625 \r\nQ 19.671875 43.65625 24.015625 45.921875 \r\nQ 28.375 48.1875 33.59375 48.1875 \r\nQ 44.578125 48.1875 50.953125 41.515625 \r\nQ 57.328125 34.859375 57.328125 23.390625 \r\nQ 57.328125 12.15625 50.6875 5.359375 \r\nQ 44.046875 -1.421875 33.015625 -1.421875 \r\nQ 20.359375 -1.421875 13.671875 8.265625 \r\nQ 6.984375 17.96875 6.984375 36.375 \r\nQ 6.984375 53.65625 15.1875 63.9375 \r\nQ 23.390625 74.21875 37.203125 74.21875 \r\nQ 40.921875 74.21875 44.703125 73.484375 \r\nQ 48.484375 72.75 52.59375 71.296875 \r\nz\r\n\" id=\"DejaVuSans-54\"/>\r\n       </defs>\r\n       <use xlink:href=\"#DejaVuSans-54\"/>\r\n       <use x=\"63.623047\" xlink:href=\"#DejaVuSans-48\"/>\r\n      </g>\r\n     </g>\r\n    </g>\r\n   </g>\r\n   <g id=\"matplotlib.axis_2\">\r\n    <g id=\"ytick_1\">\r\n     <g id=\"line2d_15\">\r\n      <path clip-path=\"url(#pc21ff6183b)\" d=\"M 30.103125 234.594609 \r\nL 334.466761 234.594609 \r\n\" style=\"fill:none;stroke:#b0b0b0;stroke-linecap:square;stroke-width:0.8;\"/>\r\n     </g>\r\n     <g id=\"line2d_16\">\r\n      <defs>\r\n       <path d=\"M 0 0 \r\nL -3.5 0 \r\n\" id=\"m550c66765e\" style=\"stroke:#000000;stroke-width:0.8;\"/>\r\n      </defs>\r\n      <g>\r\n       <use style=\"stroke:#000000;stroke-width:0.8;\" x=\"30.103125\" xlink:href=\"#m550c66765e\" y=\"234.594609\"/>\r\n      </g>\r\n     </g>\r\n     <g id=\"text_8\">\r\n      <!-- 0.0 -->\r\n      <g transform=\"translate(7.2 238.393827)scale(0.1 -0.1)\">\r\n       <defs>\r\n        <path d=\"M 10.6875 12.40625 \r\nL 21 12.40625 \r\nL 21 0 \r\nL 10.6875 0 \r\nz\r\n\" id=\"DejaVuSans-46\"/>\r\n       </defs>\r\n       <use xlink:href=\"#DejaVuSans-48\"/>\r\n       <use x=\"63.623047\" xlink:href=\"#DejaVuSans-46\"/>\r\n       <use x=\"95.410156\" xlink:href=\"#DejaVuSans-48\"/>\r\n      </g>\r\n     </g>\r\n    </g>\r\n    <g id=\"ytick_2\">\r\n     <g id=\"line2d_17\">\r\n      <path clip-path=\"url(#pc21ff6183b)\" d=\"M 30.103125 197.062789 \r\nL 334.466761 197.062789 \r\n\" style=\"fill:none;stroke:#b0b0b0;stroke-linecap:square;stroke-width:0.8;\"/>\r\n     </g>\r\n     <g id=\"line2d_18\">\r\n      <g>\r\n       <use style=\"stroke:#000000;stroke-width:0.8;\" x=\"30.103125\" xlink:href=\"#m550c66765e\" y=\"197.062789\"/>\r\n      </g>\r\n     </g>\r\n     <g id=\"text_9\">\r\n      <!-- 0.5 -->\r\n      <g transform=\"translate(7.2 200.862008)scale(0.1 -0.1)\">\r\n       <use xlink:href=\"#DejaVuSans-48\"/>\r\n       <use x=\"63.623047\" xlink:href=\"#DejaVuSans-46\"/>\r\n       <use x=\"95.410156\" xlink:href=\"#DejaVuSans-53\"/>\r\n      </g>\r\n     </g>\r\n    </g>\r\n    <g id=\"ytick_3\">\r\n     <g id=\"line2d_19\">\r\n      <path clip-path=\"url(#pc21ff6183b)\" d=\"M 30.103125 159.53097 \r\nL 334.466761 159.53097 \r\n\" style=\"fill:none;stroke:#b0b0b0;stroke-linecap:square;stroke-width:0.8;\"/>\r\n     </g>\r\n     <g id=\"line2d_20\">\r\n      <g>\r\n       <use style=\"stroke:#000000;stroke-width:0.8;\" x=\"30.103125\" xlink:href=\"#m550c66765e\" y=\"159.53097\"/>\r\n      </g>\r\n     </g>\r\n     <g id=\"text_10\">\r\n      <!-- 1.0 -->\r\n      <g transform=\"translate(7.2 163.330189)scale(0.1 -0.1)\">\r\n       <use xlink:href=\"#DejaVuSans-49\"/>\r\n       <use x=\"63.623047\" xlink:href=\"#DejaVuSans-46\"/>\r\n       <use x=\"95.410156\" xlink:href=\"#DejaVuSans-48\"/>\r\n      </g>\r\n     </g>\r\n    </g>\r\n    <g id=\"ytick_4\">\r\n     <g id=\"line2d_21\">\r\n      <path clip-path=\"url(#pc21ff6183b)\" d=\"M 30.103125 121.99915 \r\nL 334.466761 121.99915 \r\n\" style=\"fill:none;stroke:#b0b0b0;stroke-linecap:square;stroke-width:0.8;\"/>\r\n     </g>\r\n     <g id=\"line2d_22\">\r\n      <g>\r\n       <use style=\"stroke:#000000;stroke-width:0.8;\" x=\"30.103125\" xlink:href=\"#m550c66765e\" y=\"121.99915\"/>\r\n      </g>\r\n     </g>\r\n     <g id=\"text_11\">\r\n      <!-- 1.5 -->\r\n      <g transform=\"translate(7.2 125.798369)scale(0.1 -0.1)\">\r\n       <use xlink:href=\"#DejaVuSans-49\"/>\r\n       <use x=\"63.623047\" xlink:href=\"#DejaVuSans-46\"/>\r\n       <use x=\"95.410156\" xlink:href=\"#DejaVuSans-53\"/>\r\n      </g>\r\n     </g>\r\n    </g>\r\n    <g id=\"ytick_5\">\r\n     <g id=\"line2d_23\">\r\n      <path clip-path=\"url(#pc21ff6183b)\" d=\"M 30.103125 84.467331 \r\nL 334.466761 84.467331 \r\n\" style=\"fill:none;stroke:#b0b0b0;stroke-linecap:square;stroke-width:0.8;\"/>\r\n     </g>\r\n     <g id=\"line2d_24\">\r\n      <g>\r\n       <use style=\"stroke:#000000;stroke-width:0.8;\" x=\"30.103125\" xlink:href=\"#m550c66765e\" y=\"84.467331\"/>\r\n      </g>\r\n     </g>\r\n     <g id=\"text_12\">\r\n      <!-- 2.0 -->\r\n      <g transform=\"translate(7.2 88.26655)scale(0.1 -0.1)\">\r\n       <use xlink:href=\"#DejaVuSans-50\"/>\r\n       <use x=\"63.623047\" xlink:href=\"#DejaVuSans-46\"/>\r\n       <use x=\"95.410156\" xlink:href=\"#DejaVuSans-48\"/>\r\n      </g>\r\n     </g>\r\n    </g>\r\n    <g id=\"ytick_6\">\r\n     <g id=\"line2d_25\">\r\n      <path clip-path=\"url(#pc21ff6183b)\" d=\"M 30.103125 46.935511 \r\nL 334.466761 46.935511 \r\n\" style=\"fill:none;stroke:#b0b0b0;stroke-linecap:square;stroke-width:0.8;\"/>\r\n     </g>\r\n     <g id=\"line2d_26\">\r\n      <g>\r\n       <use style=\"stroke:#000000;stroke-width:0.8;\" x=\"30.103125\" xlink:href=\"#m550c66765e\" y=\"46.935511\"/>\r\n      </g>\r\n     </g>\r\n     <g id=\"text_13\">\r\n      <!-- 2.5 -->\r\n      <g transform=\"translate(7.2 50.73473)scale(0.1 -0.1)\">\r\n       <use xlink:href=\"#DejaVuSans-50\"/>\r\n       <use x=\"63.623047\" xlink:href=\"#DejaVuSans-46\"/>\r\n       <use x=\"95.410156\" xlink:href=\"#DejaVuSans-53\"/>\r\n      </g>\r\n     </g>\r\n    </g>\r\n   </g>\r\n   <g id=\"line2d_27\">\r\n    <path clip-path=\"url(#pc21ff6183b)\" d=\"M 43.937836 32.426389 \r\nL 48.627568 129.999748 \r\nL 53.317301 171.20409 \r\nL 58.007033 190.548081 \r\nL 62.696766 202.920684 \r\nL 67.386498 212.031099 \r\nL 72.07623 217.847294 \r\nL 76.765963 222.36575 \r\nL 81.455695 224.98411 \r\nL 86.145428 226.679772 \r\nL 90.83516 228.156241 \r\nL 95.524893 230.057939 \r\nL 100.214625 230.486793 \r\nL 104.904358 231.158432 \r\nL 109.59409 231.638122 \r\nL 114.283823 231.872006 \r\nL 118.973555 232.189602 \r\nL 123.663287 232.450409 \r\nL 128.35302 232.337969 \r\nL 133.042752 232.898425 \r\nL 137.732485 232.943085 \r\nL 142.422217 233.045026 \r\nL 147.11195 233.347089 \r\nL 151.801682 233.553035 \r\nL 156.491415 233.346327 \r\nL 161.181147 233.485054 \r\nL 165.87088 233.821678 \r\nL 170.560612 233.561469 \r\nL 175.250344 233.325608 \r\nL 179.940077 233.26775 \r\nL 184.629809 233.494317 \r\nL 189.319542 233.566894 \r\nL 194.009274 233.806326 \r\nL 198.699007 233.747297 \r\nL 203.388739 233.534494 \r\nL 208.078472 233.980388 \r\nL 212.768204 234.053818 \r\nL 217.457937 233.89523 \r\nL 222.147669 233.981914 \r\nL 226.837402 234.113151 \r\nL 231.527134 234.10542 \r\nL 236.216866 233.267835 \r\nL 240.906599 233.910213 \r\nL 245.596331 233.684469 \r\nL 250.286064 234.383361 \r\nL 254.975796 234.119377 \r\nL 259.665529 234.202216 \r\nL 264.355261 233.664635 \r\nL 269.044994 234.091993 \r\nL 273.734726 234.272802 \r\nL 278.424459 233.989874 \r\nL 283.114191 234.066087 \r\nL 287.803923 234.14229 \r\nL 292.493656 234.180898 \r\nL 297.183388 234.086536 \r\nL 301.873121 234.322875 \r\nL 306.562853 234.30559 \r\nL 311.252586 234.385981 \r\nL 315.942318 234.43783 \r\nL 320.632051 234.318583 \r\n\" style=\"fill:none;stroke:#1f77b4;stroke-linecap:square;stroke-width:1.5;\"/>\r\n   </g>\r\n   <g id=\"line2d_28\">\r\n    <path clip-path=\"url(#pc21ff6183b)\" d=\"M 43.937836 96.944611 \r\nL 48.627568 167.923242 \r\nL 53.317301 192.482141 \r\nL 58.007033 206.102 \r\nL 62.696766 216.997181 \r\nL 67.386498 223.480362 \r\nL 72.07623 225.560731 \r\nL 76.765963 229.09424 \r\nL 81.455695 227.727366 \r\nL 86.145428 231.747666 \r\nL 90.83516 232.35455 \r\nL 95.524893 232.834064 \r\nL 100.214625 233.506067 \r\nL 104.904358 233.505233 \r\nL 109.59409 233.369568 \r\nL 114.283823 233.937367 \r\nL 118.973555 234.089589 \r\nL 123.663287 234.272909 \r\nL 128.35302 233.834824 \r\nL 133.042752 234.360995 \r\nL 137.732485 233.96141 \r\nL 142.422217 234.385772 \r\nL 147.11195 234.475137 \r\nL 151.801682 234.075505 \r\nL 156.491415 234.494208 \r\nL 161.181147 234.435816 \r\nL 165.87088 234.216609 \r\nL 170.560612 234.072197 \r\nL 175.250344 234.455591 \r\nL 179.940077 234.526525 \r\nL 184.629809 234.509904 \r\nL 189.319542 234.503652 \r\nL 194.009274 234.327089 \r\nL 198.699007 234.478742 \r\nL 203.388739 234.463871 \r\nL 208.078472 234.538496 \r\nL 212.768204 234.487227 \r\nL 217.457937 234.5681 \r\nL 222.147669 234.114663 \r\nL 226.837402 234.560853 \r\nL 231.527134 234.537005 \r\nL 236.216866 234.200889 \r\nL 240.906599 234.444254 \r\nL 245.596331 234.57469 \r\nL 250.286064 234.58565 \r\nL 254.975796 234.564759 \r\nL 259.665529 234.238368 \r\nL 264.355261 234.486538 \r\nL 269.044994 234.564247 \r\nL 273.734726 234.567783 \r\nL 278.424459 234.486593 \r\nL 283.114191 234.58076 \r\nL 287.803923 234.576059 \r\nL 292.493656 234.501201 \r\nL 297.183388 234.561886 \r\nL 301.873121 234.547297 \r\nL 306.562853 234.588233 \r\nL 311.252586 234.591474 \r\nL 315.942318 234.591679 \r\nL 320.632051 232.173716 \r\n\" style=\"fill:none;stroke:#ff7f0e;stroke-linecap:square;stroke-width:1.5;\"/>\r\n   </g>\r\n   <g id=\"patch_3\">\r\n    <path d=\"M 30.103125 244.699943 \r\nL 30.103125 22.318125 \r\n\" style=\"fill:none;stroke:#000000;stroke-linecap:square;stroke-linejoin:miter;stroke-width:0.8;\"/>\r\n   </g>\r\n   <g id=\"patch_4\">\r\n    <path d=\"M 334.466761 244.699943 \r\nL 334.466761 22.318125 \r\n\" style=\"fill:none;stroke:#000000;stroke-linecap:square;stroke-linejoin:miter;stroke-width:0.8;\"/>\r\n   </g>\r\n   <g id=\"patch_5\">\r\n    <path d=\"M 30.103125 244.699943 \r\nL 334.466761 244.699943 \r\n\" style=\"fill:none;stroke:#000000;stroke-linecap:square;stroke-linejoin:miter;stroke-width:0.8;\"/>\r\n   </g>\r\n   <g id=\"patch_6\">\r\n    <path d=\"M 30.103125 22.318125 \r\nL 334.466761 22.318125 \r\n\" style=\"fill:none;stroke:#000000;stroke-linecap:square;stroke-linejoin:miter;stroke-width:0.8;\"/>\r\n   </g>\r\n   <g id=\"text_14\">\r\n    <!-- loss evaluation -->\r\n    <g transform=\"translate(137.229631 16.318125)scale(0.12 -0.12)\">\r\n     <defs>\r\n      <path d=\"M 9.421875 75.984375 \r\nL 18.40625 75.984375 \r\nL 18.40625 0 \r\nL 9.421875 0 \r\nz\r\n\" id=\"DejaVuSans-108\"/>\r\n      <path d=\"M 30.609375 48.390625 \r\nQ 23.390625 48.390625 19.1875 42.75 \r\nQ 14.984375 37.109375 14.984375 27.296875 \r\nQ 14.984375 17.484375 19.15625 11.84375 \r\nQ 23.34375 6.203125 30.609375 6.203125 \r\nQ 37.796875 6.203125 41.984375 11.859375 \r\nQ 46.1875 17.53125 46.1875 27.296875 \r\nQ 46.1875 37.015625 41.984375 42.703125 \r\nQ 37.796875 48.390625 30.609375 48.390625 \r\nz\r\nM 30.609375 56 \r\nQ 42.328125 56 49.015625 48.375 \r\nQ 55.71875 40.765625 55.71875 27.296875 \r\nQ 55.71875 13.875 49.015625 6.21875 \r\nQ 42.328125 -1.421875 30.609375 -1.421875 \r\nQ 18.84375 -1.421875 12.171875 6.21875 \r\nQ 5.515625 13.875 5.515625 27.296875 \r\nQ 5.515625 40.765625 12.171875 48.375 \r\nQ 18.84375 56 30.609375 56 \r\nz\r\n\" id=\"DejaVuSans-111\"/>\r\n      <path d=\"M 44.28125 53.078125 \r\nL 44.28125 44.578125 \r\nQ 40.484375 46.53125 36.375 47.5 \r\nQ 32.28125 48.484375 27.875 48.484375 \r\nQ 21.1875 48.484375 17.84375 46.4375 \r\nQ 14.5 44.390625 14.5 40.28125 \r\nQ 14.5 37.15625 16.890625 35.375 \r\nQ 19.28125 33.59375 26.515625 31.984375 \r\nL 29.59375 31.296875 \r\nQ 39.15625 29.25 43.1875 25.515625 \r\nQ 47.21875 21.78125 47.21875 15.09375 \r\nQ 47.21875 7.46875 41.1875 3.015625 \r\nQ 35.15625 -1.421875 24.609375 -1.421875 \r\nQ 20.21875 -1.421875 15.453125 -0.5625 \r\nQ 10.6875 0.296875 5.421875 2 \r\nL 5.421875 11.28125 \r\nQ 10.40625 8.6875 15.234375 7.390625 \r\nQ 20.0625 6.109375 24.8125 6.109375 \r\nQ 31.15625 6.109375 34.5625 8.28125 \r\nQ 37.984375 10.453125 37.984375 14.40625 \r\nQ 37.984375 18.0625 35.515625 20.015625 \r\nQ 33.0625 21.96875 24.703125 23.78125 \r\nL 21.578125 24.515625 \r\nQ 13.234375 26.265625 9.515625 29.90625 \r\nQ 5.8125 33.546875 5.8125 39.890625 \r\nQ 5.8125 47.609375 11.28125 51.796875 \r\nQ 16.75 56 26.8125 56 \r\nQ 31.78125 56 36.171875 55.265625 \r\nQ 40.578125 54.546875 44.28125 53.078125 \r\nz\r\n\" id=\"DejaVuSans-115\"/>\r\n      <path id=\"DejaVuSans-32\"/>\r\n      <path d=\"M 56.203125 29.59375 \r\nL 56.203125 25.203125 \r\nL 14.890625 25.203125 \r\nQ 15.484375 15.921875 20.484375 11.0625 \r\nQ 25.484375 6.203125 34.421875 6.203125 \r\nQ 39.59375 6.203125 44.453125 7.46875 \r\nQ 49.3125 8.734375 54.109375 11.28125 \r\nL 54.109375 2.78125 \r\nQ 49.265625 0.734375 44.1875 -0.34375 \r\nQ 39.109375 -1.421875 33.890625 -1.421875 \r\nQ 20.796875 -1.421875 13.15625 6.1875 \r\nQ 5.515625 13.8125 5.515625 26.8125 \r\nQ 5.515625 40.234375 12.765625 48.109375 \r\nQ 20.015625 56 32.328125 56 \r\nQ 43.359375 56 49.78125 48.890625 \r\nQ 56.203125 41.796875 56.203125 29.59375 \r\nz\r\nM 47.21875 32.234375 \r\nQ 47.125 39.59375 43.09375 43.984375 \r\nQ 39.0625 48.390625 32.421875 48.390625 \r\nQ 24.90625 48.390625 20.390625 44.140625 \r\nQ 15.875 39.890625 15.1875 32.171875 \r\nz\r\n\" id=\"DejaVuSans-101\"/>\r\n      <path d=\"M 2.984375 54.6875 \r\nL 12.5 54.6875 \r\nL 29.59375 8.796875 \r\nL 46.6875 54.6875 \r\nL 56.203125 54.6875 \r\nL 35.6875 0 \r\nL 23.484375 0 \r\nz\r\n\" id=\"DejaVuSans-118\"/>\r\n      <path d=\"M 34.28125 27.484375 \r\nQ 23.390625 27.484375 19.1875 25 \r\nQ 14.984375 22.515625 14.984375 16.5 \r\nQ 14.984375 11.71875 18.140625 8.90625 \r\nQ 21.296875 6.109375 26.703125 6.109375 \r\nQ 34.1875 6.109375 38.703125 11.40625 \r\nQ 43.21875 16.703125 43.21875 25.484375 \r\nL 43.21875 27.484375 \r\nz\r\nM 52.203125 31.203125 \r\nL 52.203125 0 \r\nL 43.21875 0 \r\nL 43.21875 8.296875 \r\nQ 40.140625 3.328125 35.546875 0.953125 \r\nQ 30.953125 -1.421875 24.3125 -1.421875 \r\nQ 15.921875 -1.421875 10.953125 3.296875 \r\nQ 6 8.015625 6 15.921875 \r\nQ 6 25.140625 12.171875 29.828125 \r\nQ 18.359375 34.515625 30.609375 34.515625 \r\nL 43.21875 34.515625 \r\nL 43.21875 35.40625 \r\nQ 43.21875 41.609375 39.140625 45 \r\nQ 35.0625 48.390625 27.6875 48.390625 \r\nQ 23 48.390625 18.546875 47.265625 \r\nQ 14.109375 46.140625 10.015625 43.890625 \r\nL 10.015625 52.203125 \r\nQ 14.9375 54.109375 19.578125 55.046875 \r\nQ 24.21875 56 28.609375 56 \r\nQ 40.484375 56 46.34375 49.84375 \r\nQ 52.203125 43.703125 52.203125 31.203125 \r\nz\r\n\" id=\"DejaVuSans-97\"/>\r\n      <path d=\"M 8.5 21.578125 \r\nL 8.5 54.6875 \r\nL 17.484375 54.6875 \r\nL 17.484375 21.921875 \r\nQ 17.484375 14.15625 20.5 10.265625 \r\nQ 23.53125 6.390625 29.59375 6.390625 \r\nQ 36.859375 6.390625 41.078125 11.03125 \r\nQ 45.3125 15.671875 45.3125 23.6875 \r\nL 45.3125 54.6875 \r\nL 54.296875 54.6875 \r\nL 54.296875 0 \r\nL 45.3125 0 \r\nL 45.3125 8.40625 \r\nQ 42.046875 3.421875 37.71875 1 \r\nQ 33.40625 -1.421875 27.6875 -1.421875 \r\nQ 18.265625 -1.421875 13.375 4.4375 \r\nQ 8.5 10.296875 8.5 21.578125 \r\nz\r\nM 31.109375 56 \r\nz\r\n\" id=\"DejaVuSans-117\"/>\r\n      <path d=\"M 18.3125 70.21875 \r\nL 18.3125 54.6875 \r\nL 36.8125 54.6875 \r\nL 36.8125 47.703125 \r\nL 18.3125 47.703125 \r\nL 18.3125 18.015625 \r\nQ 18.3125 11.328125 20.140625 9.421875 \r\nQ 21.96875 7.515625 27.59375 7.515625 \r\nL 36.8125 7.515625 \r\nL 36.8125 0 \r\nL 27.59375 0 \r\nQ 17.1875 0 13.234375 3.875 \r\nQ 9.28125 7.765625 9.28125 18.015625 \r\nL 9.28125 47.703125 \r\nL 2.6875 47.703125 \r\nL 2.6875 54.6875 \r\nL 9.28125 54.6875 \r\nL 9.28125 70.21875 \r\nz\r\n\" id=\"DejaVuSans-116\"/>\r\n      <path d=\"M 9.421875 54.6875 \r\nL 18.40625 54.6875 \r\nL 18.40625 0 \r\nL 9.421875 0 \r\nz\r\nM 9.421875 75.984375 \r\nL 18.40625 75.984375 \r\nL 18.40625 64.59375 \r\nL 9.421875 64.59375 \r\nz\r\n\" id=\"DejaVuSans-105\"/>\r\n      <path d=\"M 54.890625 33.015625 \r\nL 54.890625 0 \r\nL 45.90625 0 \r\nL 45.90625 32.71875 \r\nQ 45.90625 40.484375 42.875 44.328125 \r\nQ 39.84375 48.1875 33.796875 48.1875 \r\nQ 26.515625 48.1875 22.3125 43.546875 \r\nQ 18.109375 38.921875 18.109375 30.90625 \r\nL 18.109375 0 \r\nL 9.078125 0 \r\nL 9.078125 54.6875 \r\nL 18.109375 54.6875 \r\nL 18.109375 46.1875 \r\nQ 21.34375 51.125 25.703125 53.5625 \r\nQ 30.078125 56 35.796875 56 \r\nQ 45.21875 56 50.046875 50.171875 \r\nQ 54.890625 44.34375 54.890625 33.015625 \r\nz\r\n\" id=\"DejaVuSans-110\"/>\r\n     </defs>\r\n     <use xlink:href=\"#DejaVuSans-108\"/>\r\n     <use x=\"27.783203\" xlink:href=\"#DejaVuSans-111\"/>\r\n     <use x=\"88.964844\" xlink:href=\"#DejaVuSans-115\"/>\r\n     <use x=\"141.064453\" xlink:href=\"#DejaVuSans-115\"/>\r\n     <use x=\"193.164062\" xlink:href=\"#DejaVuSans-32\"/>\r\n     <use x=\"224.951172\" xlink:href=\"#DejaVuSans-101\"/>\r\n     <use x=\"286.474609\" xlink:href=\"#DejaVuSans-118\"/>\r\n     <use x=\"345.654297\" xlink:href=\"#DejaVuSans-97\"/>\r\n     <use x=\"406.933594\" xlink:href=\"#DejaVuSans-108\"/>\r\n     <use x=\"434.716797\" xlink:href=\"#DejaVuSans-117\"/>\r\n     <use x=\"498.095703\" xlink:href=\"#DejaVuSans-97\"/>\r\n     <use x=\"559.375\" xlink:href=\"#DejaVuSans-116\"/>\r\n     <use x=\"598.583984\" xlink:href=\"#DejaVuSans-105\"/>\r\n     <use x=\"626.367188\" xlink:href=\"#DejaVuSans-111\"/>\r\n     <use x=\"687.548828\" xlink:href=\"#DejaVuSans-110\"/>\r\n    </g>\r\n   </g>\r\n   <g id=\"legend_1\">\r\n    <g id=\"patch_7\">\r\n     <path d=\"M 256.326136 59.9525 \r\nL 327.466761 59.9525 \r\nQ 329.466761 59.9525 329.466761 57.9525 \r\nL 329.466761 29.318125 \r\nQ 329.466761 27.318125 327.466761 27.318125 \r\nL 256.326136 27.318125 \r\nQ 254.326136 27.318125 254.326136 29.318125 \r\nL 254.326136 57.9525 \r\nQ 254.326136 59.9525 256.326136 59.9525 \r\nz\r\n\" style=\"fill:#ffffff;opacity:0.8;stroke:#cccccc;stroke-linejoin:miter;\"/>\r\n    </g>\r\n    <g id=\"line2d_29\">\r\n     <path d=\"M 258.326136 35.416562 \r\nL 278.326136 35.416562 \r\n\" style=\"fill:none;stroke:#1f77b4;stroke-linecap:square;stroke-width:1.5;\"/>\r\n    </g>\r\n    <g id=\"line2d_30\"/>\r\n    <g id=\"text_15\">\r\n     <!-- loss -->\r\n     <g transform=\"translate(286.326136 38.916562)scale(0.1 -0.1)\">\r\n      <use xlink:href=\"#DejaVuSans-108\"/>\r\n      <use x=\"27.783203\" xlink:href=\"#DejaVuSans-111\"/>\r\n      <use x=\"88.964844\" xlink:href=\"#DejaVuSans-115\"/>\r\n      <use x=\"141.064453\" xlink:href=\"#DejaVuSans-115\"/>\r\n     </g>\r\n    </g>\r\n    <g id=\"line2d_31\">\r\n     <path d=\"M 258.326136 50.094687 \r\nL 278.326136 50.094687 \r\n\" style=\"fill:none;stroke:#ff7f0e;stroke-linecap:square;stroke-width:1.5;\"/>\r\n    </g>\r\n    <g id=\"line2d_32\"/>\r\n    <g id=\"text_16\">\r\n     <!-- val_loss -->\r\n     <g transform=\"translate(286.326136 53.594687)scale(0.1 -0.1)\">\r\n      <defs>\r\n       <path d=\"M 50.984375 -16.609375 \r\nL 50.984375 -23.578125 \r\nL -0.984375 -23.578125 \r\nL -0.984375 -16.609375 \r\nz\r\n\" id=\"DejaVuSans-95\"/>\r\n      </defs>\r\n      <use xlink:href=\"#DejaVuSans-118\"/>\r\n      <use x=\"59.179688\" xlink:href=\"#DejaVuSans-97\"/>\r\n      <use x=\"120.458984\" xlink:href=\"#DejaVuSans-108\"/>\r\n      <use x=\"148.242188\" xlink:href=\"#DejaVuSans-95\"/>\r\n      <use x=\"198.242188\" xlink:href=\"#DejaVuSans-108\"/>\r\n      <use x=\"226.025391\" xlink:href=\"#DejaVuSans-111\"/>\r\n      <use x=\"287.207031\" xlink:href=\"#DejaVuSans-115\"/>\r\n      <use x=\"339.306641\" xlink:href=\"#DejaVuSans-115\"/>\r\n     </g>\r\n    </g>\r\n   </g>\r\n  </g>\r\n  <g id=\"axes_2\">\r\n   <g id=\"patch_8\">\r\n    <path d=\"M 395.339489 244.699943 \r\nL 699.703125 244.699943 \r\nL 699.703125 22.318125 \r\nL 395.339489 22.318125 \r\nz\r\n\" style=\"fill:#ffffff;\"/>\r\n   </g>\r\n   <g id=\"matplotlib.axis_3\">\r\n    <g id=\"xtick_8\">\r\n     <g id=\"line2d_33\">\r\n      <path clip-path=\"url(#p078c0d6c9d)\" d=\"M 409.174199 244.699943 \r\nL 409.174199 22.318125 \r\n\" style=\"fill:none;stroke:#b0b0b0;stroke-linecap:square;stroke-width:0.8;\"/>\r\n     </g>\r\n     <g id=\"line2d_34\">\r\n      <g>\r\n       <use style=\"stroke:#000000;stroke-width:0.8;\" x=\"409.174199\" xlink:href=\"#m67eb02d842\" y=\"244.699943\"/>\r\n      </g>\r\n     </g>\r\n     <g id=\"text_17\">\r\n      <!-- 0 -->\r\n      <g transform=\"translate(405.992949 259.298381)scale(0.1 -0.1)\">\r\n       <use xlink:href=\"#DejaVuSans-48\"/>\r\n      </g>\r\n     </g>\r\n    </g>\r\n    <g id=\"xtick_9\">\r\n     <g id=\"line2d_35\">\r\n      <path clip-path=\"url(#p078c0d6c9d)\" d=\"M 456.071524 244.699943 \r\nL 456.071524 22.318125 \r\n\" style=\"fill:none;stroke:#b0b0b0;stroke-linecap:square;stroke-width:0.8;\"/>\r\n     </g>\r\n     <g id=\"line2d_36\">\r\n      <g>\r\n       <use style=\"stroke:#000000;stroke-width:0.8;\" x=\"456.071524\" xlink:href=\"#m67eb02d842\" y=\"244.699943\"/>\r\n      </g>\r\n     </g>\r\n     <g id=\"text_18\">\r\n      <!-- 10 -->\r\n      <g transform=\"translate(449.709024 259.298381)scale(0.1 -0.1)\">\r\n       <use xlink:href=\"#DejaVuSans-49\"/>\r\n       <use x=\"63.623047\" xlink:href=\"#DejaVuSans-48\"/>\r\n      </g>\r\n     </g>\r\n    </g>\r\n    <g id=\"xtick_10\">\r\n     <g id=\"line2d_37\">\r\n      <path clip-path=\"url(#p078c0d6c9d)\" d=\"M 502.968848 244.699943 \r\nL 502.968848 22.318125 \r\n\" style=\"fill:none;stroke:#b0b0b0;stroke-linecap:square;stroke-width:0.8;\"/>\r\n     </g>\r\n     <g id=\"line2d_38\">\r\n      <g>\r\n       <use style=\"stroke:#000000;stroke-width:0.8;\" x=\"502.968848\" xlink:href=\"#m67eb02d842\" y=\"244.699943\"/>\r\n      </g>\r\n     </g>\r\n     <g id=\"text_19\">\r\n      <!-- 20 -->\r\n      <g transform=\"translate(496.606348 259.298381)scale(0.1 -0.1)\">\r\n       <use xlink:href=\"#DejaVuSans-50\"/>\r\n       <use x=\"63.623047\" xlink:href=\"#DejaVuSans-48\"/>\r\n      </g>\r\n     </g>\r\n    </g>\r\n    <g id=\"xtick_11\">\r\n     <g id=\"line2d_39\">\r\n      <path clip-path=\"url(#p078c0d6c9d)\" d=\"M 549.866173 244.699943 \r\nL 549.866173 22.318125 \r\n\" style=\"fill:none;stroke:#b0b0b0;stroke-linecap:square;stroke-width:0.8;\"/>\r\n     </g>\r\n     <g id=\"line2d_40\">\r\n      <g>\r\n       <use style=\"stroke:#000000;stroke-width:0.8;\" x=\"549.866173\" xlink:href=\"#m67eb02d842\" y=\"244.699943\"/>\r\n      </g>\r\n     </g>\r\n     <g id=\"text_20\">\r\n      <!-- 30 -->\r\n      <g transform=\"translate(543.503673 259.298381)scale(0.1 -0.1)\">\r\n       <use xlink:href=\"#DejaVuSans-51\"/>\r\n       <use x=\"63.623047\" xlink:href=\"#DejaVuSans-48\"/>\r\n      </g>\r\n     </g>\r\n    </g>\r\n    <g id=\"xtick_12\">\r\n     <g id=\"line2d_41\">\r\n      <path clip-path=\"url(#p078c0d6c9d)\" d=\"M 596.763498 244.699943 \r\nL 596.763498 22.318125 \r\n\" style=\"fill:none;stroke:#b0b0b0;stroke-linecap:square;stroke-width:0.8;\"/>\r\n     </g>\r\n     <g id=\"line2d_42\">\r\n      <g>\r\n       <use style=\"stroke:#000000;stroke-width:0.8;\" x=\"596.763498\" xlink:href=\"#m67eb02d842\" y=\"244.699943\"/>\r\n      </g>\r\n     </g>\r\n     <g id=\"text_21\">\r\n      <!-- 40 -->\r\n      <g transform=\"translate(590.400998 259.298381)scale(0.1 -0.1)\">\r\n       <use xlink:href=\"#DejaVuSans-52\"/>\r\n       <use x=\"63.623047\" xlink:href=\"#DejaVuSans-48\"/>\r\n      </g>\r\n     </g>\r\n    </g>\r\n    <g id=\"xtick_13\">\r\n     <g id=\"line2d_43\">\r\n      <path clip-path=\"url(#p078c0d6c9d)\" d=\"M 643.660822 244.699943 \r\nL 643.660822 22.318125 \r\n\" style=\"fill:none;stroke:#b0b0b0;stroke-linecap:square;stroke-width:0.8;\"/>\r\n     </g>\r\n     <g id=\"line2d_44\">\r\n      <g>\r\n       <use style=\"stroke:#000000;stroke-width:0.8;\" x=\"643.660822\" xlink:href=\"#m67eb02d842\" y=\"244.699943\"/>\r\n      </g>\r\n     </g>\r\n     <g id=\"text_22\">\r\n      <!-- 50 -->\r\n      <g transform=\"translate(637.298322 259.298381)scale(0.1 -0.1)\">\r\n       <use xlink:href=\"#DejaVuSans-53\"/>\r\n       <use x=\"63.623047\" xlink:href=\"#DejaVuSans-48\"/>\r\n      </g>\r\n     </g>\r\n    </g>\r\n    <g id=\"xtick_14\">\r\n     <g id=\"line2d_45\">\r\n      <path clip-path=\"url(#p078c0d6c9d)\" d=\"M 690.558147 244.699943 \r\nL 690.558147 22.318125 \r\n\" style=\"fill:none;stroke:#b0b0b0;stroke-linecap:square;stroke-width:0.8;\"/>\r\n     </g>\r\n     <g id=\"line2d_46\">\r\n      <g>\r\n       <use style=\"stroke:#000000;stroke-width:0.8;\" x=\"690.558147\" xlink:href=\"#m67eb02d842\" y=\"244.699943\"/>\r\n      </g>\r\n     </g>\r\n     <g id=\"text_23\">\r\n      <!-- 60 -->\r\n      <g transform=\"translate(684.195647 259.298381)scale(0.1 -0.1)\">\r\n       <use xlink:href=\"#DejaVuSans-54\"/>\r\n       <use x=\"63.623047\" xlink:href=\"#DejaVuSans-48\"/>\r\n      </g>\r\n     </g>\r\n    </g>\r\n   </g>\r\n   <g id=\"matplotlib.axis_4\">\r\n    <g id=\"ytick_7\">\r\n     <g id=\"line2d_47\">\r\n      <path clip-path=\"url(#p078c0d6c9d)\" d=\"M 395.339489 228.093372 \r\nL 699.703125 228.093372 \r\n\" style=\"fill:none;stroke:#b0b0b0;stroke-linecap:square;stroke-width:0.8;\"/>\r\n     </g>\r\n     <g id=\"line2d_48\">\r\n      <g>\r\n       <use style=\"stroke:#000000;stroke-width:0.8;\" x=\"395.339489\" xlink:href=\"#m550c66765e\" y=\"228.093372\"/>\r\n      </g>\r\n     </g>\r\n     <g id=\"text_24\">\r\n      <!-- 0.2 -->\r\n      <g transform=\"translate(372.436364 231.892591)scale(0.1 -0.1)\">\r\n       <use xlink:href=\"#DejaVuSans-48\"/>\r\n       <use x=\"63.623047\" xlink:href=\"#DejaVuSans-46\"/>\r\n       <use x=\"95.410156\" xlink:href=\"#DejaVuSans-50\"/>\r\n      </g>\r\n     </g>\r\n    </g>\r\n    <g id=\"ytick_8\">\r\n     <g id=\"line2d_49\">\r\n      <path clip-path=\"url(#p078c0d6c9d)\" d=\"M 395.339489 179.176627 \r\nL 699.703125 179.176627 \r\n\" style=\"fill:none;stroke:#b0b0b0;stroke-linecap:square;stroke-width:0.8;\"/>\r\n     </g>\r\n     <g id=\"line2d_50\">\r\n      <g>\r\n       <use style=\"stroke:#000000;stroke-width:0.8;\" x=\"395.339489\" xlink:href=\"#m550c66765e\" y=\"179.176627\"/>\r\n      </g>\r\n     </g>\r\n     <g id=\"text_25\">\r\n      <!-- 0.4 -->\r\n      <g transform=\"translate(372.436364 182.975845)scale(0.1 -0.1)\">\r\n       <use xlink:href=\"#DejaVuSans-48\"/>\r\n       <use x=\"63.623047\" xlink:href=\"#DejaVuSans-46\"/>\r\n       <use x=\"95.410156\" xlink:href=\"#DejaVuSans-52\"/>\r\n      </g>\r\n     </g>\r\n    </g>\r\n    <g id=\"ytick_9\">\r\n     <g id=\"line2d_51\">\r\n      <path clip-path=\"url(#p078c0d6c9d)\" d=\"M 395.339489 130.259881 \r\nL 699.703125 130.259881 \r\n\" style=\"fill:none;stroke:#b0b0b0;stroke-linecap:square;stroke-width:0.8;\"/>\r\n     </g>\r\n     <g id=\"line2d_52\">\r\n      <g>\r\n       <use style=\"stroke:#000000;stroke-width:0.8;\" x=\"395.339489\" xlink:href=\"#m550c66765e\" y=\"130.259881\"/>\r\n      </g>\r\n     </g>\r\n     <g id=\"text_26\">\r\n      <!-- 0.6 -->\r\n      <g transform=\"translate(372.436364 134.0591)scale(0.1 -0.1)\">\r\n       <use xlink:href=\"#DejaVuSans-48\"/>\r\n       <use x=\"63.623047\" xlink:href=\"#DejaVuSans-46\"/>\r\n       <use x=\"95.410156\" xlink:href=\"#DejaVuSans-54\"/>\r\n      </g>\r\n     </g>\r\n    </g>\r\n    <g id=\"ytick_10\">\r\n     <g id=\"line2d_53\">\r\n      <path clip-path=\"url(#p078c0d6c9d)\" d=\"M 395.339489 81.343135 \r\nL 699.703125 81.343135 \r\n\" style=\"fill:none;stroke:#b0b0b0;stroke-linecap:square;stroke-width:0.8;\"/>\r\n     </g>\r\n     <g id=\"line2d_54\">\r\n      <g>\r\n       <use style=\"stroke:#000000;stroke-width:0.8;\" x=\"395.339489\" xlink:href=\"#m550c66765e\" y=\"81.343135\"/>\r\n      </g>\r\n     </g>\r\n     <g id=\"text_27\">\r\n      <!-- 0.8 -->\r\n      <g transform=\"translate(372.436364 85.142354)scale(0.1 -0.1)\">\r\n       <defs>\r\n        <path d=\"M 31.78125 34.625 \r\nQ 24.75 34.625 20.71875 30.859375 \r\nQ 16.703125 27.09375 16.703125 20.515625 \r\nQ 16.703125 13.921875 20.71875 10.15625 \r\nQ 24.75 6.390625 31.78125 6.390625 \r\nQ 38.8125 6.390625 42.859375 10.171875 \r\nQ 46.921875 13.96875 46.921875 20.515625 \r\nQ 46.921875 27.09375 42.890625 30.859375 \r\nQ 38.875 34.625 31.78125 34.625 \r\nz\r\nM 21.921875 38.8125 \r\nQ 15.578125 40.375 12.03125 44.71875 \r\nQ 8.5 49.078125 8.5 55.328125 \r\nQ 8.5 64.0625 14.71875 69.140625 \r\nQ 20.953125 74.21875 31.78125 74.21875 \r\nQ 42.671875 74.21875 48.875 69.140625 \r\nQ 55.078125 64.0625 55.078125 55.328125 \r\nQ 55.078125 49.078125 51.53125 44.71875 \r\nQ 48 40.375 41.703125 38.8125 \r\nQ 48.828125 37.15625 52.796875 32.3125 \r\nQ 56.78125 27.484375 56.78125 20.515625 \r\nQ 56.78125 9.90625 50.3125 4.234375 \r\nQ 43.84375 -1.421875 31.78125 -1.421875 \r\nQ 19.734375 -1.421875 13.25 4.234375 \r\nQ 6.78125 9.90625 6.78125 20.515625 \r\nQ 6.78125 27.484375 10.78125 32.3125 \r\nQ 14.796875 37.15625 21.921875 38.8125 \r\nz\r\nM 18.3125 54.390625 \r\nQ 18.3125 48.734375 21.84375 45.5625 \r\nQ 25.390625 42.390625 31.78125 42.390625 \r\nQ 38.140625 42.390625 41.71875 45.5625 \r\nQ 45.3125 48.734375 45.3125 54.390625 \r\nQ 45.3125 60.0625 41.71875 63.234375 \r\nQ 38.140625 66.40625 31.78125 66.40625 \r\nQ 25.390625 66.40625 21.84375 63.234375 \r\nQ 18.3125 60.0625 18.3125 54.390625 \r\nz\r\n\" id=\"DejaVuSans-56\"/>\r\n       </defs>\r\n       <use xlink:href=\"#DejaVuSans-48\"/>\r\n       <use x=\"63.623047\" xlink:href=\"#DejaVuSans-46\"/>\r\n       <use x=\"95.410156\" xlink:href=\"#DejaVuSans-56\"/>\r\n      </g>\r\n     </g>\r\n    </g>\r\n    <g id=\"ytick_11\">\r\n     <g id=\"line2d_55\">\r\n      <path clip-path=\"url(#p078c0d6c9d)\" d=\"M 395.339489 32.426389 \r\nL 699.703125 32.426389 \r\n\" style=\"fill:none;stroke:#b0b0b0;stroke-linecap:square;stroke-width:0.8;\"/>\r\n     </g>\r\n     <g id=\"line2d_56\">\r\n      <g>\r\n       <use style=\"stroke:#000000;stroke-width:0.8;\" x=\"395.339489\" xlink:href=\"#m550c66765e\" y=\"32.426389\"/>\r\n      </g>\r\n     </g>\r\n     <g id=\"text_28\">\r\n      <!-- 1.0 -->\r\n      <g transform=\"translate(372.436364 36.225608)scale(0.1 -0.1)\">\r\n       <use xlink:href=\"#DejaVuSans-49\"/>\r\n       <use x=\"63.623047\" xlink:href=\"#DejaVuSans-46\"/>\r\n       <use x=\"95.410156\" xlink:href=\"#DejaVuSans-48\"/>\r\n      </g>\r\n     </g>\r\n    </g>\r\n   </g>\r\n   <g id=\"line2d_57\">\r\n    <path clip-path=\"url(#p078c0d6c9d)\" d=\"M 409.174199 234.591679 \r\nL 413.863932 146.865813 \r\nL 418.553664 103.174701 \r\nL 423.243397 81.462762 \r\nL 427.933129 67.705093 \r\nL 432.622862 56.518225 \r\nL 437.312594 50.434821 \r\nL 442.002327 44.898658 \r\nL 446.692059 42.37875 \r\nL 451.381791 40.558821 \r\nL 456.071524 39.006142 \r\nL 460.761256 36.880768 \r\nL 465.450989 36.537142 \r\nL 470.140721 35.786271 \r\nL 474.830454 35.277196 \r\nL 479.520186 35.073566 \r\nL 484.209919 34.449949 \r\nL 488.899651 34.309953 \r\nL 493.589384 34.551764 \r\nL 498.279116 33.762697 \r\nL 502.968848 33.940873 \r\nL 507.658581 33.737243 \r\nL 512.348313 33.44454 \r\nL 517.038046 33.24091 \r\nL 521.727778 33.533628 \r\nL 526.417511 33.533628 \r\nL 531.107243 33.062733 \r\nL 535.796976 33.469994 \r\nL 540.486708 33.64817 \r\nL 545.176441 33.686336 \r\nL 549.866173 33.508174 \r\nL 554.555906 33.457267 \r\nL 559.245638 33.228183 \r\nL 563.93537 33.190002 \r\nL 568.625103 33.469994 \r\nL 573.314835 32.973645 \r\nL 578.004568 33.050007 \r\nL 582.6943 33.03728 \r\nL 587.384033 33.07546 \r\nL 592.073765 32.922738 \r\nL 596.763498 32.820923 \r\nL 601.45323 33.902693 \r\nL 606.142963 33.177275 \r\nL 610.832695 33.368178 \r\nL 615.522427 32.579112 \r\nL 620.21216 32.846376 \r\nL 624.901892 32.719108 \r\nL 629.591625 33.48272 \r\nL 634.281357 32.960918 \r\nL 638.97109 32.6682 \r\nL 643.660822 33.011826 \r\nL 648.350555 32.948191 \r\nL 653.040287 32.83365 \r\nL 657.73002 32.808196 \r\nL 662.419752 32.999099 \r\nL 667.109484 32.693654 \r\nL 671.799217 32.693654 \r\nL 676.488949 32.63002 \r\nL 681.178682 32.553658 \r\nL 685.868414 32.731835 \r\n\" style=\"fill:none;stroke:#1f77b4;stroke-linecap:square;stroke-width:1.5;\"/>\r\n   </g>\r\n   <g id=\"line2d_58\">\r\n    <path clip-path=\"url(#p078c0d6c9d)\" d=\"M 409.174199 171.420737 \r\nL 413.863932 101.196072 \r\nL 418.553664 77.382055 \r\nL 423.243397 60.189631 \r\nL 427.933129 48.490466 \r\nL 432.622862 41.957932 \r\nL 437.312594 40.027879 \r\nL 442.002327 36.553761 \r\nL 446.692059 38.602599 \r\nL 451.381791 34.26737 \r\nL 456.071524 33.554737 \r\nL 460.761256 33.020252 \r\nL 465.450989 32.604551 \r\nL 470.140721 32.634247 \r\nL 474.830454 33.139022 \r\nL 479.520186 32.604551 \r\nL 484.209919 32.604551 \r\nL 488.899651 32.545159 \r\nL 493.589384 32.723321 \r\nL 498.279116 32.456086 \r\nL 502.968848 32.84209 \r\nL 507.658581 32.426389 \r\nL 512.348313 32.485782 \r\nL 517.038046 32.723321 \r\nL 521.727778 32.426389 \r\nL 526.417511 32.485782 \r\nL 531.107243 32.693625 \r\nL 535.796976 32.901483 \r\nL 540.486708 32.485782 \r\nL 545.176441 32.456086 \r\nL 549.866173 32.485782 \r\nL 554.555906 32.515463 \r\nL 559.245638 32.456086 \r\nL 563.93537 32.456086 \r\nL 568.625103 32.485782 \r\nL 573.314835 32.426389 \r\nL 578.004568 32.485782 \r\nL 582.6943 32.426389 \r\nL 587.384033 32.960875 \r\nL 592.073765 32.485782 \r\nL 596.763498 32.515463 \r\nL 601.45323 32.931179 \r\nL 606.142963 32.574855 \r\nL 610.832695 32.426389 \r\nL 615.522427 32.426389 \r\nL 620.21216 32.456086 \r\nL 624.901892 32.871786 \r\nL 629.591625 32.545159 \r\nL 634.281357 32.426389 \r\nL 638.97109 32.426389 \r\nL 643.660822 32.515463 \r\nL 648.350555 32.456086 \r\nL 653.040287 32.426389 \r\nL 657.73002 32.574855 \r\nL 662.419752 32.426389 \r\nL 667.109484 32.426389 \r\nL 671.799217 32.426389 \r\nL 676.488949 32.426389 \r\nL 681.178682 32.426389 \r\nL 685.868414 35.217556 \r\n\" style=\"fill:none;stroke:#ff7f0e;stroke-linecap:square;stroke-width:1.5;\"/>\r\n   </g>\r\n   <g id=\"patch_9\">\r\n    <path d=\"M 395.339489 244.699943 \r\nL 395.339489 22.318125 \r\n\" style=\"fill:none;stroke:#000000;stroke-linecap:square;stroke-linejoin:miter;stroke-width:0.8;\"/>\r\n   </g>\r\n   <g id=\"patch_10\">\r\n    <path d=\"M 699.703125 244.699943 \r\nL 699.703125 22.318125 \r\n\" style=\"fill:none;stroke:#000000;stroke-linecap:square;stroke-linejoin:miter;stroke-width:0.8;\"/>\r\n   </g>\r\n   <g id=\"patch_11\">\r\n    <path d=\"M 395.339489 244.699943 \r\nL 699.703125 244.699943 \r\n\" style=\"fill:none;stroke:#000000;stroke-linecap:square;stroke-linejoin:miter;stroke-width:0.8;\"/>\r\n   </g>\r\n   <g id=\"patch_12\">\r\n    <path d=\"M 395.339489 22.318125 \r\nL 699.703125 22.318125 \r\n\" style=\"fill:none;stroke:#000000;stroke-linecap:square;stroke-linejoin:miter;stroke-width:0.8;\"/>\r\n   </g>\r\n   <g id=\"text_29\">\r\n    <!-- accuracy evaluation -->\r\n    <g transform=\"translate(486.984119 16.318125)scale(0.12 -0.12)\">\r\n     <defs>\r\n      <path d=\"M 48.78125 52.59375 \r\nL 48.78125 44.1875 \r\nQ 44.96875 46.296875 41.140625 47.34375 \r\nQ 37.3125 48.390625 33.40625 48.390625 \r\nQ 24.65625 48.390625 19.8125 42.84375 \r\nQ 14.984375 37.3125 14.984375 27.296875 \r\nQ 14.984375 17.28125 19.8125 11.734375 \r\nQ 24.65625 6.203125 33.40625 6.203125 \r\nQ 37.3125 6.203125 41.140625 7.25 \r\nQ 44.96875 8.296875 48.78125 10.40625 \r\nL 48.78125 2.09375 \r\nQ 45.015625 0.34375 40.984375 -0.53125 \r\nQ 36.96875 -1.421875 32.421875 -1.421875 \r\nQ 20.0625 -1.421875 12.78125 6.34375 \r\nQ 5.515625 14.109375 5.515625 27.296875 \r\nQ 5.515625 40.671875 12.859375 48.328125 \r\nQ 20.21875 56 33.015625 56 \r\nQ 37.15625 56 41.109375 55.140625 \r\nQ 45.0625 54.296875 48.78125 52.59375 \r\nz\r\n\" id=\"DejaVuSans-99\"/>\r\n      <path d=\"M 41.109375 46.296875 \r\nQ 39.59375 47.171875 37.8125 47.578125 \r\nQ 36.03125 48 33.890625 48 \r\nQ 26.265625 48 22.1875 43.046875 \r\nQ 18.109375 38.09375 18.109375 28.8125 \r\nL 18.109375 0 \r\nL 9.078125 0 \r\nL 9.078125 54.6875 \r\nL 18.109375 54.6875 \r\nL 18.109375 46.1875 \r\nQ 20.953125 51.171875 25.484375 53.578125 \r\nQ 30.03125 56 36.53125 56 \r\nQ 37.453125 56 38.578125 55.875 \r\nQ 39.703125 55.765625 41.0625 55.515625 \r\nz\r\n\" id=\"DejaVuSans-114\"/>\r\n      <path d=\"M 32.171875 -5.078125 \r\nQ 28.375 -14.84375 24.75 -17.8125 \r\nQ 21.140625 -20.796875 15.09375 -20.796875 \r\nL 7.90625 -20.796875 \r\nL 7.90625 -13.28125 \r\nL 13.1875 -13.28125 \r\nQ 16.890625 -13.28125 18.9375 -11.515625 \r\nQ 21 -9.765625 23.484375 -3.21875 \r\nL 25.09375 0.875 \r\nL 2.984375 54.6875 \r\nL 12.5 54.6875 \r\nL 29.59375 11.921875 \r\nL 46.6875 54.6875 \r\nL 56.203125 54.6875 \r\nz\r\n\" id=\"DejaVuSans-121\"/>\r\n     </defs>\r\n     <use xlink:href=\"#DejaVuSans-97\"/>\r\n     <use x=\"61.279297\" xlink:href=\"#DejaVuSans-99\"/>\r\n     <use x=\"116.259766\" xlink:href=\"#DejaVuSans-99\"/>\r\n     <use x=\"171.240234\" xlink:href=\"#DejaVuSans-117\"/>\r\n     <use x=\"234.619141\" xlink:href=\"#DejaVuSans-114\"/>\r\n     <use x=\"275.732422\" xlink:href=\"#DejaVuSans-97\"/>\r\n     <use x=\"337.011719\" xlink:href=\"#DejaVuSans-99\"/>\r\n     <use x=\"391.992188\" xlink:href=\"#DejaVuSans-121\"/>\r\n     <use x=\"451.171875\" xlink:href=\"#DejaVuSans-32\"/>\r\n     <use x=\"482.958984\" xlink:href=\"#DejaVuSans-101\"/>\r\n     <use x=\"544.482422\" xlink:href=\"#DejaVuSans-118\"/>\r\n     <use x=\"603.662109\" xlink:href=\"#DejaVuSans-97\"/>\r\n     <use x=\"664.941406\" xlink:href=\"#DejaVuSans-108\"/>\r\n     <use x=\"692.724609\" xlink:href=\"#DejaVuSans-117\"/>\r\n     <use x=\"756.103516\" xlink:href=\"#DejaVuSans-97\"/>\r\n     <use x=\"817.382812\" xlink:href=\"#DejaVuSans-116\"/>\r\n     <use x=\"856.591797\" xlink:href=\"#DejaVuSans-105\"/>\r\n     <use x=\"884.375\" xlink:href=\"#DejaVuSans-111\"/>\r\n     <use x=\"945.556641\" xlink:href=\"#DejaVuSans-110\"/>\r\n    </g>\r\n   </g>\r\n   <g id=\"legend_2\">\r\n    <g id=\"patch_13\">\r\n     <path d=\"M 595.759375 239.699943 \r\nL 692.703125 239.699943 \r\nQ 694.703125 239.699943 694.703125 237.699943 \r\nL 694.703125 209.065568 \r\nQ 694.703125 207.065568 692.703125 207.065568 \r\nL 595.759375 207.065568 \r\nQ 593.759375 207.065568 593.759375 209.065568 \r\nL 593.759375 237.699943 \r\nQ 593.759375 239.699943 595.759375 239.699943 \r\nz\r\n\" style=\"fill:#ffffff;opacity:0.8;stroke:#cccccc;stroke-linejoin:miter;\"/>\r\n    </g>\r\n    <g id=\"line2d_59\">\r\n     <path d=\"M 597.759375 215.164006 \r\nL 617.759375 215.164006 \r\n\" style=\"fill:none;stroke:#1f77b4;stroke-linecap:square;stroke-width:1.5;\"/>\r\n    </g>\r\n    <g id=\"line2d_60\"/>\r\n    <g id=\"text_30\">\r\n     <!-- accuracy -->\r\n     <g transform=\"translate(625.759375 218.664006)scale(0.1 -0.1)\">\r\n      <use xlink:href=\"#DejaVuSans-97\"/>\r\n      <use x=\"61.279297\" xlink:href=\"#DejaVuSans-99\"/>\r\n      <use x=\"116.259766\" xlink:href=\"#DejaVuSans-99\"/>\r\n      <use x=\"171.240234\" xlink:href=\"#DejaVuSans-117\"/>\r\n      <use x=\"234.619141\" xlink:href=\"#DejaVuSans-114\"/>\r\n      <use x=\"275.732422\" xlink:href=\"#DejaVuSans-97\"/>\r\n      <use x=\"337.011719\" xlink:href=\"#DejaVuSans-99\"/>\r\n      <use x=\"391.992188\" xlink:href=\"#DejaVuSans-121\"/>\r\n     </g>\r\n    </g>\r\n    <g id=\"line2d_61\">\r\n     <path d=\"M 597.759375 229.842131 \r\nL 617.759375 229.842131 \r\n\" style=\"fill:none;stroke:#ff7f0e;stroke-linecap:square;stroke-width:1.5;\"/>\r\n    </g>\r\n    <g id=\"line2d_62\"/>\r\n    <g id=\"text_31\">\r\n     <!-- val_accuracy -->\r\n     <g transform=\"translate(625.759375 233.342131)scale(0.1 -0.1)\">\r\n      <use xlink:href=\"#DejaVuSans-118\"/>\r\n      <use x=\"59.179688\" xlink:href=\"#DejaVuSans-97\"/>\r\n      <use x=\"120.458984\" xlink:href=\"#DejaVuSans-108\"/>\r\n      <use x=\"148.242188\" xlink:href=\"#DejaVuSans-95\"/>\r\n      <use x=\"198.242188\" xlink:href=\"#DejaVuSans-97\"/>\r\n      <use x=\"259.521484\" xlink:href=\"#DejaVuSans-99\"/>\r\n      <use x=\"314.501953\" xlink:href=\"#DejaVuSans-99\"/>\r\n      <use x=\"369.482422\" xlink:href=\"#DejaVuSans-117\"/>\r\n      <use x=\"432.861328\" xlink:href=\"#DejaVuSans-114\"/>\r\n      <use x=\"473.974609\" xlink:href=\"#DejaVuSans-97\"/>\r\n      <use x=\"535.253906\" xlink:href=\"#DejaVuSans-99\"/>\r\n      <use x=\"590.234375\" xlink:href=\"#DejaVuSans-121\"/>\r\n     </g>\r\n    </g>\r\n   </g>\r\n  </g>\r\n </g>\r\n <defs>\r\n  <clipPath id=\"pc21ff6183b\">\r\n   <rect height=\"222.381818\" width=\"304.363636\" x=\"30.103125\" y=\"22.318125\"/>\r\n  </clipPath>\r\n  <clipPath id=\"p078c0d6c9d\">\r\n   <rect height=\"222.381818\" width=\"304.363636\" x=\"395.339489\" y=\"22.318125\"/>\r\n  </clipPath>\r\n </defs>\r\n</svg>\r\n",
      "image/png": "[encoded data removed]"
     },
     "metadata": {
      "needs_background": "light"
     }
    }
   ],
   "source": [
    "plt.figure(figsize=(12,9))\n",
    "\n",
    "plt.subplot(2,2,1)\n",
    "plt.plot(history.history['loss'],label='loss')\n",
    "plt.plot(history.history['val_loss'],label='val_loss')\n",
    "plt.legend()\n",
    "plt.grid()\n",
    "plt.title('loss evaluation')\n",
    "\n",
    "\n",
    "plt.subplot(2,2,2)\n",
    "plt.plot(history.history['accuracy'],label='accuracy')\n",
    "plt.plot(history.history['val_accuracy'],label='val_accuracy')\n",
    "plt.legend()\n",
    "plt.grid()\n",
    "plt.title('accuracy evaluation')"
   ]
  },
  {
   "cell_type": "code",
   "execution_count": 29,
   "metadata": {},
   "outputs": [],
   "source": [
    "pred_class=model.predict(x_test)"
   ]
  },
  {
   "cell_type": "code",
   "execution_count": 30,
   "metadata": {},
   "outputs": [
    {
     "output_type": "execute_result",
     "data": {
      "text/plain": [
       "array([[0.        , 0.01328993, 0.        , ..., 0.02429697, 0.        ,\n",
       "        0.01344441],\n",
       "       [0.        , 0.02562349, 0.        , ..., 0.02522628, 0.        ,\n",
       "        0.01161819],\n",
       "       [0.        , 0.03066199, 0.        , ..., 0.03185191, 0.        ,\n",
       "        0.01245021],\n",
       "       ...,\n",
       "       [0.        , 0.02941325, 0.        , ..., 0.04188354, 0.        ,\n",
       "        0.01966888],\n",
       "       [0.        , 0.0418606 , 0.        , ..., 0.04364152, 0.        ,\n",
       "        0.02207161],\n",
       "       [0.        , 0.02855926, 0.        , ..., 0.02382913, 0.        ,\n",
       "        0.01527061]], dtype=float32)"
      ]
     },
     "metadata": {},
     "execution_count": 30
    }
   ],
   "source": [
    "pred_class"
   ]
  },
  {
   "cell_type": "code",
   "execution_count": 1,
   "metadata": {},
   "outputs": [
    {
     "output_type": "error",
     "ename": "NameError",
     "evalue": "name 'plt' is not defined",
     "traceback": [
      "\u001b[1;31m---------------------------------------------------------------------------\u001b[0m",
      "\u001b[1;31mNameError\u001b[0m                                 Traceback (most recent call last)",
      "\u001b[1;32m<ipython-input-1-c78839dc5a7d>\u001b[0m in \u001b[0;36m<module>\u001b[1;34m\u001b[0m\n\u001b[0;32m      1\u001b[0m \u001b[0mr\u001b[0m\u001b[1;33m,\u001b[0m\u001b[0mc\u001b[0m\u001b[1;33m=\u001b[0m\u001b[1;36m5\u001b[0m\u001b[1;33m,\u001b[0m\u001b[1;36m5\u001b[0m\u001b[1;33m\u001b[0m\u001b[1;33m\u001b[0m\u001b[0m\n\u001b[1;32m----> 2\u001b[1;33m \u001b[0mfig\u001b[0m\u001b[1;33m,\u001b[0m\u001b[0maxes\u001b[0m\u001b[1;33m=\u001b[0m\u001b[0mplt\u001b[0m\u001b[1;33m.\u001b[0m\u001b[0msubplots\u001b[0m\u001b[1;33m(\u001b[0m\u001b[0mr\u001b[0m\u001b[1;33m,\u001b[0m\u001b[0mc\u001b[0m\u001b[1;33m,\u001b[0m\u001b[0mfigsize\u001b[0m\u001b[1;33m=\u001b[0m\u001b[1;33m(\u001b[0m\u001b[1;36m12\u001b[0m\u001b[1;33m,\u001b[0m\u001b[1;36m12\u001b[0m\u001b[1;33m)\u001b[0m\u001b[1;33m)\u001b[0m\u001b[1;33m\u001b[0m\u001b[1;33m\u001b[0m\u001b[0m\n\u001b[0m\u001b[0;32m      3\u001b[0m \u001b[0maxes\u001b[0m \u001b[1;33m=\u001b[0m \u001b[0maxes\u001b[0m\u001b[1;33m.\u001b[0m\u001b[0mravel\u001b[0m\u001b[1;33m(\u001b[0m\u001b[1;33m)\u001b[0m\u001b[1;33m\u001b[0m\u001b[1;33m\u001b[0m\u001b[0m\n\u001b[0;32m      4\u001b[0m \u001b[1;33m\u001b[0m\u001b[0m\n\u001b[0;32m      5\u001b[0m \u001b[1;32mfor\u001b[0m \u001b[0mi\u001b[0m \u001b[1;32min\u001b[0m \u001b[0mnp\u001b[0m\u001b[1;33m.\u001b[0m\u001b[0marange\u001b[0m\u001b[1;33m(\u001b[0m\u001b[1;36m0\u001b[0m\u001b[1;33m,\u001b[0m\u001b[0mr\u001b[0m\u001b[1;33m*\u001b[0m\u001b[0mc\u001b[0m\u001b[1;33m)\u001b[0m\u001b[1;33m:\u001b[0m\u001b[1;33m\u001b[0m\u001b[1;33m\u001b[0m\u001b[0m\n",
      "\u001b[1;31mNameError\u001b[0m: name 'plt' is not defined"
     ]
    }
   ],
   "source": [
    "r,c=5,5\n",
    "fig,axes=plt.subplots(r,c,figsize=(12,12))\n",
    "axes = axes.ravel()\n",
    "\n",
    "for i in np.arange(0,r*c):\n",
    "    axes[i].imshow(x_test[i].reshape(28,28))\n",
    "    axes[i].set_title(f\"pclass={pred_class[i]:0.1f}\\n Tclass={y_test[i]:0.1f}\")\n",
    "    axes[i].axis('on')\n",
    "plt.subplots_adjust(wspace=1)    "
   ]
  },
  {
   "cell_type": "code",
   "execution_count": null,
   "metadata": {},
   "outputs": [],
   "source": []
  }
 ]
}